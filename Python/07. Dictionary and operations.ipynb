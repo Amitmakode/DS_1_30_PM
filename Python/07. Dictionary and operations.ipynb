{
 "cells": [
  {
   "cell_type": "code",
   "execution_count": 1,
   "id": "b490a749-e0a6-4b06-8b4c-ced68e17d0b6",
   "metadata": {},
   "outputs": [],
   "source": [
    "dict = {}"
   ]
  },
  {
   "cell_type": "code",
   "execution_count": 2,
   "id": "8deff0be-f661-41af-83a1-7e929a437968",
   "metadata": {},
   "outputs": [],
   "source": [
    "d1 = {\"jan\":31, \"feb\": 28, \"march\":31, \"april\":30}"
   ]
  },
  {
   "cell_type": "code",
   "execution_count": 3,
   "id": "b5a73ecd-7352-422f-9865-68625add016e",
   "metadata": {},
   "outputs": [
    {
     "ename": "KeyError",
     "evalue": "2",
     "output_type": "error",
     "traceback": [
      "\u001b[1;31m---------------------------------------------------------------------------\u001b[0m",
      "\u001b[1;31mKeyError\u001b[0m                                  Traceback (most recent call last)",
      "Cell \u001b[1;32mIn[3], line 1\u001b[0m\n\u001b[1;32m----> 1\u001b[0m d1[\u001b[38;5;241m2\u001b[39m]\n",
      "\u001b[1;31mKeyError\u001b[0m: 2"
     ]
    }
   ],
   "source": [
    "d1[2]"
   ]
  },
  {
   "cell_type": "code",
   "execution_count": 4,
   "id": "456952e6-a38c-49ea-ad13-f6280fa334d2",
   "metadata": {},
   "outputs": [
    {
     "data": {
      "text/plain": [
       "31"
      ]
     },
     "execution_count": 4,
     "metadata": {},
     "output_type": "execute_result"
    }
   ],
   "source": [
    "d1[\"jan\"]"
   ]
  },
  {
   "cell_type": "code",
   "execution_count": 5,
   "id": "ff629caa-5dc6-4720-91d1-d003aad908a2",
   "metadata": {},
   "outputs": [
    {
     "ename": "KeyError",
     "evalue": "31",
     "output_type": "error",
     "traceback": [
      "\u001b[1;31m---------------------------------------------------------------------------\u001b[0m",
      "\u001b[1;31mKeyError\u001b[0m                                  Traceback (most recent call last)",
      "Cell \u001b[1;32mIn[5], line 1\u001b[0m\n\u001b[1;32m----> 1\u001b[0m d1[\u001b[38;5;241m31\u001b[39m]\n",
      "\u001b[1;31mKeyError\u001b[0m: 31"
     ]
    }
   ],
   "source": [
    "d1[31]"
   ]
  },
  {
   "cell_type": "code",
   "execution_count": 7,
   "id": "b00e66c8-4dd8-4ed9-8df3-678ce3b0175e",
   "metadata": {},
   "outputs": [
    {
     "ename": "TypeError",
     "evalue": "unhashable type: 'slice'",
     "output_type": "error",
     "traceback": [
      "\u001b[1;31m---------------------------------------------------------------------------\u001b[0m",
      "\u001b[1;31mTypeError\u001b[0m                                 Traceback (most recent call last)",
      "Cell \u001b[1;32mIn[7], line 1\u001b[0m\n\u001b[1;32m----> 1\u001b[0m d1[\u001b[38;5;124m\"\u001b[39m\u001b[38;5;124mjan\u001b[39m\u001b[38;5;124m\"\u001b[39m:\u001b[38;5;124m\"\u001b[39m\u001b[38;5;124mmarch\u001b[39m\u001b[38;5;124m\"\u001b[39m]\n",
      "\u001b[1;31mTypeError\u001b[0m: unhashable type: 'slice'"
     ]
    }
   ],
   "source": [
    "d1[\"jan\":\"march\"]"
   ]
  },
  {
   "cell_type": "code",
   "execution_count": 8,
   "id": "a8c1551c-c5d3-42c8-a668-9d3ce2f8601a",
   "metadata": {},
   "outputs": [
    {
     "ename": "TypeError",
     "evalue": "unsupported operand type(s) for +: 'dict' and 'dict'",
     "output_type": "error",
     "traceback": [
      "\u001b[1;31m---------------------------------------------------------------------------\u001b[0m",
      "\u001b[1;31mTypeError\u001b[0m                                 Traceback (most recent call last)",
      "Cell \u001b[1;32mIn[8], line 1\u001b[0m\n\u001b[1;32m----> 1\u001b[0m d1 \u001b[38;5;241m+\u001b[39m d1\n",
      "\u001b[1;31mTypeError\u001b[0m: unsupported operand type(s) for +: 'dict' and 'dict'"
     ]
    }
   ],
   "source": [
    "d1 + d1"
   ]
  },
  {
   "cell_type": "code",
   "execution_count": 9,
   "id": "6d57c8de-f4e4-4405-9a5f-1b3a3760c57a",
   "metadata": {},
   "outputs": [
    {
     "ename": "TypeError",
     "evalue": "unsupported operand type(s) for *: 'dict' and 'int'",
     "output_type": "error",
     "traceback": [
      "\u001b[1;31m---------------------------------------------------------------------------\u001b[0m",
      "\u001b[1;31mTypeError\u001b[0m                                 Traceback (most recent call last)",
      "Cell \u001b[1;32mIn[9], line 1\u001b[0m\n\u001b[1;32m----> 1\u001b[0m d1\u001b[38;5;241m*\u001b[39m \u001b[38;5;241m3\u001b[39m\n",
      "\u001b[1;31mTypeError\u001b[0m: unsupported operand type(s) for *: 'dict' and 'int'"
     ]
    }
   ],
   "source": [
    "d1* 3"
   ]
  },
  {
   "cell_type": "code",
   "execution_count": 10,
   "id": "0500b7ab-ce19-425e-bfeb-02163a6cb19a",
   "metadata": {},
   "outputs": [],
   "source": [
    "d1[\"jan\"] = 32"
   ]
  },
  {
   "cell_type": "code",
   "execution_count": 11,
   "id": "204c775d-a0d2-4275-ab06-e382b6036fb2",
   "metadata": {},
   "outputs": [
    {
     "data": {
      "text/plain": [
       "{'jan': 32, 'feb': 28, 'march': 31, 'april': 30}"
      ]
     },
     "execution_count": 11,
     "metadata": {},
     "output_type": "execute_result"
    }
   ],
   "source": [
    "d1"
   ]
  },
  {
   "cell_type": "code",
   "execution_count": 12,
   "id": "a3db6002-7560-45a8-9efa-6b26709bc521",
   "metadata": {},
   "outputs": [
    {
     "data": {
      "text/plain": [
       "dict_keys(['jan', 'feb', 'march', 'april'])"
      ]
     },
     "execution_count": 12,
     "metadata": {},
     "output_type": "execute_result"
    }
   ],
   "source": [
    "d1.keys()"
   ]
  },
  {
   "cell_type": "code",
   "execution_count": 13,
   "id": "2de0afa0-7884-4a93-a614-3b4450052ac0",
   "metadata": {},
   "outputs": [
    {
     "data": {
      "text/plain": [
       "dict_values([32, 28, 31, 30])"
      ]
     },
     "execution_count": 13,
     "metadata": {},
     "output_type": "execute_result"
    }
   ],
   "source": [
    "d1.values()"
   ]
  },
  {
   "cell_type": "code",
   "execution_count": 14,
   "id": "0b16ba25-ce92-4078-a38f-5a61ced2349e",
   "metadata": {},
   "outputs": [
    {
     "data": {
      "text/plain": [
       "dict_items([('jan', 32), ('feb', 28), ('march', 31), ('april', 30)])"
      ]
     },
     "execution_count": 14,
     "metadata": {},
     "output_type": "execute_result"
    }
   ],
   "source": [
    "d1.items()"
   ]
  },
  {
   "cell_type": "code",
   "execution_count": 15,
   "id": "18d47e77-d483-4543-ad0b-f972271bd9fa",
   "metadata": {},
   "outputs": [
    {
     "data": {
      "text/plain": [
       "28"
      ]
     },
     "execution_count": 15,
     "metadata": {},
     "output_type": "execute_result"
    }
   ],
   "source": [
    "d1.get(\"feb\")"
   ]
  },
  {
   "cell_type": "code",
   "execution_count": 16,
   "id": "646bbda1-b6be-44b2-add8-5bb4cca05b5d",
   "metadata": {},
   "outputs": [],
   "source": [
    "d1.get(\"may\")"
   ]
  },
  {
   "cell_type": "code",
   "execution_count": 17,
   "id": "9477530a-35c0-418a-b22e-7c93bdf18a16",
   "metadata": {},
   "outputs": [
    {
     "ename": "KeyError",
     "evalue": "'may'",
     "output_type": "error",
     "traceback": [
      "\u001b[1;31m---------------------------------------------------------------------------\u001b[0m",
      "\u001b[1;31mKeyError\u001b[0m                                  Traceback (most recent call last)",
      "Cell \u001b[1;32mIn[17], line 1\u001b[0m\n\u001b[1;32m----> 1\u001b[0m d1[\u001b[38;5;124m\"\u001b[39m\u001b[38;5;124mmay\u001b[39m\u001b[38;5;124m\"\u001b[39m]\n",
      "\u001b[1;31mKeyError\u001b[0m: 'may'"
     ]
    }
   ],
   "source": [
    "d1[\"may\"]"
   ]
  },
  {
   "cell_type": "code",
   "execution_count": 33,
   "id": "3fca6413-6899-4547-8161-f97c5ea5f04c",
   "metadata": {},
   "outputs": [],
   "source": [
    "d1.update({\"june\":30})"
   ]
  },
  {
   "cell_type": "code",
   "execution_count": 34,
   "id": "97ffa78d-c966-4d46-8469-b928d5b464a1",
   "metadata": {},
   "outputs": [
    {
     "ename": "KeyError",
     "evalue": "'jan'",
     "output_type": "error",
     "traceback": [
      "\u001b[1;31m---------------------------------------------------------------------------\u001b[0m",
      "\u001b[1;31mKeyError\u001b[0m                                  Traceback (most recent call last)",
      "Cell \u001b[1;32mIn[34], line 1\u001b[0m\n\u001b[1;32m----> 1\u001b[0m d1\u001b[38;5;241m.\u001b[39mpop(\u001b[38;5;124m\"\u001b[39m\u001b[38;5;124mjan\u001b[39m\u001b[38;5;124m\"\u001b[39m)\n",
      "\u001b[1;31mKeyError\u001b[0m: 'jan'"
     ]
    }
   ],
   "source": [
    "d1.pop(\"jan\")"
   ]
  },
  {
   "cell_type": "code",
   "execution_count": 29,
   "id": "284683d3-fb53-4621-bd40-7d11ee2657d5",
   "metadata": {},
   "outputs": [
    {
     "data": {
      "text/plain": [
       "{'feb': 28, 'march': 31, 'april': 30}"
      ]
     },
     "execution_count": 29,
     "metadata": {},
     "output_type": "execute_result"
    }
   ],
   "source": [
    "d1"
   ]
  },
  {
   "cell_type": "code",
   "execution_count": 30,
   "id": "89348ca4-d4f4-4025-b7f2-0e1216291213",
   "metadata": {},
   "outputs": [
    {
     "data": {
      "text/plain": [
       "('april', 30)"
      ]
     },
     "execution_count": 30,
     "metadata": {},
     "output_type": "execute_result"
    }
   ],
   "source": [
    "d1.popitem()"
   ]
  },
  {
   "cell_type": "code",
   "execution_count": 35,
   "id": "b79b6f59-4ae1-40bb-9201-4ec16a79785d",
   "metadata": {},
   "outputs": [
    {
     "data": {
      "text/plain": [
       "{'feb': 28, 'march': 31, 'june': 30}"
      ]
     },
     "execution_count": 35,
     "metadata": {},
     "output_type": "execute_result"
    }
   ],
   "source": [
    "d1"
   ]
  },
  {
   "cell_type": "code",
   "execution_count": 37,
   "id": "f7e13db6-7930-484c-a8e9-184b36726532",
   "metadata": {},
   "outputs": [],
   "source": [
    "d1[\"may\"] = None"
   ]
  },
  {
   "cell_type": "code",
   "execution_count": 38,
   "id": "4979c9f4-aee5-4f5a-b802-8f23add4cc35",
   "metadata": {},
   "outputs": [
    {
     "data": {
      "text/plain": [
       "{'feb': 28, 'march': 31, 'june': 30, 'may': None}"
      ]
     },
     "execution_count": 38,
     "metadata": {},
     "output_type": "execute_result"
    }
   ],
   "source": [
    "d1"
   ]
  },
  {
   "cell_type": "code",
   "execution_count": 39,
   "id": "5c6b8ed7-0195-418b-ae92-6ee4032c8d04",
   "metadata": {},
   "outputs": [],
   "source": [
    "d1[\"may\"] =31"
   ]
  },
  {
   "cell_type": "code",
   "execution_count": 40,
   "id": "9fa1dc4d-2022-41d9-a99e-50e1325a7d74",
   "metadata": {},
   "outputs": [
    {
     "data": {
      "text/plain": [
       "{'feb': 28, 'march': 31, 'june': 30, 'may': 31}"
      ]
     },
     "execution_count": 40,
     "metadata": {},
     "output_type": "execute_result"
    }
   ],
   "source": [
    "d1"
   ]
  },
  {
   "cell_type": "code",
   "execution_count": 41,
   "id": "e20a365f-e116-46bb-af07-b0626bd4fe95",
   "metadata": {},
   "outputs": [
    {
     "data": {
      "text/plain": [
       "True"
      ]
     },
     "execution_count": 41,
     "metadata": {},
     "output_type": "execute_result"
    }
   ],
   "source": [
    "\"may\" in d1"
   ]
  },
  {
   "cell_type": "code",
   "execution_count": 54,
   "id": "f6507b32-4af9-4f30-a9c4-d6f2bbd9c4a7",
   "metadata": {},
   "outputs": [],
   "source": [
    "d2 = {'feb': 28, 'march': [28,29,{0,11,22},30,31], 'june': {1,2,(\"a\", \"b\", \"c\"),3,30}, 'may': (31,32,33,34)}"
   ]
  },
  {
   "cell_type": "code",
   "execution_count": 55,
   "id": "58589eb8-de0f-41a5-bd43-70741a427f96",
   "metadata": {},
   "outputs": [
    {
     "data": {
      "text/plain": [
       "{'feb': 28,\n",
       " 'march': [28, 29, {0, 11, 22}, 30, 31],\n",
       " 'june': {('a', 'b', 'c'), 1, 2, 3, 30},\n",
       " 'may': (31, 32, 33, 34)}"
      ]
     },
     "execution_count": 55,
     "metadata": {},
     "output_type": "execute_result"
    }
   ],
   "source": [
    "d2"
   ]
  },
  {
   "cell_type": "code",
   "execution_count": 59,
   "id": "0285c604-062b-4909-97d0-5df79f3d3eeb",
   "metadata": {},
   "outputs": [
    {
     "ename": "TypeError",
     "evalue": "'set' object is not subscriptable",
     "output_type": "error",
     "traceback": [
      "\u001b[1;31m---------------------------------------------------------------------------\u001b[0m",
      "\u001b[1;31mTypeError\u001b[0m                                 Traceback (most recent call last)",
      "Cell \u001b[1;32mIn[59], line 1\u001b[0m\n\u001b[1;32m----> 1\u001b[0m d2[\u001b[38;5;124m\"\u001b[39m\u001b[38;5;124mjune\u001b[39m\u001b[38;5;124m\"\u001b[39m][\u001b[38;5;241m0\u001b[39m]\n",
      "\u001b[1;31mTypeError\u001b[0m: 'set' object is not subscriptable"
     ]
    }
   ],
   "source": [
    "d2[\"june\"][0]"
   ]
  },
  {
   "cell_type": "code",
   "execution_count": 60,
   "id": "21661e83-7dac-4d7b-b896-92f9b730dd39",
   "metadata": {},
   "outputs": [],
   "source": [
    "d3 = {\"id\": 11, \"name\":[{\"fist name\":\"rohit\"},{\"last name\":\"sharma\"}], \"formate\":{\"t20\",\"odi\",\"test\"} }"
   ]
  },
  {
   "cell_type": "code",
   "execution_count": 61,
   "id": "b74b2b23-8bda-4890-9673-15e8c62e339b",
   "metadata": {},
   "outputs": [
    {
     "data": {
      "text/plain": [
       "{'id': 11,\n",
       " 'name': [{'fist name': 'rohit'}, {'last name': 'sharma'}],\n",
       " 'formate': {'odi', 't20', 'test'}}"
      ]
     },
     "execution_count": 61,
     "metadata": {},
     "output_type": "execute_result"
    }
   ],
   "source": [
    "d3"
   ]
  },
  {
   "cell_type": "code",
   "execution_count": 64,
   "id": "192a829d-82d1-4597-8d6e-34bd584c260a",
   "metadata": {},
   "outputs": [
    {
     "data": {
      "text/plain": [
       "{'odi', 't20', 'test'}"
      ]
     },
     "execution_count": 64,
     "metadata": {},
     "output_type": "execute_result"
    }
   ],
   "source": [
    "d3[\"formate\"]"
   ]
  },
  {
   "cell_type": "code",
   "execution_count": 67,
   "id": "72086dc2-5642-4ddb-a734-ee8764ec86e7",
   "metadata": {},
   "outputs": [
    {
     "data": {
      "text/plain": [
       "'sharma'"
      ]
     },
     "execution_count": 67,
     "metadata": {},
     "output_type": "execute_result"
    }
   ],
   "source": [
    "d3[\"name\"][1][\"last name\"]"
   ]
  },
  {
   "cell_type": "code",
   "execution_count": null,
   "id": "01e84327-3b7b-4014-b3cd-b304cf631a4d",
   "metadata": {},
   "outputs": [],
   "source": []
  },
  {
   "cell_type": "code",
   "execution_count": null,
   "id": "4e016498-a3a3-41e7-b91c-5f8c875819bd",
   "metadata": {},
   "outputs": [],
   "source": []
  },
  {
   "cell_type": "code",
   "execution_count": null,
   "id": "9d48f853-9b73-4adc-ab3a-38b3942fae88",
   "metadata": {},
   "outputs": [],
   "source": []
  }
 ],
 "metadata": {
  "kernelspec": {
   "display_name": "Python 3 (ipykernel)",
   "language": "python",
   "name": "python3"
  },
  "language_info": {
   "codemirror_mode": {
    "name": "ipython",
    "version": 3
   },
   "file_extension": ".py",
   "mimetype": "text/x-python",
   "name": "python",
   "nbconvert_exporter": "python",
   "pygments_lexer": "ipython3",
   "version": "3.11.7"
  }
 },
 "nbformat": 4,
 "nbformat_minor": 5
}
