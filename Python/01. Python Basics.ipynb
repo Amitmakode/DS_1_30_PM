{
 "cells": [
  {
   "cell_type": "markdown",
   "id": "c94aeef6-7462-4dbf-90bb-459ac368a4f5",
   "metadata": {},
   "source": [
    "### Datatypes"
   ]
  },
  {
   "cell_type": "code",
   "execution_count": null,
   "id": "baf0f8f7-f477-44bc-8622-b914fb97301b",
   "metadata": {},
   "outputs": [],
   "source": [
    "int\n",
    "float\n",
    "complex\n",
    "bool\n",
    "str\n",
    "tuple\n",
    "list\n",
    "set\n",
    "dict"
   ]
  },
  {
   "cell_type": "markdown",
   "id": "35dd837a-b588-4cd2-814e-52abee77835f",
   "metadata": {},
   "source": [
    "### Operators"
   ]
  },
  {
   "cell_type": "code",
   "execution_count": null,
   "id": "6a2f3f64-366f-4c07-b05f-881df5b56f1f",
   "metadata": {},
   "outputs": [],
   "source": [
    "#Arithmetics\n",
    "\n",
    "+\n",
    "-\n",
    "*\n",
    "/\n",
    "%\n",
    "//\n",
    "**\n",
    "\n",
    "\n",
    "#Comparision\n",
    "<\n",
    ">\n",
    "==\n",
    "<=\n",
    ">=\n",
    "!=\n",
    "\n",
    "#logical\n",
    "\n",
    "and \n",
    "or\n",
    "not\n",
    "is\n",
    "in\n",
    "\n",
    "\n",
    "#assingment\n",
    "\n",
    "="
   ]
  },
  {
   "cell_type": "markdown",
   "id": "b4ac16d7-0d94-49af-8065-f7e136929fcb",
   "metadata": {},
   "source": [
    "### Variables"
   ]
  },
  {
   "cell_type": "code",
   "execution_count": 1,
   "id": "ffbb85de-3296-4f79-bc6d-1b88883cb0f4",
   "metadata": {},
   "outputs": [],
   "source": [
    "name= \"xyz\""
   ]
  },
  {
   "cell_type": "code",
   "execution_count": null,
   "id": "169783db-447e-4c17-8827-5d47af582c2b",
   "metadata": {},
   "outputs": [],
   "source": [
    "1name = \"xyz\"\n",
    "name 1 = \"xyz\"\n",
    "name@ = \"Xyz\"\n",
    "first_name = \"xyz\"\n",
    "_ = 123\n",
    "\n",
    "a,b,c = 10,20,30"
   ]
  },
  {
   "cell_type": "markdown",
   "id": "54429941-e9fb-474a-8e37-073411c5c99b",
   "metadata": {},
   "source": [
    "### Typecasting"
   ]
  },
  {
   "cell_type": "code",
   "execution_count": 2,
   "id": "79cec558-71ac-474b-b694-a6843b894526",
   "metadata": {},
   "outputs": [],
   "source": [
    "a = 10\n",
    "b = 20\n",
    "c = 30"
   ]
  },
  {
   "cell_type": "code",
   "execution_count": 3,
   "id": "1924149a-6895-4a29-a254-e3ef06712df9",
   "metadata": {},
   "outputs": [
    {
     "data": {
      "text/plain": [
       "True"
      ]
     },
     "execution_count": 3,
     "metadata": {},
     "output_type": "execute_result"
    }
   ],
   "source": [
    "a < b"
   ]
  },
  {
   "cell_type": "code",
   "execution_count": 4,
   "id": "4d8757e9-06ce-4d38-a6c8-d2ce173e2bb3",
   "metadata": {},
   "outputs": [
    {
     "data": {
      "text/plain": [
       "False"
      ]
     },
     "execution_count": 4,
     "metadata": {},
     "output_type": "execute_result"
    }
   ],
   "source": [
    "b > c"
   ]
  },
  {
   "cell_type": "code",
   "execution_count": 5,
   "id": "9551b1a4-6822-4b42-89a4-52eaca50580f",
   "metadata": {},
   "outputs": [
    {
     "data": {
      "text/plain": [
       "False"
      ]
     },
     "execution_count": 5,
     "metadata": {},
     "output_type": "execute_result"
    }
   ],
   "source": [
    "a< b and b > c"
   ]
  },
  {
   "cell_type": "code",
   "execution_count": 6,
   "id": "3e79e5a4-4beb-4482-a8f7-0581d2f1bfee",
   "metadata": {},
   "outputs": [
    {
     "data": {
      "text/plain": [
       "True"
      ]
     },
     "execution_count": 6,
     "metadata": {},
     "output_type": "execute_result"
    }
   ],
   "source": [
    "a< b or b > c"
   ]
  },
  {
   "cell_type": "code",
   "execution_count": 8,
   "id": "2429d12b-83ed-40bc-9a05-1f59825c4837",
   "metadata": {},
   "outputs": [
    {
     "data": {
      "text/plain": [
       "1"
      ]
     },
     "execution_count": 8,
     "metadata": {},
     "output_type": "execute_result"
    }
   ],
   "source": [
    "int(True)"
   ]
  },
  {
   "cell_type": "code",
   "execution_count": 9,
   "id": "a5350893-1970-427c-8bda-8a3a23558b69",
   "metadata": {},
   "outputs": [
    {
     "data": {
      "text/plain": [
       "1.0"
      ]
     },
     "execution_count": 9,
     "metadata": {},
     "output_type": "execute_result"
    }
   ],
   "source": [
    "float(True)"
   ]
  },
  {
   "cell_type": "code",
   "execution_count": 10,
   "id": "c703fa31-d486-4fd2-91ee-293f8e7525a5",
   "metadata": {},
   "outputs": [
    {
     "data": {
      "text/plain": [
       "True"
      ]
     },
     "execution_count": 10,
     "metadata": {},
     "output_type": "execute_result"
    }
   ],
   "source": [
    "not(4==5)"
   ]
  },
  {
   "cell_type": "code",
   "execution_count": 11,
   "id": "de246a44-4498-4d9d-a40e-de8ef6c9e9ae",
   "metadata": {},
   "outputs": [
    {
     "data": {
      "text/plain": [
       "True"
      ]
     },
     "execution_count": 11,
     "metadata": {},
     "output_type": "execute_result"
    }
   ],
   "source": [
    "not(a>b)"
   ]
  },
  {
   "cell_type": "code",
   "execution_count": 12,
   "id": "74f51760-a2ae-40d3-a100-27d4bf8080d0",
   "metadata": {},
   "outputs": [],
   "source": [
    "l1 = [1,2,3,4,5]"
   ]
  },
  {
   "cell_type": "code",
   "execution_count": 13,
   "id": "7a9ce285-e465-4772-853d-8499ac8946f3",
   "metadata": {},
   "outputs": [],
   "source": [
    "l2 = [\"a\", \"b\", \"c\"]"
   ]
  },
  {
   "cell_type": "code",
   "execution_count": 14,
   "id": "050e05e1-1414-4315-9673-77758efb8e94",
   "metadata": {},
   "outputs": [],
   "source": [
    "l3 = [1,2,3.5, True, \"abc\", [1,2,3], {1,2,3}, (\"a\", \"b\"), {1:\"a\",2:\"b\"}]"
   ]
  },
  {
   "cell_type": "code",
   "execution_count": 15,
   "id": "d45a652a-a71a-4b2e-8814-1344905b3c71",
   "metadata": {},
   "outputs": [
    {
     "data": {
      "text/plain": [
       "[1, 2, 3, 4, 5]"
      ]
     },
     "execution_count": 15,
     "metadata": {},
     "output_type": "execute_result"
    }
   ],
   "source": [
    "l1"
   ]
  },
  {
   "cell_type": "code",
   "execution_count": 16,
   "id": "47915932-2d67-409f-9402-cd21b32cde2c",
   "metadata": {},
   "outputs": [],
   "source": [
    "t1 = (1, 2, 3, 4, 5)"
   ]
  },
  {
   "cell_type": "code",
   "execution_count": 17,
   "id": "63298ff7-b82c-4f53-9662-e1477881195c",
   "metadata": {},
   "outputs": [],
   "source": [
    "t2 = (\"a\", \"b\", \"c\")"
   ]
  },
  {
   "cell_type": "code",
   "execution_count": 18,
   "id": "edca72a2-09c5-403e-9577-0b6d187b560e",
   "metadata": {},
   "outputs": [],
   "source": [
    "t3 = (1,2,3.5, True, \"abc\", [1,2,3], {1,2,3}, (\"a\", \"b\"), {1:\"a\",2:\"b\"})"
   ]
  },
  {
   "cell_type": "code",
   "execution_count": 19,
   "id": "7ccdaf00-fef8-4a9f-bfa9-cf812da563a9",
   "metadata": {},
   "outputs": [],
   "source": [
    "s1 = {1, 2, 3, 4, 5}"
   ]
  },
  {
   "cell_type": "code",
   "execution_count": 20,
   "id": "4bd0c48d-3346-49bc-a886-a3a23e3e8d1a",
   "metadata": {},
   "outputs": [],
   "source": [
    "s2 ={\"a\", \"b\", \"c\"}"
   ]
  },
  {
   "cell_type": "code",
   "execution_count": 24,
   "id": "8b1f6d9e-406a-4f57-af4f-024b5e142fcc",
   "metadata": {},
   "outputs": [],
   "source": [
    "s3 = {1,2,3.5, True, \"abc\", (\"a\", \"b\")}"
   ]
  },
  {
   "cell_type": "code",
   "execution_count": 26,
   "id": "0faa50b4-ed2c-41af-99e6-9571214466e8",
   "metadata": {},
   "outputs": [],
   "source": [
    "d1= {1:\"a\", 2:\"b\", 3:\"c\"}"
   ]
  },
  {
   "cell_type": "code",
   "execution_count": 27,
   "id": "9c7e1c95-c615-4557-8c17-ba8302b626c3",
   "metadata": {},
   "outputs": [],
   "source": [
    "d2 = {1:True}"
   ]
  },
  {
   "cell_type": "code",
   "execution_count": 28,
   "id": "e5b4f2fe-8404-45c6-a1a7-8118231c0514",
   "metadata": {},
   "outputs": [],
   "source": [
    "d2 = {1:45+5j}"
   ]
  },
  {
   "cell_type": "code",
   "execution_count": 29,
   "id": "91193161-6c09-48d0-a830-57e635277470",
   "metadata": {},
   "outputs": [],
   "source": [
    "d2 = {1:[1,23,5]}"
   ]
  },
  {
   "cell_type": "code",
   "execution_count": 30,
   "id": "2cfa27ba-e72e-4d41-8e5b-3913de02172d",
   "metadata": {},
   "outputs": [],
   "source": [
    "d2 = {1:{2,3,4,5}}"
   ]
  },
  {
   "cell_type": "code",
   "execution_count": 31,
   "id": "e84c81c5-21b7-49de-a007-a1c24a0610d3",
   "metadata": {},
   "outputs": [],
   "source": [
    "d2 = {1:(2,3,4)}"
   ]
  },
  {
   "cell_type": "code",
   "execution_count": 32,
   "id": "597c67af-49c5-496d-a87d-c24fca6f6ce4",
   "metadata": {},
   "outputs": [],
   "source": [
    "d2 = {1:{2:\"b\", 3:\"c\"}}"
   ]
  },
  {
   "cell_type": "code",
   "execution_count": 40,
   "id": "c7ef4ac9-225b-4583-adf3-7c2b3e4256ee",
   "metadata": {},
   "outputs": [
    {
     "ename": "TypeError",
     "evalue": "unhashable type: 'dict'",
     "output_type": "error",
     "traceback": [
      "\u001b[1;31m---------------------------------------------------------------------------\u001b[0m",
      "\u001b[1;31mTypeError\u001b[0m                                 Traceback (most recent call last)",
      "Cell \u001b[1;32mIn[40], line 1\u001b[0m\n\u001b[1;32m----> 1\u001b[0m d3 \u001b[38;5;241m=\u001b[39m {{\u001b[38;5;241m1\u001b[39m:\u001b[38;5;241m2\u001b[39m}:\u001b[38;5;124m\"\u001b[39m\u001b[38;5;124mc\u001b[39m\u001b[38;5;124m\"\u001b[39m}\n",
      "\u001b[1;31mTypeError\u001b[0m: unhashable type: 'dict'"
     ]
    }
   ],
   "source": [
    "d3 = {{1:2}:\"c\"}"
   ]
  },
  {
   "cell_type": "code",
   "execution_count": 41,
   "id": "a5baf3d5-e18e-44e8-8dd4-670866a8b354",
   "metadata": {},
   "outputs": [
    {
     "data": {
      "text/plain": [
       "[1, 2, 3, 4, 5]"
      ]
     },
     "execution_count": 41,
     "metadata": {},
     "output_type": "execute_result"
    }
   ],
   "source": [
    "l1"
   ]
  },
  {
   "cell_type": "code",
   "execution_count": 42,
   "id": "cacd8865-a252-487e-8c59-d6950a410073",
   "metadata": {},
   "outputs": [
    {
     "data": {
      "text/plain": [
       "(1, 2, 3, 4, 5)"
      ]
     },
     "execution_count": 42,
     "metadata": {},
     "output_type": "execute_result"
    }
   ],
   "source": [
    "tuple(l1)"
   ]
  },
  {
   "cell_type": "code",
   "execution_count": 43,
   "id": "35e90390-2c61-4ce4-ba74-91c9da4d49e0",
   "metadata": {},
   "outputs": [
    {
     "data": {
      "text/plain": [
       "[1, 2, 3, 4, 5]"
      ]
     },
     "execution_count": 43,
     "metadata": {},
     "output_type": "execute_result"
    }
   ],
   "source": [
    "l1"
   ]
  },
  {
   "cell_type": "code",
   "execution_count": 44,
   "id": "5e902ba5-2862-40b7-b747-ee060de99c4d",
   "metadata": {},
   "outputs": [],
   "source": [
    "t = tuple(l1)"
   ]
  },
  {
   "cell_type": "code",
   "execution_count": 45,
   "id": "a0fa3926-d83b-4601-a39a-f4caea06bac2",
   "metadata": {},
   "outputs": [
    {
     "data": {
      "text/plain": [
       "(1, 2, 3, 4, 5)"
      ]
     },
     "execution_count": 45,
     "metadata": {},
     "output_type": "execute_result"
    }
   ],
   "source": [
    "t"
   ]
  },
  {
   "cell_type": "code",
   "execution_count": 46,
   "id": "79370624-a9fe-421e-96fd-f199a23608a7",
   "metadata": {},
   "outputs": [
    {
     "data": {
      "text/plain": [
       "[1, 2, 3, 4, 5]"
      ]
     },
     "execution_count": 46,
     "metadata": {},
     "output_type": "execute_result"
    }
   ],
   "source": [
    "l1"
   ]
  },
  {
   "cell_type": "code",
   "execution_count": 47,
   "id": "971d0465-adde-4249-aeca-88cd21d218fb",
   "metadata": {},
   "outputs": [
    {
     "data": {
      "text/plain": [
       "True"
      ]
     },
     "execution_count": 47,
     "metadata": {},
     "output_type": "execute_result"
    }
   ],
   "source": [
    "4 in l1"
   ]
  },
  {
   "cell_type": "code",
   "execution_count": 48,
   "id": "4bdaa2c0-3599-4c4c-958a-47a89e25a267",
   "metadata": {},
   "outputs": [
    {
     "data": {
      "text/plain": [
       "False"
      ]
     },
     "execution_count": 48,
     "metadata": {},
     "output_type": "execute_result"
    }
   ],
   "source": [
    "44 in l1"
   ]
  },
  {
   "cell_type": "code",
   "execution_count": 49,
   "id": "c8ef5d90-787a-482d-a5cd-1a28d436f43f",
   "metadata": {},
   "outputs": [
    {
     "data": {
      "text/plain": [
       "False"
      ]
     },
     "execution_count": 49,
     "metadata": {},
     "output_type": "execute_result"
    }
   ],
   "source": [
    "l1 is l2"
   ]
  },
  {
   "cell_type": "code",
   "execution_count": 50,
   "id": "4ca112bd-4e53-4f72-8d54-5b2f4c9e66f7",
   "metadata": {},
   "outputs": [
    {
     "data": {
      "text/plain": [
       "False"
      ]
     },
     "execution_count": 50,
     "metadata": {},
     "output_type": "execute_result"
    }
   ],
   "source": [
    "[1, 2, 3, 4, 5] is [\"a\", \"b\"]"
   ]
  },
  {
   "cell_type": "code",
   "execution_count": 51,
   "id": "d332269f-34e6-4d09-86d3-2d5ad2c8b6b9",
   "metadata": {},
   "outputs": [
    {
     "name": "stderr",
     "output_type": "stream",
     "text": [
      "<>:1: SyntaxWarning: \"is\" with a literal. Did you mean \"==\"?\n",
      "<>:1: SyntaxWarning: \"is\" with a literal. Did you mean \"==\"?\n",
      "C:\\Users\\amitm\\AppData\\Local\\Temp\\ipykernel_16976\\2699790787.py:1: SyntaxWarning: \"is\" with a literal. Did you mean \"==\"?\n",
      "  3 is 6\n"
     ]
    },
    {
     "data": {
      "text/plain": [
       "False"
      ]
     },
     "execution_count": 51,
     "metadata": {},
     "output_type": "execute_result"
    }
   ],
   "source": [
    "3 is 6"
   ]
  },
  {
   "cell_type": "code",
   "execution_count": null,
   "id": "9f448c5a-ae6c-48a4-89b3-0ebbb1269d02",
   "metadata": {},
   "outputs": [],
   "source": []
  },
  {
   "cell_type": "markdown",
   "id": "149266f0-a298-49f0-848a-1ca0d38fb7e4",
   "metadata": {},
   "source": [
    "### F string"
   ]
  },
  {
   "cell_type": "code",
   "execution_count": 52,
   "id": "ca748eed-49ce-4271-bd3f-cf05d1c0957d",
   "metadata": {},
   "outputs": [
    {
     "data": {
      "text/plain": [
       "'this is my first coding class python'"
      ]
     },
     "execution_count": 52,
     "metadata": {},
     "output_type": "execute_result"
    }
   ],
   "source": [
    "lang = \"python\"\n",
    "\n",
    "f\"this is my first coding class {lang}\""
   ]
  },
  {
   "cell_type": "code",
   "execution_count": 53,
   "id": "faa3e284-69ea-40e3-a397-99089459c793",
   "metadata": {},
   "outputs": [
    {
     "data": {
      "text/plain": [
       "'this is my first python coding class '"
      ]
     },
     "execution_count": 53,
     "metadata": {},
     "output_type": "execute_result"
    }
   ],
   "source": [
    "f\"this is my first {lang} coding class \""
   ]
  },
  {
   "cell_type": "code",
   "execution_count": 55,
   "id": "51cd7880-1c77-4bde-8166-a0acfe99450a",
   "metadata": {},
   "outputs": [
    {
     "name": "stdout",
     "output_type": "stream",
     "text": [
      "this is my first  python  coding class\n"
     ]
    }
   ],
   "source": [
    "print(\"this is my first \", lang, \" coding class\")"
   ]
  },
  {
   "cell_type": "code",
   "execution_count": 56,
   "id": "b315ad9b-481c-4e89-b214-0122a90da353",
   "metadata": {},
   "outputs": [
    {
     "data": {
      "text/plain": [
       "'10 20 30'"
      ]
     },
     "execution_count": 56,
     "metadata": {},
     "output_type": "execute_result"
    }
   ],
   "source": [
    "f'{a} {b} {c}'"
   ]
  },
  {
   "cell_type": "code",
   "execution_count": 57,
   "id": "5f44b7bd-2905-4018-b9c6-073782767800",
   "metadata": {},
   "outputs": [
    {
     "data": {
      "text/plain": [
       "(10, 20, 30)"
      ]
     },
     "execution_count": 57,
     "metadata": {},
     "output_type": "execute_result"
    }
   ],
   "source": [
    "a,b,c"
   ]
  },
  {
   "cell_type": "code",
   "execution_count": null,
   "id": "fcca953b-3ec0-476e-8370-5ef8a18e958f",
   "metadata": {},
   "outputs": [],
   "source": []
  }
 ],
 "metadata": {
  "kernelspec": {
   "display_name": "Python 3 (ipykernel)",
   "language": "python",
   "name": "python3"
  },
  "language_info": {
   "codemirror_mode": {
    "name": "ipython",
    "version": 3
   },
   "file_extension": ".py",
   "mimetype": "text/x-python",
   "name": "python",
   "nbconvert_exporter": "python",
   "pygments_lexer": "ipython3",
   "version": "3.11.7"
  }
 },
 "nbformat": 4,
 "nbformat_minor": 5
}
