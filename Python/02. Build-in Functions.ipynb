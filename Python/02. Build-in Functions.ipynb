{
 "cells": [
  {
   "cell_type": "code",
   "execution_count": 1,
   "id": "2d736b91-25f8-4fcf-9b83-0dc424186965",
   "metadata": {},
   "outputs": [
    {
     "name": "stdout",
     "output_type": "stream",
     "text": [
      "hello\n"
     ]
    }
   ],
   "source": [
    "print(\"hello\")"
   ]
  },
  {
   "cell_type": "code",
   "execution_count": 2,
   "id": "a4505185-1c8b-4973-8ffa-5156580cd992",
   "metadata": {},
   "outputs": [
    {
     "name": "stdout",
     "output_type": "stream",
     "text": [
      "\n"
     ]
    }
   ],
   "source": [
    "print()"
   ]
  },
  {
   "cell_type": "code",
   "execution_count": 3,
   "id": "274f89f8-add4-4838-8c28-2131875de36e",
   "metadata": {},
   "outputs": [
    {
     "name": "stdout",
     "output_type": "stream",
     "text": [
      "23 str list\n"
     ]
    }
   ],
   "source": [
    "print(23, \"str\", \"list\")"
   ]
  },
  {
   "cell_type": "code",
   "execution_count": 5,
   "id": "af33ef82-3e63-4b7c-9907-ac9c366cca01",
   "metadata": {},
   "outputs": [],
   "source": [
    "var = \"data science\""
   ]
  },
  {
   "cell_type": "code",
   "execution_count": 6,
   "id": "819b4a2d-4eb7-4bfa-877c-61cb4a79a7dc",
   "metadata": {},
   "outputs": [
    {
     "data": {
      "text/plain": [
       "'data science'"
      ]
     },
     "execution_count": 6,
     "metadata": {},
     "output_type": "execute_result"
    }
   ],
   "source": [
    "var"
   ]
  },
  {
   "cell_type": "code",
   "execution_count": 7,
   "id": "6d45297e-2ead-41a7-8b7a-a1c4e72bc4b5",
   "metadata": {},
   "outputs": [
    {
     "data": {
      "text/plain": [
       "12"
      ]
     },
     "execution_count": 7,
     "metadata": {},
     "output_type": "execute_result"
    }
   ],
   "source": [
    "len(var)"
   ]
  },
  {
   "cell_type": "code",
   "execution_count": 8,
   "id": "8bb77dea-b33a-4870-8943-71ffc4aada4a",
   "metadata": {},
   "outputs": [],
   "source": [
    "l1 = [1,2,3,34,4,4,5]"
   ]
  },
  {
   "cell_type": "code",
   "execution_count": 9,
   "id": "cdf56342-3e1f-4a1b-b97f-bc6b7da96fed",
   "metadata": {},
   "outputs": [
    {
     "data": {
      "text/plain": [
       "7"
      ]
     },
     "execution_count": 9,
     "metadata": {},
     "output_type": "execute_result"
    }
   ],
   "source": [
    "len(l1)"
   ]
  },
  {
   "cell_type": "code",
   "execution_count": 10,
   "id": "1127bbf6-c53f-45e0-b878-84f84789c740",
   "metadata": {},
   "outputs": [],
   "source": [
    "num = 77686"
   ]
  },
  {
   "cell_type": "code",
   "execution_count": 11,
   "id": "4acce653-1e93-4b40-82f2-da9d1d3cfbf9",
   "metadata": {},
   "outputs": [
    {
     "ename": "TypeError",
     "evalue": "object of type 'int' has no len()",
     "output_type": "error",
     "traceback": [
      "\u001b[1;31m---------------------------------------------------------------------------\u001b[0m",
      "\u001b[1;31mTypeError\u001b[0m                                 Traceback (most recent call last)",
      "Cell \u001b[1;32mIn[11], line 1\u001b[0m\n\u001b[1;32m----> 1\u001b[0m \u001b[38;5;28mlen\u001b[39m(num)\n",
      "\u001b[1;31mTypeError\u001b[0m: object of type 'int' has no len()"
     ]
    }
   ],
   "source": [
    "len(num)"
   ]
  },
  {
   "cell_type": "code",
   "execution_count": 12,
   "id": "12219741-bb1f-4d04-9820-9d05b9a155b3",
   "metadata": {},
   "outputs": [
    {
     "data": {
      "text/plain": [
       "str"
      ]
     },
     "execution_count": 12,
     "metadata": {},
     "output_type": "execute_result"
    }
   ],
   "source": [
    "type(var)"
   ]
  },
  {
   "cell_type": "code",
   "execution_count": 13,
   "id": "25749683-b0ed-46e3-90fe-167284778e0b",
   "metadata": {},
   "outputs": [
    {
     "data": {
      "text/plain": [
       "list"
      ]
     },
     "execution_count": 13,
     "metadata": {},
     "output_type": "execute_result"
    }
   ],
   "source": [
    "type(l1)"
   ]
  },
  {
   "cell_type": "code",
   "execution_count": 14,
   "id": "6ff10995-2113-4e50-bc79-bf83c78f4ca4",
   "metadata": {},
   "outputs": [
    {
     "data": {
      "text/plain": [
       "int"
      ]
     },
     "execution_count": 14,
     "metadata": {},
     "output_type": "execute_result"
    }
   ],
   "source": [
    "type(num)"
   ]
  },
  {
   "cell_type": "code",
   "execution_count": 15,
   "id": "8c90c0c5-f1a2-4674-b699-00fec7239273",
   "metadata": {},
   "outputs": [],
   "source": [
    "num1 = True"
   ]
  },
  {
   "cell_type": "code",
   "execution_count": 16,
   "id": "6acdaa15-2d2a-492b-83e7-4d3eb51c8f60",
   "metadata": {},
   "outputs": [
    {
     "data": {
      "text/plain": [
       "bool"
      ]
     },
     "execution_count": 16,
     "metadata": {},
     "output_type": "execute_result"
    }
   ],
   "source": [
    "type(num1)"
   ]
  },
  {
   "cell_type": "code",
   "execution_count": 17,
   "id": "7b2201ea-eaa0-42af-9ceb-2479af68db7a",
   "metadata": {},
   "outputs": [
    {
     "name": "stdin",
     "output_type": "stream",
     "text": [
      " 234\n"
     ]
    },
    {
     "data": {
      "text/plain": [
       "'234'"
      ]
     },
     "execution_count": 17,
     "metadata": {},
     "output_type": "execute_result"
    }
   ],
   "source": [
    "input()"
   ]
  },
  {
   "cell_type": "code",
   "execution_count": 18,
   "id": "eeb242dd-5204-4032-b877-b97ec16d4958",
   "metadata": {},
   "outputs": [
    {
     "name": "stdin",
     "output_type": "stream",
     "text": [
      " 345345\n"
     ]
    }
   ],
   "source": [
    "inp1 = input()"
   ]
  },
  {
   "cell_type": "code",
   "execution_count": 21,
   "id": "3489800a-ba54-4a9e-8610-1ee6b2da77e3",
   "metadata": {},
   "outputs": [
    {
     "data": {
      "text/plain": [
       "str"
      ]
     },
     "execution_count": 21,
     "metadata": {},
     "output_type": "execute_result"
    }
   ],
   "source": [
    "type(inp1)"
   ]
  },
  {
   "cell_type": "code",
   "execution_count": 22,
   "id": "aab1c149-0c7b-4b60-af67-b56d16f242b6",
   "metadata": {},
   "outputs": [
    {
     "name": "stdin",
     "output_type": "stream",
     "text": [
      " [2,3,4]\n"
     ]
    },
    {
     "data": {
      "text/plain": [
       "'[2,3,4]'"
      ]
     },
     "execution_count": 22,
     "metadata": {},
     "output_type": "execute_result"
    }
   ],
   "source": [
    "input()"
   ]
  },
  {
   "cell_type": "code",
   "execution_count": 23,
   "id": "fd2d8c63-1126-4b56-a733-53319aa97c1b",
   "metadata": {},
   "outputs": [
    {
     "name": "stdin",
     "output_type": "stream",
     "text": [
      " 45345\n"
     ]
    }
   ],
   "source": [
    "var2 = input()"
   ]
  },
  {
   "cell_type": "code",
   "execution_count": 24,
   "id": "afc78eb2-d3e7-46d4-9925-252206947c10",
   "metadata": {},
   "outputs": [
    {
     "data": {
      "text/plain": [
       "45345"
      ]
     },
     "execution_count": 24,
     "metadata": {},
     "output_type": "execute_result"
    }
   ],
   "source": [
    "int(var2)"
   ]
  },
  {
   "cell_type": "code",
   "execution_count": 25,
   "id": "a30b6bea-8f7e-4223-bdb8-9da2f4469383",
   "metadata": {},
   "outputs": [
    {
     "name": "stdin",
     "output_type": "stream",
     "text": [
      " 87567\n"
     ]
    }
   ],
   "source": [
    "var2 = int(input())"
   ]
  },
  {
   "cell_type": "code",
   "execution_count": 26,
   "id": "871ccea0-b5d7-4330-981e-c6cfed04e450",
   "metadata": {},
   "outputs": [
    {
     "data": {
      "text/plain": [
       "87567"
      ]
     },
     "execution_count": 26,
     "metadata": {},
     "output_type": "execute_result"
    }
   ],
   "source": [
    "var2"
   ]
  },
  {
   "cell_type": "code",
   "execution_count": 27,
   "id": "f5601068-b2be-42ec-b625-a7576030382d",
   "metadata": {},
   "outputs": [
    {
     "data": {
      "text/plain": [
       "range(0, 20)"
      ]
     },
     "execution_count": 27,
     "metadata": {},
     "output_type": "execute_result"
    }
   ],
   "source": [
    "range(20)"
   ]
  },
  {
   "cell_type": "code",
   "execution_count": 28,
   "id": "dc697b1f-90ba-4a56-ac5d-36ef8a7bbbf2",
   "metadata": {},
   "outputs": [
    {
     "data": {
      "text/plain": [
       "[0, 1, 2, 3, 4, 5, 6, 7, 8, 9]"
      ]
     },
     "execution_count": 28,
     "metadata": {},
     "output_type": "execute_result"
    }
   ],
   "source": [
    "list(range(10))"
   ]
  },
  {
   "cell_type": "code",
   "execution_count": 29,
   "id": "df7146d3-b328-4c3c-a4f2-c3773fb3bf5b",
   "metadata": {},
   "outputs": [
    {
     "data": {
      "text/plain": [
       "(0, 1, 2, 3, 4, 5, 6, 7, 8, 9)"
      ]
     },
     "execution_count": 29,
     "metadata": {},
     "output_type": "execute_result"
    }
   ],
   "source": [
    "tuple(range(10))"
   ]
  },
  {
   "cell_type": "code",
   "execution_count": 30,
   "id": "7008650d-aa66-4fa7-b790-d7f113dd1edf",
   "metadata": {},
   "outputs": [
    {
     "data": {
      "text/plain": [
       "{0, 1, 2, 3, 4, 5, 6, 7, 8, 9}"
      ]
     },
     "execution_count": 30,
     "metadata": {},
     "output_type": "execute_result"
    }
   ],
   "source": [
    "set(range(10))"
   ]
  },
  {
   "cell_type": "code",
   "execution_count": 31,
   "id": "9790542b-b860-4c74-8b3c-2e1625500817",
   "metadata": {},
   "outputs": [
    {
     "ename": "TypeError",
     "evalue": "cannot convert dictionary update sequence element #0 to a sequence",
     "output_type": "error",
     "traceback": [
      "\u001b[1;31m---------------------------------------------------------------------------\u001b[0m",
      "\u001b[1;31mTypeError\u001b[0m                                 Traceback (most recent call last)",
      "Cell \u001b[1;32mIn[31], line 1\u001b[0m\n\u001b[1;32m----> 1\u001b[0m \u001b[38;5;28mdict\u001b[39m(\u001b[38;5;28mrange\u001b[39m(\u001b[38;5;241m10\u001b[39m))\n",
      "\u001b[1;31mTypeError\u001b[0m: cannot convert dictionary update sequence element #0 to a sequence"
     ]
    }
   ],
   "source": [
    "dict(range(10))"
   ]
  },
  {
   "cell_type": "code",
   "execution_count": 33,
   "id": "ad312cec-d1e8-4218-a144-b344f79a1ba5",
   "metadata": {},
   "outputs": [
    {
     "data": {
      "text/plain": [
       "[3, 4, 5, 6, 7, 8, 9]"
      ]
     },
     "execution_count": 33,
     "metadata": {},
     "output_type": "execute_result"
    }
   ],
   "source": [
    "list(range(3,10))"
   ]
  },
  {
   "cell_type": "code",
   "execution_count": 34,
   "id": "a881cfd9-0a24-4df0-bac1-14e4e9412fba",
   "metadata": {},
   "outputs": [
    {
     "data": {
      "text/plain": [
       "[30,\n",
       " 31,\n",
       " 32,\n",
       " 33,\n",
       " 34,\n",
       " 35,\n",
       " 36,\n",
       " 37,\n",
       " 38,\n",
       " 39,\n",
       " 40,\n",
       " 41,\n",
       " 42,\n",
       " 43,\n",
       " 44,\n",
       " 45,\n",
       " 46,\n",
       " 47,\n",
       " 48,\n",
       " 49]"
      ]
     },
     "execution_count": 34,
     "metadata": {},
     "output_type": "execute_result"
    }
   ],
   "source": [
    "list(range(30,50))"
   ]
  },
  {
   "cell_type": "code",
   "execution_count": 35,
   "id": "2653e542-9537-4ca0-bf9b-467cb184a188",
   "metadata": {},
   "outputs": [
    {
     "data": {
      "text/plain": [
       "[1, 3, 5, 7, 9]"
      ]
     },
     "execution_count": 35,
     "metadata": {},
     "output_type": "execute_result"
    }
   ],
   "source": [
    "list(range(1,10,2))"
   ]
  },
  {
   "cell_type": "code",
   "execution_count": 37,
   "id": "5537004f-6beb-4aa7-a73c-730597896e03",
   "metadata": {},
   "outputs": [
    {
     "data": {
      "text/plain": [
       "[0, 5, 10, 15]"
      ]
     },
     "execution_count": 37,
     "metadata": {},
     "output_type": "execute_result"
    }
   ],
   "source": [
    "list(range(0,20,5))"
   ]
  },
  {
   "cell_type": "code",
   "execution_count": 40,
   "id": "a0ccbd44-4719-453b-a573-19d0e5624079",
   "metadata": {},
   "outputs": [
    {
     "data": {
      "text/plain": [
       "[20, 16, 12, 8, 4]"
      ]
     },
     "execution_count": 40,
     "metadata": {},
     "output_type": "execute_result"
    }
   ],
   "source": [
    "list(range(20,0,-4))"
   ]
  },
  {
   "cell_type": "code",
   "execution_count": 41,
   "id": "8980e8e3-b6e9-437f-9549-b438ebdffd15",
   "metadata": {},
   "outputs": [
    {
     "data": {
      "text/plain": [
       "[]"
      ]
     },
     "execution_count": 41,
     "metadata": {},
     "output_type": "execute_result"
    }
   ],
   "source": [
    "list(range(20,40,-4))"
   ]
  },
  {
   "cell_type": "code",
   "execution_count": 42,
   "id": "8506a8e3-aadd-45c6-8bfd-19dc97335b11",
   "metadata": {},
   "outputs": [
    {
     "data": {
      "text/plain": [
       "[20, 24, 28, 32, 36]"
      ]
     },
     "execution_count": 42,
     "metadata": {},
     "output_type": "execute_result"
    }
   ],
   "source": [
    "list(range(20,40,4))"
   ]
  },
  {
   "cell_type": "code",
   "execution_count": 43,
   "id": "097fb35c-32a6-4c29-878c-67f1066dfc1d",
   "metadata": {},
   "outputs": [
    {
     "data": {
      "text/plain": [
       "[1, 2, 3, 34, 4, 4, 5]"
      ]
     },
     "execution_count": 43,
     "metadata": {},
     "output_type": "execute_result"
    }
   ],
   "source": [
    "l1"
   ]
  },
  {
   "cell_type": "code",
   "execution_count": 44,
   "id": "fecc84c6-b9a3-4b7c-b420-2ea00801b06e",
   "metadata": {},
   "outputs": [],
   "source": [
    "del(l1)"
   ]
  },
  {
   "cell_type": "code",
   "execution_count": 45,
   "id": "afc792dc-8e64-4558-9356-7fabd2765f13",
   "metadata": {},
   "outputs": [
    {
     "ename": "NameError",
     "evalue": "name 'l1' is not defined",
     "output_type": "error",
     "traceback": [
      "\u001b[1;31m---------------------------------------------------------------------------\u001b[0m",
      "\u001b[1;31mNameError\u001b[0m                                 Traceback (most recent call last)",
      "Cell \u001b[1;32mIn[45], line 1\u001b[0m\n\u001b[1;32m----> 1\u001b[0m l1\n",
      "\u001b[1;31mNameError\u001b[0m: name 'l1' is not defined"
     ]
    }
   ],
   "source": [
    "l1"
   ]
  },
  {
   "cell_type": "code",
   "execution_count": 46,
   "id": "77194629-9b85-469b-944e-ab0d28ac7637",
   "metadata": {},
   "outputs": [
    {
     "ename": "TypeError",
     "evalue": "eval expected at least 1 argument, got 0",
     "output_type": "error",
     "traceback": [
      "\u001b[1;31m---------------------------------------------------------------------------\u001b[0m",
      "\u001b[1;31mTypeError\u001b[0m                                 Traceback (most recent call last)",
      "Cell \u001b[1;32mIn[46], line 1\u001b[0m\n\u001b[1;32m----> 1\u001b[0m \u001b[38;5;28meval\u001b[39m()\n",
      "\u001b[1;31mTypeError\u001b[0m: eval expected at least 1 argument, got 0"
     ]
    }
   ],
   "source": [
    "eval()"
   ]
  },
  {
   "cell_type": "code",
   "execution_count": 47,
   "id": "b57813f3-e58e-46d6-acda-6ff248b48c8f",
   "metadata": {},
   "outputs": [
    {
     "ename": "TypeError",
     "evalue": "len() takes exactly one argument (0 given)",
     "output_type": "error",
     "traceback": [
      "\u001b[1;31m---------------------------------------------------------------------------\u001b[0m",
      "\u001b[1;31mTypeError\u001b[0m                                 Traceback (most recent call last)",
      "Cell \u001b[1;32mIn[47], line 1\u001b[0m\n\u001b[1;32m----> 1\u001b[0m \u001b[38;5;28mlen\u001b[39m()\n",
      "\u001b[1;31mTypeError\u001b[0m: len() takes exactly one argument (0 given)"
     ]
    }
   ],
   "source": [
    "len()"
   ]
  },
  {
   "cell_type": "code",
   "execution_count": 49,
   "id": "fc855a12-f3cb-4242-b237-b1e5792be6ae",
   "metadata": {},
   "outputs": [
    {
     "name": "stdin",
     "output_type": "stream",
     "text": [
      " 2+4\n"
     ]
    },
    {
     "data": {
      "text/plain": [
       "'2+4'"
      ]
     },
     "execution_count": 49,
     "metadata": {},
     "output_type": "execute_result"
    }
   ],
   "source": [
    "input()"
   ]
  },
  {
   "cell_type": "code",
   "execution_count": 50,
   "id": "de0a53f3-e940-4eca-9dfb-cae3307cae6b",
   "metadata": {},
   "outputs": [
    {
     "name": "stdin",
     "output_type": "stream",
     "text": [
      " 2+4\n"
     ]
    },
    {
     "data": {
      "text/plain": [
       "6"
      ]
     },
     "execution_count": 50,
     "metadata": {},
     "output_type": "execute_result"
    }
   ],
   "source": [
    "eval(input())"
   ]
  },
  {
   "cell_type": "code",
   "execution_count": 51,
   "id": "a5a8f2c6-6bec-4204-b20f-1e12313562ba",
   "metadata": {},
   "outputs": [
    {
     "name": "stdout",
     "output_type": "stream",
     "text": [
      "4+6\n"
     ]
    }
   ],
   "source": [
    "print(\"4+6\")"
   ]
  },
  {
   "cell_type": "code",
   "execution_count": 53,
   "id": "a50e0419-3359-4e2a-b203-7094c7bc8aba",
   "metadata": {},
   "outputs": [
    {
     "name": "stdout",
     "output_type": "stream",
     "text": [
      "24\n"
     ]
    }
   ],
   "source": [
    "print(eval(\"4*6\"))"
   ]
  },
  {
   "cell_type": "code",
   "execution_count": 54,
   "id": "0c3d302a-9aee-4dd0-a480-67ed7afefb86",
   "metadata": {},
   "outputs": [],
   "source": [
    "l1 = [1,3,6,4,5,3,2,1]"
   ]
  },
  {
   "cell_type": "code",
   "execution_count": 55,
   "id": "e098016c-1af1-42f4-83f1-210a3d951cf2",
   "metadata": {},
   "outputs": [
    {
     "data": {
      "text/plain": [
       "[1, 3, 6, 4, 5, 3, 2, 1]"
      ]
     },
     "execution_count": 55,
     "metadata": {},
     "output_type": "execute_result"
    }
   ],
   "source": [
    "l1"
   ]
  },
  {
   "cell_type": "code",
   "execution_count": 56,
   "id": "ee55c578-4d07-4bfa-814f-f25873081d79",
   "metadata": {},
   "outputs": [
    {
     "data": {
      "text/plain": [
       "[1, 1, 2, 3, 3, 4, 5, 6]"
      ]
     },
     "execution_count": 56,
     "metadata": {},
     "output_type": "execute_result"
    }
   ],
   "source": [
    "sorted(l1)"
   ]
  },
  {
   "cell_type": "code",
   "execution_count": 57,
   "id": "c4683ac5-8a1e-4b20-963e-f787117fec65",
   "metadata": {},
   "outputs": [
    {
     "data": {
      "text/plain": [
       "[6, 5, 4, 3, 3, 2, 1, 1]"
      ]
     },
     "execution_count": 57,
     "metadata": {},
     "output_type": "execute_result"
    }
   ],
   "source": [
    "sorted(l1,reverse=True)"
   ]
  },
  {
   "cell_type": "code",
   "execution_count": 58,
   "id": "9fa9fdb2-aa54-4a82-9f41-b18a2dee6e29",
   "metadata": {},
   "outputs": [],
   "source": [
    "l2 = [\"1\", 1, \"a\", 3, True]"
   ]
  },
  {
   "cell_type": "code",
   "execution_count": 59,
   "id": "8ad74c95-dfbf-4cbf-8f87-ca1c3ab1a798",
   "metadata": {},
   "outputs": [
    {
     "ename": "TypeError",
     "evalue": "'<' not supported between instances of 'int' and 'str'",
     "output_type": "error",
     "traceback": [
      "\u001b[1;31m---------------------------------------------------------------------------\u001b[0m",
      "\u001b[1;31mTypeError\u001b[0m                                 Traceback (most recent call last)",
      "Cell \u001b[1;32mIn[59], line 1\u001b[0m\n\u001b[1;32m----> 1\u001b[0m \u001b[38;5;28msorted\u001b[39m(l2)\n",
      "\u001b[1;31mTypeError\u001b[0m: '<' not supported between instances of 'int' and 'str'"
     ]
    }
   ],
   "source": [
    "sorted(l2)"
   ]
  },
  {
   "cell_type": "code",
   "execution_count": 61,
   "id": "067cde27-cd7a-4d57-86f5-b029013a7ce6",
   "metadata": {},
   "outputs": [
    {
     "data": {
      "text/plain": [
       "65"
      ]
     },
     "execution_count": 61,
     "metadata": {},
     "output_type": "execute_result"
    }
   ],
   "source": [
    "ord(\"A\")"
   ]
  },
  {
   "cell_type": "code",
   "execution_count": 62,
   "id": "8ddb498e-8a3e-40a8-bab7-2bf5b0f62b26",
   "metadata": {},
   "outputs": [
    {
     "data": {
      "text/plain": [
       "36"
      ]
     },
     "execution_count": 62,
     "metadata": {},
     "output_type": "execute_result"
    }
   ],
   "source": [
    "ord(\"$\")"
   ]
  },
  {
   "cell_type": "code",
   "execution_count": 65,
   "id": "5eff1770-c34a-4060-8dce-6eb030670bf1",
   "metadata": {},
   "outputs": [
    {
     "data": {
      "text/plain": [
       "67"
      ]
     },
     "execution_count": 65,
     "metadata": {},
     "output_type": "execute_result"
    }
   ],
   "source": [
    "ord(\"C\")"
   ]
  },
  {
   "cell_type": "code",
   "execution_count": 70,
   "id": "8cccd723-0b56-4d81-85de-a50f5364b74b",
   "metadata": {},
   "outputs": [
    {
     "data": {
      "text/plain": [
       "126"
      ]
     },
     "execution_count": 70,
     "metadata": {},
     "output_type": "execute_result"
    }
   ],
   "source": [
    "ord(\"~\")"
   ]
  },
  {
   "cell_type": "code",
   "execution_count": 71,
   "id": "70b167fe-5e6b-42ae-b407-4d303744cc4c",
   "metadata": {},
   "outputs": [
    {
     "data": {
      "text/plain": [
       "'A'"
      ]
     },
     "execution_count": 71,
     "metadata": {},
     "output_type": "execute_result"
    }
   ],
   "source": [
    "chr(65)"
   ]
  },
  {
   "cell_type": "code",
   "execution_count": 75,
   "id": "6a06b6a3-f658-4ced-93a7-9ed71433d221",
   "metadata": {},
   "outputs": [
    {
     "data": {
      "text/plain": [
       "'('"
      ]
     },
     "execution_count": 75,
     "metadata": {},
     "output_type": "execute_result"
    }
   ],
   "source": [
    "chr(40)"
   ]
  },
  {
   "cell_type": "code",
   "execution_count": 78,
   "id": "fe6ecaf4-c8e6-4bfa-8d75-594f8f65af39",
   "metadata": {},
   "outputs": [
    {
     "data": {
      "text/plain": [
       "['1', 1, 'a', 3, True]"
      ]
     },
     "execution_count": 78,
     "metadata": {},
     "output_type": "execute_result"
    }
   ],
   "source": [
    "l2"
   ]
  },
  {
   "cell_type": "code",
   "execution_count": 77,
   "id": "ad80f06c-bb66-460d-95c4-1a31d38aaadf",
   "metadata": {},
   "outputs": [
    {
     "data": {
      "text/plain": [
       "((0, '1'), (1, 1), (2, 'a'), (3, 3), (4, True))"
      ]
     },
     "execution_count": 77,
     "metadata": {},
     "output_type": "execute_result"
    }
   ],
   "source": [
    "tuple(enumerate(l2))"
   ]
  },
  {
   "cell_type": "code",
   "execution_count": 80,
   "id": "99c891ce-af9e-41a2-a9bf-be45e770f94a",
   "metadata": {},
   "outputs": [
    {
     "data": {
      "text/plain": [
       "'data science'"
      ]
     },
     "execution_count": 80,
     "metadata": {},
     "output_type": "execute_result"
    }
   ],
   "source": [
    "var"
   ]
  },
  {
   "cell_type": "code",
   "execution_count": 81,
   "id": "e1ec14f1-5ff7-43ed-8ef7-51610624d3e4",
   "metadata": {},
   "outputs": [
    {
     "data": {
      "text/plain": [
       "[(0, 'd'),\n",
       " (1, 'a'),\n",
       " (2, 't'),\n",
       " (3, 'a'),\n",
       " (4, ' '),\n",
       " (5, 's'),\n",
       " (6, 'c'),\n",
       " (7, 'i'),\n",
       " (8, 'e'),\n",
       " (9, 'n'),\n",
       " (10, 'c'),\n",
       " (11, 'e')]"
      ]
     },
     "execution_count": 81,
     "metadata": {},
     "output_type": "execute_result"
    }
   ],
   "source": [
    "list(enumerate(var))"
   ]
  },
  {
   "cell_type": "code",
   "execution_count": 82,
   "id": "52311651-874f-416e-a808-430a81289582",
   "metadata": {},
   "outputs": [
    {
     "data": {
      "text/plain": [
       "'data science'"
      ]
     },
     "execution_count": 82,
     "metadata": {},
     "output_type": "execute_result"
    }
   ],
   "source": [
    "var"
   ]
  },
  {
   "cell_type": "code",
   "execution_count": 83,
   "id": "2c7fb578-3210-4651-9c4d-d58d9d5b08eb",
   "metadata": {},
   "outputs": [
    {
     "data": {
      "text/plain": [
       "str"
      ]
     },
     "execution_count": 83,
     "metadata": {},
     "output_type": "execute_result"
    }
   ],
   "source": [
    "type(var)"
   ]
  },
  {
   "cell_type": "code",
   "execution_count": 84,
   "id": "b8e12bb3-b9f0-4fb8-9838-fc5442d0fae4",
   "metadata": {},
   "outputs": [
    {
     "data": {
      "text/plain": [
       "False"
      ]
     },
     "execution_count": 84,
     "metadata": {},
     "output_type": "execute_result"
    }
   ],
   "source": [
    "isinstance(var, int)"
   ]
  },
  {
   "cell_type": "code",
   "execution_count": 86,
   "id": "bd07e107-277d-483e-8b6a-7695d0359a46",
   "metadata": {},
   "outputs": [
    {
     "data": {
      "text/plain": [
       "True"
      ]
     },
     "execution_count": 86,
     "metadata": {},
     "output_type": "execute_result"
    }
   ],
   "source": [
    "isinstance(234.23, float)"
   ]
  },
  {
   "cell_type": "code",
   "execution_count": 89,
   "id": "6d5cd4e5-db67-44b4-8c12-9f369d2b7d07",
   "metadata": {},
   "outputs": [
    {
     "data": {
      "text/plain": [
       "9"
      ]
     },
     "execution_count": 89,
     "metadata": {},
     "output_type": "execute_result"
    }
   ],
   "source": [
    "sum([2,3,4])"
   ]
  },
  {
   "cell_type": "code",
   "execution_count": 90,
   "id": "0155e232-a8e6-47b7-addb-bc8d39f2b647",
   "metadata": {},
   "outputs": [
    {
     "data": {
      "text/plain": [
       "4"
      ]
     },
     "execution_count": 90,
     "metadata": {},
     "output_type": "execute_result"
    }
   ],
   "source": [
    "max([2,3,4])"
   ]
  },
  {
   "cell_type": "code",
   "execution_count": 91,
   "id": "03f5b7e6-32ef-4db1-9166-ace17cc2c1f5",
   "metadata": {},
   "outputs": [
    {
     "data": {
      "text/plain": [
       "2"
      ]
     },
     "execution_count": 91,
     "metadata": {},
     "output_type": "execute_result"
    }
   ],
   "source": [
    "min([2,3,4])"
   ]
  },
  {
   "cell_type": "code",
   "execution_count": 92,
   "id": "7288b03e-361d-4887-b339-d08fd2fa7d2a",
   "metadata": {},
   "outputs": [
    {
     "data": {
      "text/plain": [
       "'data science'"
      ]
     },
     "execution_count": 92,
     "metadata": {},
     "output_type": "execute_result"
    }
   ],
   "source": [
    "var"
   ]
  },
  {
   "cell_type": "code",
   "execution_count": 93,
   "id": "156b5226-a56b-4567-8e66-d931bf609a33",
   "metadata": {},
   "outputs": [],
   "source": [
    "var3 = \"data analysis\""
   ]
  },
  {
   "cell_type": "code",
   "execution_count": 94,
   "id": "8d288f9a-da39-45fe-94a9-b36fd140cc67",
   "metadata": {},
   "outputs": [
    {
     "data": {
      "text/plain": [
       "'data analysis'"
      ]
     },
     "execution_count": 94,
     "metadata": {},
     "output_type": "execute_result"
    }
   ],
   "source": [
    "var3"
   ]
  },
  {
   "cell_type": "code",
   "execution_count": 95,
   "id": "bab8e1d3-f049-4470-a57e-25765cf198aa",
   "metadata": {},
   "outputs": [
    {
     "data": {
      "text/plain": [
       "'I am learning data science, and data analysis is subset of its'"
      ]
     },
     "execution_count": 95,
     "metadata": {},
     "output_type": "execute_result"
    }
   ],
   "source": [
    "f\"I am learning {var}, and {var3} is subset of its\""
   ]
  },
  {
   "cell_type": "code",
   "execution_count": 97,
   "id": "1a0aa677-06b5-4889-bc17-d85a0a931ee3",
   "metadata": {},
   "outputs": [
    {
     "data": {
      "text/plain": [
       "87567"
      ]
     },
     "execution_count": 97,
     "metadata": {},
     "output_type": "execute_result"
    }
   ],
   "source": [
    "var2"
   ]
  },
  {
   "cell_type": "code",
   "execution_count": 99,
   "id": "12320d5b-43d0-49bc-8f28-d76c3215e458",
   "metadata": {},
   "outputs": [
    {
     "data": {
      "text/plain": [
       "'I am learning data science, and data analysis is subset of 87567 its'"
      ]
     },
     "execution_count": 99,
     "metadata": {},
     "output_type": "execute_result"
    }
   ],
   "source": [
    "'I am learning {}, and {} is subset of {} its'.format(var, var3, var2)"
   ]
  },
  {
   "cell_type": "code",
   "execution_count": 101,
   "id": "0cc16c2e-565e-49a2-824c-f676a0d29246",
   "metadata": {},
   "outputs": [
    {
     "name": "stdout",
     "output_type": "stream",
     "text": [
      "I am learning \tdata science, and\n",
      " \tdata analysis is subset of its\n"
     ]
    }
   ],
   "source": [
    "print(f\"I am learning \\t{var}, and\\n \\t{var3} is subset of its\")"
   ]
  },
  {
   "cell_type": "code",
   "execution_count": 103,
   "id": "b0bf29a7-d308-4e0c-af44-729adcd20d89",
   "metadata": {},
   "outputs": [
    {
     "name": "stdout",
     "output_type": "stream",
     "text": [
      "5\n"
     ]
    }
   ],
   "source": [
    "print(5)"
   ]
  },
  {
   "cell_type": "code",
   "execution_count": 104,
   "id": "4ee992fb-07e0-4092-8ab7-f062dcff45ca",
   "metadata": {},
   "outputs": [],
   "source": [
    "name = \"Alice\"\n",
    "lastname = \"david\"\n",
    "age = 30"
   ]
  },
  {
   "cell_type": "code",
   "execution_count": 105,
   "id": "e9fb4a44-7e15-42af-8cc5-9f83208d5e26",
   "metadata": {},
   "outputs": [
    {
     "data": {
      "text/plain": [
       "'My name is david Alice and I am 30 years old.'"
      ]
     },
     "execution_count": 105,
     "metadata": {},
     "output_type": "execute_result"
    }
   ],
   "source": [
    "\"My name is %s %s and I am %d years old.\" % (lastname, name, age)"
   ]
  },
  {
   "cell_type": "code",
   "execution_count": 107,
   "id": "85e6399a-ba45-4307-bf43-584f3e95f17c",
   "metadata": {},
   "outputs": [
    {
     "data": {
      "text/plain": [
       "'My name is 30 david and I am Alice years old.'"
      ]
     },
     "execution_count": 107,
     "metadata": {},
     "output_type": "execute_result"
    }
   ],
   "source": [
    "\"My name is %d %s and I am %s years old.\" % (age, lastname, name)"
   ]
  },
  {
   "cell_type": "code",
   "execution_count": 108,
   "id": "5b257702-b9ad-4587-b981-05ac3cf1c5fa",
   "metadata": {},
   "outputs": [
    {
     "data": {
      "text/plain": [
       "'My name is david Alice and I am 30 years old.'"
      ]
     },
     "execution_count": 108,
     "metadata": {},
     "output_type": "execute_result"
    }
   ],
   "source": [
    "\"My name is %s %s and I am %d years old.\" % (lastname, name, 30.5)"
   ]
  },
  {
   "cell_type": "code",
   "execution_count": 111,
   "id": "a60c07d0-eb33-406f-9b26-33f417462e83",
   "metadata": {},
   "outputs": [
    {
     "data": {
      "text/plain": [
       "'My name is david Alice and I am 30.5 years old.'"
      ]
     },
     "execution_count": 111,
     "metadata": {},
     "output_type": "execute_result"
    }
   ],
   "source": [
    "\"My name is %s %s and I am %.1f years old.\" % (lastname, name, 30.5)"
   ]
  },
  {
   "cell_type": "code",
   "execution_count": null,
   "id": "daf63870-0c87-405b-937d-6b0669db9029",
   "metadata": {},
   "outputs": [],
   "source": []
  }
 ],
 "metadata": {
  "kernelspec": {
   "display_name": "Python 3 (ipykernel)",
   "language": "python",
   "name": "python3"
  },
  "language_info": {
   "codemirror_mode": {
    "name": "ipython",
    "version": 3
   },
   "file_extension": ".py",
   "mimetype": "text/x-python",
   "name": "python",
   "nbconvert_exporter": "python",
   "pygments_lexer": "ipython3",
   "version": "3.11.7"
  }
 },
 "nbformat": 4,
 "nbformat_minor": 5
}
