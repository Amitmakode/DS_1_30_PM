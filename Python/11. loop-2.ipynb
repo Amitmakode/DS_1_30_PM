{
 "cells": [
  {
   "cell_type": "code",
   "execution_count": 8,
   "id": "0317bf59-cbd5-4c1d-83e0-f431b38e2ab9",
   "metadata": {},
   "outputs": [],
   "source": [
    "dict1 = {\"name\": \"jasmine\", \"class\":[\"a\",3,\"b\",6]}"
   ]
  },
  {
   "cell_type": "code",
   "execution_count": 9,
   "id": "659d294d-8873-4486-827f-ae733224b59a",
   "metadata": {},
   "outputs": [
    {
     "data": {
      "text/plain": [
       "{'name': 'jasmine', 'class': ['a', 3, 'b', 6]}"
      ]
     },
     "execution_count": 9,
     "metadata": {},
     "output_type": "execute_result"
    }
   ],
   "source": [
    "dict1"
   ]
  },
  {
   "cell_type": "code",
   "execution_count": 10,
   "id": "3756b673-2369-4cca-9c1d-e8acdda34130",
   "metadata": {},
   "outputs": [
    {
     "name": "stdout",
     "output_type": "stream",
     "text": [
      "['a', 3, 'b', 6]\n"
     ]
    }
   ],
   "source": [
    "for i in dict1.values():\n",
    "    if type(i)==list:\n",
    "        print(i)"
   ]
  },
  {
   "cell_type": "code",
   "execution_count": 12,
   "id": "5ac60390-4217-49cb-aa7f-7138fd17b439",
   "metadata": {},
   "outputs": [
    {
     "name": "stdout",
     "output_type": "stream",
     "text": [
      "3\n",
      "6\n"
     ]
    }
   ],
   "source": [
    "for i in dict1.values():\n",
    "    if type(i)==list:\n",
    "        for j in i:\n",
    "            if type(j)==int:\n",
    "                print(j)"
   ]
  },
  {
   "cell_type": "code",
   "execution_count": 14,
   "id": "2459e848-8b16-4132-80c4-dbba79f2b5b6",
   "metadata": {},
   "outputs": [],
   "source": [
    "d = { 1:[1,(1,2)], 2:(1,[1,5,3]), 3:[1,{4:(5,6)}]}"
   ]
  },
  {
   "cell_type": "code",
   "execution_count": 21,
   "id": "be04522f-30e8-483a-aaf4-6a0ca8282868",
   "metadata": {},
   "outputs": [
    {
     "name": "stdout",
     "output_type": "stream",
     "text": [
      "(1, [1, (1, 2)])   <class 'tuple'> <class 'int'> <class 'int'> (1, 2)\n",
      "(2, (1, [1, 5, 3]))   <class 'tuple'> <class 'int'> <class 'int'> [1, 5, 3]\n",
      "(3, [1, {4: (5, 6)}])   <class 'tuple'> <class 'int'> <class 'int'> {4: (5, 6)}\n"
     ]
    }
   ],
   "source": [
    "for i in d.items():\n",
    "    print(i, \" \", type(i), type(i[0]), type(i[1][0]), i[1][1]) "
   ]
  },
  {
   "cell_type": "code",
   "execution_count": 16,
   "id": "1a9a74ba-025b-4eb2-824c-b19f8e0574cb",
   "metadata": {},
   "outputs": [
    {
     "data": {
      "text/plain": [
       "dict_items([(1, [1, (1, 2)]), (2, (1, [1, 5, 3])), (3, [1, {4: (5, 6)}])])"
      ]
     },
     "execution_count": 16,
     "metadata": {},
     "output_type": "execute_result"
    }
   ],
   "source": [
    "d.items()"
   ]
  },
  {
   "cell_type": "code",
   "execution_count": 22,
   "id": "cd994078-b71f-426b-a5b4-9431f3875275",
   "metadata": {},
   "outputs": [
    {
     "name": "stdout",
     "output_type": "stream",
     "text": [
      "<class 'tuple'> (5, 6)\n"
     ]
    }
   ],
   "source": [
    "d = { 1:[1,(1,2)], 2:(1,[1,5,3]), 3:[1,{4:(5,6)}]}\n",
    "\n",
    "for i in d.items():\n",
    "    if type(i[1]) == list:\n",
    "        if type(i[1][1]) == dict:\n",
    "            print(type(i[1][1][4]), i[1][1][4])  "
   ]
  },
  {
   "cell_type": "code",
   "execution_count": 23,
   "id": "3822f10c-ae41-41db-93d3-67fd81fd5eac",
   "metadata": {},
   "outputs": [
    {
     "data": {
      "text/plain": [
       "dict_items([(1, [1, (1, 2)]), (2, (1, [1, 5, 3])), (3, [1, {4: (5, 6)}])])"
      ]
     },
     "execution_count": 23,
     "metadata": {},
     "output_type": "execute_result"
    }
   ],
   "source": [
    "d.items()"
   ]
  },
  {
   "cell_type": "code",
   "execution_count": 24,
   "id": "39b653b3-80ef-4994-a052-79fde9e0af05",
   "metadata": {},
   "outputs": [],
   "source": [
    "d3 = {1: \"Nikita\", 2: \"mayuri\", 3:\"jasmin\", 4:\"aarti\", 5:\"pratiksha\", 6:\"nikita\"}"
   ]
  },
  {
   "cell_type": "code",
   "execution_count": 25,
   "id": "88716c5e-afcd-4d6b-87f0-8da8b9b6c6f2",
   "metadata": {},
   "outputs": [
    {
     "name": "stdout",
     "output_type": "stream",
     "text": [
      "Nikita\n",
      "nikita\n"
     ]
    }
   ],
   "source": [
    "for i in d3.values():\n",
    "    if i == \"Nikita\" or i == \"nikita\":\n",
    "        print(i)"
   ]
  },
  {
   "cell_type": "code",
   "execution_count": 26,
   "id": "58a9e1a3-76d4-4589-8abc-31178c394633",
   "metadata": {},
   "outputs": [
    {
     "name": "stdout",
     "output_type": "stream",
     "text": [
      "3\n",
      "3\n",
      "4\n",
      "4\n",
      "5\n",
      "5\n"
     ]
    }
   ],
   "source": [
    "for i in range(3,6):\n",
    "    for j in range(2):\n",
    "        print(i)"
   ]
  },
  {
   "cell_type": "code",
   "execution_count": 36,
   "id": "771780b8-3fdc-4436-95b1-deebfdfdbb84",
   "metadata": {},
   "outputs": [
    {
     "name": "stdout",
     "output_type": "stream",
     "text": [
      "0\n",
      "0\n",
      "0\n",
      "1\n",
      "0\n",
      "0\n",
      "0\n",
      "0\n",
      "1\n",
      "1\n",
      "0\n",
      "0\n",
      "0\n",
      "1\n",
      "2\n"
     ]
    }
   ],
   "source": [
    "for i in range(3):\n",
    "    for j in range(2):\n",
    "        for k in range(1):\n",
    "            print(k)\n",
    "        print(j)\n",
    "    print(i)"
   ]
  },
  {
   "cell_type": "code",
   "execution_count": 41,
   "id": "7ec14bcc-ba1b-4e64-a5c8-f03e73eb69c5",
   "metadata": {},
   "outputs": [
    {
     "name": "stdout",
     "output_type": "stream",
     "text": [
      " \n",
      "1  \n",
      "2 2  \n",
      "3 3 3  \n",
      "4 4 4 4  \n"
     ]
    }
   ],
   "source": [
    "rows = 5\n",
    "\n",
    "for i in range(rows):\n",
    "    # nested loop\n",
    "    for j in range(i):\n",
    "        # display number\n",
    "        print(i, end=' ')\n",
    "    # new line after each row\n",
    "    print(\" \")"
   ]
  },
  {
   "cell_type": "code",
   "execution_count": 45,
   "id": "aa1fbc58-f279-48e4-9f0e-430a6e0bda83",
   "metadata": {},
   "outputs": [
    {
     "name": "stdout",
     "output_type": "stream",
     "text": [
      "1 \n",
      "1 2 \n",
      "1 2 3 \n",
      "1 2 3 4 \n",
      "1 2 3 4 5 \n"
     ]
    }
   ],
   "source": [
    "rows = 5\n",
    "for i in range(1, rows + 1):\n",
    "    for j in range(1, i + 1):\n",
    "        print(j, end=' ')\n",
    "    print('')"
   ]
  },
  {
   "cell_type": "code",
   "execution_count": 46,
   "id": "e5a9fb87-6750-467c-b49c-86037938f4e5",
   "metadata": {},
   "outputs": [
    {
     "name": "stdout",
     "output_type": "stream",
     "text": [
      "* \n",
      "* * \n",
      "* * * \n",
      "* * * * \n",
      "* * * * * \n"
     ]
    }
   ],
   "source": [
    "rows = 5\n",
    "for i in range(1, rows + 1):\n",
    "    for j in range(1, i + 1):\n",
    "        print(\"*\", end=' ')\n",
    "    print('')"
   ]
  },
  {
   "cell_type": "code",
   "execution_count": 47,
   "id": "cfb55883-f4ea-4c9b-afaf-60ee9d2d6b03",
   "metadata": {},
   "outputs": [
    {
     "name": "stdout",
     "output_type": "stream",
     "text": [
      "1 1 1 1 1 1 1 1 1 1  \n",
      "2 2 2 2 2 2 2 2  \n",
      "3 3 3 3 3 3  \n",
      "4 4 4 4  \n",
      "5 5  \n"
     ]
    }
   ],
   "source": [
    "rows = 10\n",
    "b = 0\n",
    "# reverse for loop from 5 to 0\n",
    "for i in range(rows, 0, -2):\n",
    "    b += 1\n",
    "    for j in range(1, i + 1):\n",
    "        print(b, end=' ')\n",
    "    print(' ')"
   ]
  },
  {
   "cell_type": "code",
   "execution_count": 49,
   "id": "bcfe22df-d111-4d00-b790-fb2abd83675f",
   "metadata": {},
   "outputs": [
    {
     "data": {
      "text/plain": [
       "97"
      ]
     },
     "execution_count": 49,
     "metadata": {},
     "output_type": "execute_result"
    }
   ],
   "source": [
    "ord(\"a\")"
   ]
  },
  {
   "cell_type": "code",
   "execution_count": 51,
   "id": "27fce520-ae4d-48ac-9017-b235e315ddd5",
   "metadata": {},
   "outputs": [
    {
     "data": {
      "text/plain": [
       "'b'"
      ]
     },
     "execution_count": 51,
     "metadata": {},
     "output_type": "execute_result"
    }
   ],
   "source": [
    "chr(98)"
   ]
  },
  {
   "cell_type": "code",
   "execution_count": 54,
   "id": "3b3c0ce4-a88d-4e12-be13-8888bbb4e382",
   "metadata": {},
   "outputs": [
    {
     "name": "stdout",
     "output_type": "stream",
     "text": [
      "a b c d e f g h i j k l m n o p q r s t u v w x y z "
     ]
    }
   ],
   "source": [
    "for i in range(97,123):\n",
    "    print(chr(i), end= \" \")"
   ]
  },
  {
   "cell_type": "code",
   "execution_count": 56,
   "id": "21b81867-0cc2-4e0e-bbe9-82b17e4eaf20",
   "metadata": {},
   "outputs": [
    {
     "name": "stdout",
     "output_type": "stream",
     "text": [
      "A B C D E F G H I J K L M N O P Q R S T U V W X Y "
     ]
    }
   ],
   "source": [
    "for i in range(ord(\"A\"), ord(\"Z\")):\n",
    "    print(chr(i), end = \" \")"
   ]
  },
  {
   "cell_type": "code",
   "execution_count": 58,
   "id": "30ade926-52f4-483d-84a8-8fb8015e1621",
   "metadata": {},
   "outputs": [
    {
     "name": "stdout",
     "output_type": "stream",
     "text": [
      "0 0 1 0 1 2 0 1 2 3 "
     ]
    }
   ],
   "source": [
    "n = 5\n",
    "for i in range(5):\n",
    "    for j in range(i):\n",
    "        print(j)\n",
    "        "
   ]
  },
  {
   "cell_type": "code",
   "execution_count": null,
   "id": "5bed9777-9367-4ab3-8443-bcb6eaa90cf5",
   "metadata": {},
   "outputs": [],
   "source": []
  }
 ],
 "metadata": {
  "kernelspec": {
   "display_name": "Python 3 (ipykernel)",
   "language": "python",
   "name": "python3"
  },
  "language_info": {
   "codemirror_mode": {
    "name": "ipython",
    "version": 3
   },
   "file_extension": ".py",
   "mimetype": "text/x-python",
   "name": "python",
   "nbconvert_exporter": "python",
   "pygments_lexer": "ipython3",
   "version": "3.11.7"
  }
 },
 "nbformat": 4,
 "nbformat_minor": 5
}
