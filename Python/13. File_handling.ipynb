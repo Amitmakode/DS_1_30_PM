{
 "cells": [
  {
   "cell_type": "code",
   "execution_count": 1,
   "id": "65fe193d-b800-4449-8b71-681b337ca84a",
   "metadata": {},
   "outputs": [
    {
     "name": "stdout",
     "output_type": "stream",
     "text": [
      " Volume in drive C is Local Disk\n",
      " Volume Serial Number is C685-8258\n",
      "\n",
      " Directory of C:\\Users\\amitm\\Class\\03. DS_1_30_PM\n",
      "\n",
      "25-08-2025  13:35    <DIR>          .\n",
      "13-08-2025  10:59    <DIR>          ..\n",
      "25-08-2025  13:35    <DIR>          .ipynb_checkpoints\n",
      "12-08-2025  18:34            99,765 Build-in Functions.ipynb\n",
      "19-08-2025  14:26            17,009 Conditions-1.ipynb\n",
      "20-08-2025  14:31            13,566 Conditions-2.ipynb\n",
      "18-08-2025  14:22            15,182 Dictionary.ipynb\n",
      "13-08-2025  14:30            31,639 List and Operation.ipynb\n",
      "23-08-2025  14:58            10,019 loop-2.ipynb\n",
      "23-08-2025  14:59             7,780 Loop-3.ipynb\n",
      "22-08-2025  13:45            23,491 Loops-1.ipynb\n",
      "11-08-2025  14:31            16,386 Python Basics.ipynb\n",
      "18-08-2025  14:01            20,623 Set.ipynb\n",
      "14-08-2025  14:13            23,428 String and Operations.ipynb\n",
      "18-08-2025  13:49             6,225 Tuple.ipynb\n",
      "25-08-2025  13:35                72 Untitled.ipynb\n",
      "              13 File(s)        285,185 bytes\n",
      "               3 Dir(s)  136,266,690,560 bytes free\n"
     ]
    }
   ],
   "source": [
    "ls"
   ]
  },
  {
   "cell_type": "code",
   "execution_count": 3,
   "id": "2a0d3891-142d-48b1-8e1d-fcd6477f3ddc",
   "metadata": {},
   "outputs": [
    {
     "data": {
      "text/plain": [
       "'C:\\\\Users\\\\amitm\\\\Class\\\\03. DS_1_30_PM'"
      ]
     },
     "execution_count": 3,
     "metadata": {},
     "output_type": "execute_result"
    }
   ],
   "source": [
    "pwd"
   ]
  },
  {
   "cell_type": "code",
   "execution_count": 4,
   "id": "5d41130b-ac43-45c8-8208-1d7111d9c197",
   "metadata": {},
   "outputs": [
    {
     "ename": "FileNotFoundError",
     "evalue": "[Errno 2] No such file or directory: 'test.txt'",
     "output_type": "error",
     "traceback": [
      "\u001b[1;31m---------------------------------------------------------------------------\u001b[0m",
      "\u001b[1;31mFileNotFoundError\u001b[0m                         Traceback (most recent call last)",
      "Cell \u001b[1;32mIn[4], line 1\u001b[0m\n\u001b[1;32m----> 1\u001b[0m \u001b[38;5;28mopen\u001b[39m(\u001b[38;5;124m\"\u001b[39m\u001b[38;5;124mtest.txt\u001b[39m\u001b[38;5;124m\"\u001b[39m, \u001b[38;5;124m\"\u001b[39m\u001b[38;5;124mr\u001b[39m\u001b[38;5;124m\"\u001b[39m)\n",
      "File \u001b[1;32m~\\anaconda3\\Lib\\site-packages\\IPython\\core\\interactiveshell.py:310\u001b[0m, in \u001b[0;36m_modified_open\u001b[1;34m(file, *args, **kwargs)\u001b[0m\n\u001b[0;32m    303\u001b[0m \u001b[38;5;28;01mif\u001b[39;00m file \u001b[38;5;129;01min\u001b[39;00m {\u001b[38;5;241m0\u001b[39m, \u001b[38;5;241m1\u001b[39m, \u001b[38;5;241m2\u001b[39m}:\n\u001b[0;32m    304\u001b[0m     \u001b[38;5;28;01mraise\u001b[39;00m \u001b[38;5;167;01mValueError\u001b[39;00m(\n\u001b[0;32m    305\u001b[0m         \u001b[38;5;124mf\u001b[39m\u001b[38;5;124m\"\u001b[39m\u001b[38;5;124mIPython won\u001b[39m\u001b[38;5;124m'\u001b[39m\u001b[38;5;124mt let you open fd=\u001b[39m\u001b[38;5;132;01m{\u001b[39;00mfile\u001b[38;5;132;01m}\u001b[39;00m\u001b[38;5;124m by default \u001b[39m\u001b[38;5;124m\"\u001b[39m\n\u001b[0;32m    306\u001b[0m         \u001b[38;5;124m\"\u001b[39m\u001b[38;5;124mas it is likely to crash IPython. If you know what you are doing, \u001b[39m\u001b[38;5;124m\"\u001b[39m\n\u001b[0;32m    307\u001b[0m         \u001b[38;5;124m\"\u001b[39m\u001b[38;5;124myou can use builtins\u001b[39m\u001b[38;5;124m'\u001b[39m\u001b[38;5;124m open.\u001b[39m\u001b[38;5;124m\"\u001b[39m\n\u001b[0;32m    308\u001b[0m     )\n\u001b[1;32m--> 310\u001b[0m \u001b[38;5;28;01mreturn\u001b[39;00m io_open(file, \u001b[38;5;241m*\u001b[39margs, \u001b[38;5;241m*\u001b[39m\u001b[38;5;241m*\u001b[39mkwargs)\n",
      "\u001b[1;31mFileNotFoundError\u001b[0m: [Errno 2] No such file or directory: 'test.txt'"
     ]
    }
   ],
   "source": [
    "open(\"test.txt\", \"r\")"
   ]
  },
  {
   "cell_type": "code",
   "execution_count": null,
   "id": "4b4c798d-b4e2-403c-b83b-fe2de95a3ede",
   "metadata": {},
   "outputs": [],
   "source": [
    "# x, w, r, r+, a"
   ]
  },
  {
   "cell_type": "code",
   "execution_count": 6,
   "id": "6122e059-ba5a-455a-a85c-a6dc65ac22a6",
   "metadata": {},
   "outputs": [
    {
     "ename": "FileExistsError",
     "evalue": "[Errno 17] File exists: 'test.txt'",
     "output_type": "error",
     "traceback": [
      "\u001b[1;31m---------------------------------------------------------------------------\u001b[0m",
      "\u001b[1;31mFileExistsError\u001b[0m                           Traceback (most recent call last)",
      "Cell \u001b[1;32mIn[6], line 1\u001b[0m\n\u001b[1;32m----> 1\u001b[0m f\u001b[38;5;241m=\u001b[39m \u001b[38;5;28mopen\u001b[39m(\u001b[38;5;124m\"\u001b[39m\u001b[38;5;124mtest.txt\u001b[39m\u001b[38;5;124m\"\u001b[39m, \u001b[38;5;124m\"\u001b[39m\u001b[38;5;124mx\u001b[39m\u001b[38;5;124m\"\u001b[39m )\n",
      "File \u001b[1;32m~\\anaconda3\\Lib\\site-packages\\IPython\\core\\interactiveshell.py:310\u001b[0m, in \u001b[0;36m_modified_open\u001b[1;34m(file, *args, **kwargs)\u001b[0m\n\u001b[0;32m    303\u001b[0m \u001b[38;5;28;01mif\u001b[39;00m file \u001b[38;5;129;01min\u001b[39;00m {\u001b[38;5;241m0\u001b[39m, \u001b[38;5;241m1\u001b[39m, \u001b[38;5;241m2\u001b[39m}:\n\u001b[0;32m    304\u001b[0m     \u001b[38;5;28;01mraise\u001b[39;00m \u001b[38;5;167;01mValueError\u001b[39;00m(\n\u001b[0;32m    305\u001b[0m         \u001b[38;5;124mf\u001b[39m\u001b[38;5;124m\"\u001b[39m\u001b[38;5;124mIPython won\u001b[39m\u001b[38;5;124m'\u001b[39m\u001b[38;5;124mt let you open fd=\u001b[39m\u001b[38;5;132;01m{\u001b[39;00mfile\u001b[38;5;132;01m}\u001b[39;00m\u001b[38;5;124m by default \u001b[39m\u001b[38;5;124m\"\u001b[39m\n\u001b[0;32m    306\u001b[0m         \u001b[38;5;124m\"\u001b[39m\u001b[38;5;124mas it is likely to crash IPython. If you know what you are doing, \u001b[39m\u001b[38;5;124m\"\u001b[39m\n\u001b[0;32m    307\u001b[0m         \u001b[38;5;124m\"\u001b[39m\u001b[38;5;124myou can use builtins\u001b[39m\u001b[38;5;124m'\u001b[39m\u001b[38;5;124m open.\u001b[39m\u001b[38;5;124m\"\u001b[39m\n\u001b[0;32m    308\u001b[0m     )\n\u001b[1;32m--> 310\u001b[0m \u001b[38;5;28;01mreturn\u001b[39;00m io_open(file, \u001b[38;5;241m*\u001b[39margs, \u001b[38;5;241m*\u001b[39m\u001b[38;5;241m*\u001b[39mkwargs)\n",
      "\u001b[1;31mFileExistsError\u001b[0m: [Errno 17] File exists: 'test.txt'"
     ]
    }
   ],
   "source": [
    "f= open(\"test.txt\", \"x\" )"
   ]
  },
  {
   "cell_type": "code",
   "execution_count": 8,
   "id": "c8cd3529-0471-4fea-b880-430b5bc54f75",
   "metadata": {},
   "outputs": [],
   "source": [
    "f = open(\"test1.txt\", \"w\")"
   ]
  },
  {
   "cell_type": "code",
   "execution_count": 9,
   "id": "c6d1f3be-9ede-4b01-a9e9-2e7a76ab9f26",
   "metadata": {},
   "outputs": [
    {
     "data": {
      "text/plain": [
       "47"
      ]
     },
     "execution_count": 9,
     "metadata": {},
     "output_type": "execute_result"
    }
   ],
   "source": [
    "f.write(\"IPython won't let you open fd={file} by default\")"
   ]
  },
  {
   "cell_type": "code",
   "execution_count": 10,
   "id": "5afdc455-c75a-48e6-a7ba-112b7cded282",
   "metadata": {},
   "outputs": [],
   "source": [
    "f.close()"
   ]
  },
  {
   "cell_type": "code",
   "execution_count": 12,
   "id": "0029de79-9887-45c1-a3a0-60499c1ff19b",
   "metadata": {},
   "outputs": [],
   "source": [
    "f = open(\"test1.txt\",\"r\")"
   ]
  },
  {
   "cell_type": "code",
   "execution_count": 13,
   "id": "36d4a302-38a5-4afb-a28f-a76e60177847",
   "metadata": {},
   "outputs": [
    {
     "data": {
      "text/plain": [
       "\"IPython won't let you open fd={file} by default\""
      ]
     },
     "execution_count": 13,
     "metadata": {},
     "output_type": "execute_result"
    }
   ],
   "source": [
    "f.read()"
   ]
  },
  {
   "cell_type": "code",
   "execution_count": 14,
   "id": "e8763168-6d41-4688-a922-da7b3ab5c581",
   "metadata": {},
   "outputs": [
    {
     "data": {
      "text/plain": [
       "''"
      ]
     },
     "execution_count": 14,
     "metadata": {},
     "output_type": "execute_result"
    }
   ],
   "source": [
    "f.read()"
   ]
  },
  {
   "cell_type": "code",
   "execution_count": 15,
   "id": "98827ac1-c541-47f7-a9ec-513a9eff46b9",
   "metadata": {},
   "outputs": [
    {
     "ename": "UnsupportedOperation",
     "evalue": "not writable",
     "output_type": "error",
     "traceback": [
      "\u001b[1;31m---------------------------------------------------------------------------\u001b[0m",
      "\u001b[1;31mUnsupportedOperation\u001b[0m                      Traceback (most recent call last)",
      "Cell \u001b[1;32mIn[15], line 1\u001b[0m\n\u001b[1;32m----> 1\u001b[0m f\u001b[38;5;241m.\u001b[39mwrite(\u001b[38;5;124m\"\u001b[39m\u001b[38;5;124mhello\u001b[39m\u001b[38;5;124m\"\u001b[39m)\n",
      "\u001b[1;31mUnsupportedOperation\u001b[0m: not writable"
     ]
    }
   ],
   "source": [
    "f.write(\"hello\")"
   ]
  },
  {
   "cell_type": "code",
   "execution_count": 16,
   "id": "cd8eb0ab-97a3-4c3a-9258-145a2886f688",
   "metadata": {},
   "outputs": [],
   "source": [
    "f.close()"
   ]
  },
  {
   "cell_type": "code",
   "execution_count": 29,
   "id": "500548f0-5046-4cbf-a3a2-03011a552ffc",
   "metadata": {},
   "outputs": [],
   "source": [
    "f = open(\"test1.txt\", \"r+\")"
   ]
  },
  {
   "cell_type": "code",
   "execution_count": 30,
   "id": "c57ab04b-c594-4023-b17c-3da515596eb5",
   "metadata": {},
   "outputs": [
    {
     "data": {
      "text/plain": [
       "'1. UnsupportedOperation -- Traceback (most recent call last)\\n2. UnsupportedOperation -- Traceback (most recent call last)\\n3. UnsupportedOperation -- Traceback (most recent call last)'"
      ]
     },
     "execution_count": 30,
     "metadata": {},
     "output_type": "execute_result"
    }
   ],
   "source": [
    "f.read()"
   ]
  },
  {
   "cell_type": "code",
   "execution_count": 20,
   "id": "43855275-f556-4966-8c3c-8222dfa0ef83",
   "metadata": {},
   "outputs": [
    {
     "data": {
      "text/plain": [
       "6"
      ]
     },
     "execution_count": 20,
     "metadata": {},
     "output_type": "execute_result"
    }
   ],
   "source": [
    "f.write(\" Hello\")"
   ]
  },
  {
   "cell_type": "code",
   "execution_count": 21,
   "id": "533205e3-f927-44f7-a748-b4748b5782bb",
   "metadata": {},
   "outputs": [],
   "source": [
    "f.close()"
   ]
  },
  {
   "cell_type": "code",
   "execution_count": 22,
   "id": "fdca3e70-88aa-4b22-b8e2-225e22ec4d59",
   "metadata": {},
   "outputs": [],
   "source": [
    "f = open(\"test1.txt\", \"w\")"
   ]
  },
  {
   "cell_type": "code",
   "execution_count": 23,
   "id": "08b81fd8-8c04-47e1-8a7a-10b8304d01b7",
   "metadata": {},
   "outputs": [
    {
     "ename": "UnsupportedOperation",
     "evalue": "not readable",
     "output_type": "error",
     "traceback": [
      "\u001b[1;31m---------------------------------------------------------------------------\u001b[0m",
      "\u001b[1;31mUnsupportedOperation\u001b[0m                      Traceback (most recent call last)",
      "Cell \u001b[1;32mIn[23], line 1\u001b[0m\n\u001b[1;32m----> 1\u001b[0m f\u001b[38;5;241m.\u001b[39mread()\n",
      "\u001b[1;31mUnsupportedOperation\u001b[0m: not readable"
     ]
    }
   ],
   "source": [
    "f.read()"
   ]
  },
  {
   "cell_type": "code",
   "execution_count": 24,
   "id": "b412bb5f-6dae-4a93-acf0-ea214d947a9b",
   "metadata": {},
   "outputs": [
    {
     "data": {
      "text/plain": [
       "23"
      ]
     },
     "execution_count": 24,
     "metadata": {},
     "output_type": "execute_result"
    }
   ],
   "source": [
    "f.write(\"UnsupportedOperation --\")"
   ]
  },
  {
   "cell_type": "code",
   "execution_count": 25,
   "id": "a40122b7-21e5-4015-b9e9-f6ed8fcdbad0",
   "metadata": {},
   "outputs": [],
   "source": [
    "f.close()"
   ]
  },
  {
   "cell_type": "code",
   "execution_count": 26,
   "id": "20b95eb9-ef70-4463-af91-33ce8f063adc",
   "metadata": {},
   "outputs": [],
   "source": [
    "f = open(\"test1.txt\", \"a\")"
   ]
  },
  {
   "cell_type": "code",
   "execution_count": 27,
   "id": "67639f12-327f-4337-8f92-f8f0146f886c",
   "metadata": {},
   "outputs": [
    {
     "data": {
      "text/plain": [
       "34"
      ]
     },
     "execution_count": 27,
     "metadata": {},
     "output_type": "execute_result"
    }
   ],
   "source": [
    "f.write(\" Traceback (most recent call last)\")"
   ]
  },
  {
   "cell_type": "code",
   "execution_count": 28,
   "id": "c312cca6-dc8e-4278-9cf3-38c39ebe7237",
   "metadata": {},
   "outputs": [],
   "source": [
    "f.close()"
   ]
  },
  {
   "cell_type": "code",
   "execution_count": 31,
   "id": "68a99ad8-3a88-4d90-9034-1998eaf99d51",
   "metadata": {},
   "outputs": [
    {
     "name": "stdout",
     "output_type": "stream",
     "text": [
      "1. UnsupportedOperation -- Traceback (most recent call last)\n",
      "\n"
     ]
    }
   ],
   "source": [
    "file = open(\"test1.txt\", \"r\")\n",
    "line = file.readline()\n",
    "print(line)\n",
    "file.close()"
   ]
  },
  {
   "cell_type": "code",
   "execution_count": 32,
   "id": "3d0e6980-50eb-4e06-a6fb-e2bd16c566ae",
   "metadata": {},
   "outputs": [
    {
     "name": "stdout",
     "output_type": "stream",
     "text": [
      "1. UnsupportedOperation -- Traceback (most recent call last)\n",
      "\n"
     ]
    }
   ],
   "source": [
    "file = open(\"test1.txt\", \"r\")\n",
    "line = file.readline()\n",
    "print(line)"
   ]
  },
  {
   "cell_type": "code",
   "execution_count": 33,
   "id": "49c1d2ad-6364-408a-9c47-657f6a2ddbc7",
   "metadata": {},
   "outputs": [
    {
     "name": "stdout",
     "output_type": "stream",
     "text": [
      "1. UnsupportedOperation -- Traceback (most recent call last)\n",
      "\n"
     ]
    }
   ],
   "source": [
    "print(line)"
   ]
  },
  {
   "cell_type": "code",
   "execution_count": 34,
   "id": "7ecd064b-64dd-4320-9143-e4008ce7f316",
   "metadata": {},
   "outputs": [
    {
     "data": {
      "text/plain": [
       "'2. UnsupportedOperation -- Traceback (most recent call last)\\n'"
      ]
     },
     "execution_count": 34,
     "metadata": {},
     "output_type": "execute_result"
    }
   ],
   "source": [
    "file.readline()"
   ]
  },
  {
   "cell_type": "code",
   "execution_count": 35,
   "id": "7b7ec2ed-8c80-4062-a7fc-75762b9c3c53",
   "metadata": {},
   "outputs": [
    {
     "data": {
      "text/plain": [
       "'3. UnsupportedOperation -- Traceback (most recent call last)'"
      ]
     },
     "execution_count": 35,
     "metadata": {},
     "output_type": "execute_result"
    }
   ],
   "source": [
    "file.readline()"
   ]
  },
  {
   "cell_type": "code",
   "execution_count": 36,
   "id": "baccb873-6715-454b-a743-f0951ee16848",
   "metadata": {},
   "outputs": [
    {
     "name": "stdout",
     "output_type": "stream",
     "text": [
      "['1. UnsupportedOperation -- Traceback (most recent call last)\\n', '2. UnsupportedOperation -- Traceback (most recent call last)\\n', '3. UnsupportedOperation -- Traceback (most recent call last)']\n"
     ]
    }
   ],
   "source": [
    "file = open(\"test1.txt\", \"r\")\n",
    "lines = file.readlines()\n",
    "print(lines)\n",
    "file.close()"
   ]
  },
  {
   "cell_type": "code",
   "execution_count": 37,
   "id": "7fdf3818-6c78-44bc-a10e-f2cb9d18b0db",
   "metadata": {},
   "outputs": [],
   "source": [
    "lines = ['1. UnsupportedOperation -- Traceback (most recent call last)\\n', '2. UnsupportedOperation -- Traceback (most recent call last)\\n', '3. UnsupportedOperation -- Traceback (most recent call last)']\n",
    "file = open(\"example.txt\", \"w\")\n",
    "file.writelines(lines)\n",
    "file.close()"
   ]
  },
  {
   "cell_type": "code",
   "execution_count": 38,
   "id": "ed36469c-19d5-4063-947c-01e3636025cf",
   "metadata": {},
   "outputs": [
    {
     "name": "stdout",
     "output_type": "stream",
     "text": [
      "1. UnsupportedOperation -- Traceback (most recent call last)\n",
      "2. UnsupportedOperation -- Traceback (most recent call last)\n",
      "3. UnsupportedOperation -- Traceback (most recent call last)\n"
     ]
    }
   ],
   "source": [
    "with open(\"test1.txt\") as f:\n",
    "    lines = f.read()\n",
    "    print(lines)"
   ]
  },
  {
   "cell_type": "code",
   "execution_count": 39,
   "id": "01ea0560-3a52-48a6-b188-a833d1ab85b9",
   "metadata": {},
   "outputs": [
    {
     "name": "stdout",
     "output_type": "stream",
     "text": [
      "Writing demo1.txt\n"
     ]
    }
   ],
   "source": [
    "%%writefile demo1.txt \n",
    "my name is amit "
   ]
  },
  {
   "cell_type": "code",
   "execution_count": null,
   "id": "b9483a70-d8ff-4720-8214-85ced7fd4d46",
   "metadata": {},
   "outputs": [],
   "source": [
    "for filename in listdir:\n",
    "    if filename == \"march\":\n",
    "        with open(filename) as f:\n",
    "            i = f.read()\n",
    "            print(i)"
   ]
  },
  {
   "cell_type": "code",
   "execution_count": null,
   "id": "6e49013d-afe6-42c8-85aa-e5220fae81df",
   "metadata": {},
   "outputs": [],
   "source": []
  },
  {
   "cell_type": "markdown",
   "id": "d4814236-7d9d-4ed6-8e43-4ecca5f7dda1",
   "metadata": {},
   "source": [
    "## OS "
   ]
  },
  {
   "cell_type": "code",
   "execution_count": 40,
   "id": "280b65ec-f775-4b44-b7cc-2daff1f01a91",
   "metadata": {},
   "outputs": [],
   "source": [
    "import os"
   ]
  },
  {
   "cell_type": "code",
   "execution_count": 41,
   "id": "86113402-ff9c-4c41-9eaa-35601b8046eb",
   "metadata": {},
   "outputs": [
    {
     "data": {
      "text/plain": [
       "'C:\\\\Users\\\\amitm\\\\Class\\\\03. DS_1_30_PM'"
      ]
     },
     "execution_count": 41,
     "metadata": {},
     "output_type": "execute_result"
    }
   ],
   "source": [
    "pwd"
   ]
  },
  {
   "cell_type": "code",
   "execution_count": 43,
   "id": "4e581cf4-805c-442a-9b76-64223fbfea7c",
   "metadata": {},
   "outputs": [
    {
     "data": {
      "text/plain": [
       "'C:\\\\Users\\\\amitm\\\\Class\\\\03. DS_1_30_PM'"
      ]
     },
     "execution_count": 43,
     "metadata": {},
     "output_type": "execute_result"
    }
   ],
   "source": [
    "os.getcwd()"
   ]
  },
  {
   "cell_type": "code",
   "execution_count": 44,
   "id": "6669638f-b63f-4a22-aac3-ca359c23a8d1",
   "metadata": {},
   "outputs": [],
   "source": [
    "os.chdir(\"C:\\\\Users\\\\amitm\\\\Downloads\")"
   ]
  },
  {
   "cell_type": "code",
   "execution_count": 45,
   "id": "017b8459-b1d5-4f89-95d7-0f0f0d337146",
   "metadata": {},
   "outputs": [
    {
     "data": {
      "text/plain": [
       "'C:\\\\Users\\\\amitm\\\\Downloads'"
      ]
     },
     "execution_count": 45,
     "metadata": {},
     "output_type": "execute_result"
    }
   ],
   "source": [
    "os.getcwd()"
   ]
  },
  {
   "cell_type": "code",
   "execution_count": 47,
   "id": "2a9868fd-3a98-4fd3-b51a-1f1d1819f1a9",
   "metadata": {},
   "outputs": [
    {
     "data": {
      "text/plain": [
       "['.Rhistory',\n",
       " '26th March Fsdsbootcamp(Detectron2_detection-20230326T140403Z-001).zip',\n",
       " '29. Decision Tree.ipynb',\n",
       " 'Chapter5- Going depper with Convolutions-20230218T070617Z-001 (1)',\n",
       " 'Dectectron',\n",
       " 'desktop.ini',\n",
       " 'Detectron2_detection',\n",
       " 'flowers',\n",
       " 'forest+fires',\n",
       " 'forest+fires.zip',\n",
       " 'forest_fires.rda',\n",
       " 'gInk_v1.1.1',\n",
       " 'Helio clinic',\n",
       " 'Inception-20230305T174039Z-001 (1)',\n",
       " 'labelImg.exe',\n",
       " 'Memory',\n",
       " 'Object-Detection-Metrics-master-20250820T064330Z-1-001',\n",
       " 'Python MCQ test.docx',\n",
       " 'Sign-Language-Generation-From-Video-using-YOLOV5-master',\n",
       " 'Trainers Interview Feedback.xlsx',\n",
       " 'VggNEt-20230225T072731Z-001',\n",
       " 'yolov5']"
      ]
     },
     "execution_count": 47,
     "metadata": {},
     "output_type": "execute_result"
    }
   ],
   "source": [
    "os.listdir()"
   ]
  },
  {
   "cell_type": "code",
   "execution_count": 48,
   "id": "1b8d86e0-b4b5-4adb-ac37-20f3561ef640",
   "metadata": {},
   "outputs": [],
   "source": [
    "os.mkdir(\"newfolder\")"
   ]
  },
  {
   "cell_type": "code",
   "execution_count": 49,
   "id": "92ffb596-c3ae-4813-b852-6e5266e25267",
   "metadata": {},
   "outputs": [
    {
     "data": {
      "text/plain": [
       "['.Rhistory',\n",
       " '26th March Fsdsbootcamp(Detectron2_detection-20230326T140403Z-001).zip',\n",
       " '29. Decision Tree.ipynb',\n",
       " 'Chapter5- Going depper with Convolutions-20230218T070617Z-001 (1)',\n",
       " 'Dectectron',\n",
       " 'desktop.ini',\n",
       " 'Detectron2_detection',\n",
       " 'flowers',\n",
       " 'forest+fires',\n",
       " 'forest+fires.zip',\n",
       " 'forest_fires.rda',\n",
       " 'gInk_v1.1.1',\n",
       " 'Helio clinic',\n",
       " 'Inception-20230305T174039Z-001 (1)',\n",
       " 'labelImg.exe',\n",
       " 'Memory',\n",
       " 'newfolder',\n",
       " 'Object-Detection-Metrics-master-20250820T064330Z-1-001',\n",
       " 'Python MCQ test.docx',\n",
       " 'Sign-Language-Generation-From-Video-using-YOLOV5-master',\n",
       " 'Trainers Interview Feedback.xlsx',\n",
       " 'VggNEt-20230225T072731Z-001',\n",
       " 'yolov5']"
      ]
     },
     "execution_count": 49,
     "metadata": {},
     "output_type": "execute_result"
    }
   ],
   "source": [
    "os.listdir()"
   ]
  },
  {
   "cell_type": "code",
   "execution_count": 50,
   "id": "a7577571-e4da-4bac-a251-720d057b1069",
   "metadata": {},
   "outputs": [],
   "source": [
    "os.chdir(\"C:\\\\Users\\\\amitm\\\\Downloads\\\\newfolder\")"
   ]
  },
  {
   "cell_type": "code",
   "execution_count": 51,
   "id": "6be68d79-d0c3-499b-bca7-2b5fdefeaace",
   "metadata": {},
   "outputs": [
    {
     "data": {
      "text/plain": [
       "[]"
      ]
     },
     "execution_count": 51,
     "metadata": {},
     "output_type": "execute_result"
    }
   ],
   "source": [
    "os.listdir()"
   ]
  },
  {
   "cell_type": "code",
   "execution_count": 52,
   "id": "118e79fe-b3e4-4f9d-b2b5-22fe5c0f241f",
   "metadata": {},
   "outputs": [
    {
     "name": "stdout",
     "output_type": "stream",
     "text": [
      "Writing newfile.txt\n"
     ]
    }
   ],
   "source": [
    "%%writefile newfile.txt\n",
    "!hello python"
   ]
  },
  {
   "cell_type": "code",
   "execution_count": 53,
   "id": "a69df395-d2eb-47c7-9315-f3f867cd7914",
   "metadata": {},
   "outputs": [
    {
     "data": {
      "text/plain": [
       "['newfile.txt']"
      ]
     },
     "execution_count": 53,
     "metadata": {},
     "output_type": "execute_result"
    }
   ],
   "source": [
    "os.listdir()"
   ]
  },
  {
   "cell_type": "code",
   "execution_count": 54,
   "id": "7b4b61ff-4e0b-421f-a751-a26e2f218ab8",
   "metadata": {},
   "outputs": [],
   "source": [
    "os.remove('newfile.txt')"
   ]
  },
  {
   "cell_type": "code",
   "execution_count": 55,
   "id": "8e500f50-3f1b-480a-970f-6ee331da6bbc",
   "metadata": {},
   "outputs": [
    {
     "data": {
      "text/plain": [
       "[]"
      ]
     },
     "execution_count": 55,
     "metadata": {},
     "output_type": "execute_result"
    }
   ],
   "source": [
    "os.listdir()"
   ]
  },
  {
   "cell_type": "code",
   "execution_count": 56,
   "id": "95bc1360-ed5b-400e-8f4a-61d5363108c7",
   "metadata": {},
   "outputs": [],
   "source": [
    "os.chdir(\"C:\\\\Users\\\\amitm\\\\Downloads\")"
   ]
  },
  {
   "cell_type": "code",
   "execution_count": 57,
   "id": "583490cd-cba2-4cdd-ad73-099caae02bec",
   "metadata": {},
   "outputs": [
    {
     "data": {
      "text/plain": [
       "'C:\\\\Users\\\\amitm\\\\Downloads'"
      ]
     },
     "execution_count": 57,
     "metadata": {},
     "output_type": "execute_result"
    }
   ],
   "source": [
    "os.getcwd()"
   ]
  },
  {
   "cell_type": "code",
   "execution_count": 58,
   "id": "1658f8ec-9da0-4a5f-ac17-7d2c53d9e1ec",
   "metadata": {},
   "outputs": [],
   "source": [
    "os.rmdir(\"newfolder\")"
   ]
  },
  {
   "cell_type": "code",
   "execution_count": 59,
   "id": "700f3542-e721-4e92-9f7a-5c6dc64b66ea",
   "metadata": {},
   "outputs": [
    {
     "data": {
      "text/plain": [
       "['.Rhistory',\n",
       " '26th March Fsdsbootcamp(Detectron2_detection-20230326T140403Z-001).zip',\n",
       " '29. Decision Tree.ipynb',\n",
       " 'Chapter5- Going depper with Convolutions-20230218T070617Z-001 (1)',\n",
       " 'Dectectron',\n",
       " 'desktop.ini',\n",
       " 'Detectron2_detection',\n",
       " 'flowers',\n",
       " 'forest+fires',\n",
       " 'forest+fires.zip',\n",
       " 'forest_fires.rda',\n",
       " 'gInk_v1.1.1',\n",
       " 'Helio clinic',\n",
       " 'Inception-20230305T174039Z-001 (1)',\n",
       " 'labelImg.exe',\n",
       " 'Memory',\n",
       " 'Object-Detection-Metrics-master-20250820T064330Z-1-001',\n",
       " 'Python MCQ test.docx',\n",
       " 'Sign-Language-Generation-From-Video-using-YOLOV5-master',\n",
       " 'Trainers Interview Feedback.xlsx',\n",
       " 'VggNEt-20230225T072731Z-001',\n",
       " 'yolov5']"
      ]
     },
     "execution_count": 59,
     "metadata": {},
     "output_type": "execute_result"
    }
   ],
   "source": [
    "os.listdir()"
   ]
  },
  {
   "cell_type": "code",
   "execution_count": 60,
   "id": "b5917e15-5377-4ea5-be19-993df250e972",
   "metadata": {},
   "outputs": [],
   "source": [
    "os.chdir('C:\\\\Users\\\\amitm\\\\Class\\\\03. DS_1_30_PM')"
   ]
  },
  {
   "cell_type": "code",
   "execution_count": 61,
   "id": "d332dad5-8af8-4f2e-854b-af0dfbed02d9",
   "metadata": {},
   "outputs": [
    {
     "data": {
      "text/plain": [
       "['.ipynb_checkpoints',\n",
       " 'Build-in Functions.ipynb',\n",
       " 'Conditions-1.ipynb',\n",
       " 'Conditions-2.ipynb',\n",
       " 'demo1.txt',\n",
       " 'Dictionary.ipynb',\n",
       " 'example.txt',\n",
       " 'List and Operation.ipynb',\n",
       " 'loop-2.ipynb',\n",
       " 'Loop-3.ipynb',\n",
       " 'Loops-1.ipynb',\n",
       " 'Python Basics.ipynb',\n",
       " 'Set.ipynb',\n",
       " 'String and Operations.ipynb',\n",
       " 'test.txt',\n",
       " 'test1.txt',\n",
       " 'Tuple.ipynb',\n",
       " 'Untitled.ipynb']"
      ]
     },
     "execution_count": 61,
     "metadata": {},
     "output_type": "execute_result"
    }
   ],
   "source": [
    "os.listdir()"
   ]
  },
  {
   "cell_type": "code",
   "execution_count": 62,
   "id": "5c4d40ba-1a6f-4754-b23b-7ee248406f0d",
   "metadata": {},
   "outputs": [],
   "source": [
    "for i in range(1, 11):\n",
    "    with open(f'file{i}.txt', 'w') as f:\n",
    "        f.write(f'This is file number {i}')"
   ]
  },
  {
   "cell_type": "code",
   "execution_count": 63,
   "id": "5c385a36-cb61-4ca4-af3e-7e5bbe07f0be",
   "metadata": {},
   "outputs": [
    {
     "name": "stdout",
     "output_type": "stream",
     "text": [
      "Deleted file1.txt\n",
      "Deleted file2.txt\n",
      "Deleted file3.txt\n",
      "Deleted file4.txt\n",
      "Deleted file5.txt\n",
      "Deleted file6.txt\n",
      "Deleted file7.txt\n",
      "Deleted file8.txt\n",
      "Deleted file9.txt\n",
      "Deleted file10.txt\n"
     ]
    }
   ],
   "source": [
    "i = 1\n",
    "while i <= 10:\n",
    "    file_name = f'file{i}.txt'\n",
    "    if os.path.exists(file_name):\n",
    "        os.remove(file_name)\n",
    "        print(f'Deleted {file_name}')\n",
    "    else:\n",
    "        print(f'{file_name} does not exist')\n",
    "    i += 1"
   ]
  },
  {
   "cell_type": "code",
   "execution_count": null,
   "id": "8018f3d5-c537-4ec7-808c-2053195a593a",
   "metadata": {},
   "outputs": [],
   "source": []
  }
 ],
 "metadata": {
  "kernelspec": {
   "display_name": "Python 3 (ipykernel)",
   "language": "python",
   "name": "python3"
  },
  "language_info": {
   "codemirror_mode": {
    "name": "ipython",
    "version": 3
   },
   "file_extension": ".py",
   "mimetype": "text/x-python",
   "name": "python",
   "nbconvert_exporter": "python",
   "pygments_lexer": "ipython3",
   "version": "3.11.7"
  }
 },
 "nbformat": 4,
 "nbformat_minor": 5
}
