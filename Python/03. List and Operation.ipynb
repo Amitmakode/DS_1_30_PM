{
 "cells": [
  {
   "cell_type": "markdown",
   "id": "6e5f925c-396c-42c9-ac5b-c2ae775b4ab5",
   "metadata": {},
   "source": [
    "### List"
   ]
  },
  {
   "cell_type": "code",
   "execution_count": 13,
   "id": "5f87c10c-2f26-4ff4-9441-c6fec414828c",
   "metadata": {},
   "outputs": [],
   "source": [
    "l1 = [1,2,3,4,5,6,7,8,9,0]"
   ]
  },
  {
   "cell_type": "code",
   "execution_count": 4,
   "id": "a8fe72e6-5175-474a-adcd-a1276b63fd29",
   "metadata": {},
   "outputs": [],
   "source": [
    "l2 = [\"red\", \"pink\", \"white\", \"black\"]"
   ]
  },
  {
   "cell_type": "markdown",
   "id": "fc58f396-afc8-468e-b4df-8feaa2fb3725",
   "metadata": {},
   "source": [
    "#### Operations of the list"
   ]
  },
  {
   "cell_type": "markdown",
   "id": "bb72a51d-51a8-46bc-a0e1-5e4a09ea2906",
   "metadata": {},
   "source": [
    "#### 1. indexing"
   ]
  },
  {
   "cell_type": "code",
   "execution_count": 5,
   "id": "9f80d7bf-abe4-44e0-b930-f979116d6f60",
   "metadata": {},
   "outputs": [
    {
     "data": {
      "text/plain": [
       "4"
      ]
     },
     "execution_count": 5,
     "metadata": {},
     "output_type": "execute_result"
    }
   ],
   "source": [
    "l1[3]"
   ]
  },
  {
   "cell_type": "code",
   "execution_count": 6,
   "id": "6490d3d7-aa89-41b6-9156-75bd22203dfb",
   "metadata": {},
   "outputs": [
    {
     "data": {
      "text/plain": [
       "1"
      ]
     },
     "execution_count": 6,
     "metadata": {},
     "output_type": "execute_result"
    }
   ],
   "source": [
    "l1[0]"
   ]
  },
  {
   "cell_type": "code",
   "execution_count": 7,
   "id": "c25767f2-9216-43f4-80f7-8961bf200a5b",
   "metadata": {},
   "outputs": [
    {
     "ename": "IndexError",
     "evalue": "list index out of range",
     "output_type": "error",
     "traceback": [
      "\u001b[1;31m---------------------------------------------------------------------------\u001b[0m",
      "\u001b[1;31mIndexError\u001b[0m                                Traceback (most recent call last)",
      "Cell \u001b[1;32mIn[7], line 1\u001b[0m\n\u001b[1;32m----> 1\u001b[0m l2[\u001b[38;5;241m5\u001b[39m]\n",
      "\u001b[1;31mIndexError\u001b[0m: list index out of range"
     ]
    }
   ],
   "source": [
    "l2[5]"
   ]
  },
  {
   "cell_type": "code",
   "execution_count": 8,
   "id": "6cb06985-56dd-4b07-9a38-09d3895d2763",
   "metadata": {},
   "outputs": [
    {
     "data": {
      "text/plain": [
       "'white'"
      ]
     },
     "execution_count": 8,
     "metadata": {},
     "output_type": "execute_result"
    }
   ],
   "source": [
    "l2[2]"
   ]
  },
  {
   "cell_type": "markdown",
   "id": "5d330c5b-1b48-4434-afe8-d9fa859cf845",
   "metadata": {},
   "source": [
    "#### 2. Slicing"
   ]
  },
  {
   "cell_type": "code",
   "execution_count": 9,
   "id": "01bf4808-4bff-44c2-bba8-6a37aafac4c3",
   "metadata": {},
   "outputs": [
    {
     "data": {
      "text/plain": [
       "[1, 2, 3, 4, 5, 6]"
      ]
     },
     "execution_count": 9,
     "metadata": {},
     "output_type": "execute_result"
    }
   ],
   "source": [
    "l1[:]"
   ]
  },
  {
   "cell_type": "code",
   "execution_count": 10,
   "id": "65414291-416b-4b67-a163-d5e800a6a3f5",
   "metadata": {},
   "outputs": [
    {
     "data": {
      "text/plain": [
       "[3, 4, 5, 6]"
      ]
     },
     "execution_count": 10,
     "metadata": {},
     "output_type": "execute_result"
    }
   ],
   "source": [
    "l1[2:]"
   ]
  },
  {
   "cell_type": "code",
   "execution_count": 11,
   "id": "12643274-68b0-4b02-8cfb-9c5b1ed1819c",
   "metadata": {},
   "outputs": [
    {
     "data": {
      "text/plain": [
       "[1, 2, 3, 4, 5]"
      ]
     },
     "execution_count": 11,
     "metadata": {},
     "output_type": "execute_result"
    }
   ],
   "source": [
    "l1[:5]"
   ]
  },
  {
   "cell_type": "code",
   "execution_count": 12,
   "id": "e3238320-de6b-4e53-a968-11609e486982",
   "metadata": {},
   "outputs": [
    {
     "data": {
      "text/plain": [
       "[3, 4, 5]"
      ]
     },
     "execution_count": 12,
     "metadata": {},
     "output_type": "execute_result"
    }
   ],
   "source": [
    "l1[2:5]"
   ]
  },
  {
   "cell_type": "code",
   "execution_count": 14,
   "id": "c3b7bdac-376b-49e4-be80-3448a49c3a16",
   "metadata": {},
   "outputs": [
    {
     "data": {
      "text/plain": [
       "[1, 2, 3, 4, 5, 6, 7, 8, 9, 0]"
      ]
     },
     "execution_count": 14,
     "metadata": {},
     "output_type": "execute_result"
    }
   ],
   "source": [
    "l1[:15]"
   ]
  },
  {
   "cell_type": "code",
   "execution_count": 15,
   "id": "9ea96244-7991-4cdc-8bd0-ca8f55739b9d",
   "metadata": {},
   "outputs": [
    {
     "data": {
      "text/plain": [
       "[1, 3, 5, 7, 9]"
      ]
     },
     "execution_count": 15,
     "metadata": {},
     "output_type": "execute_result"
    }
   ],
   "source": [
    "l1[0:12:2]"
   ]
  },
  {
   "cell_type": "code",
   "execution_count": 16,
   "id": "6eba6762-8741-4261-86fe-7c1a23ca86b8",
   "metadata": {},
   "outputs": [
    {
     "data": {
      "text/plain": [
       "[]"
      ]
     },
     "execution_count": 16,
     "metadata": {},
     "output_type": "execute_result"
    }
   ],
   "source": [
    "l1[0:12:-2]"
   ]
  },
  {
   "cell_type": "code",
   "execution_count": 17,
   "id": "c870ee7a-e05c-4c0c-b999-46142e6f3100",
   "metadata": {},
   "outputs": [
    {
     "data": {
      "text/plain": [
       "[0, 8, 6, 4, 2]"
      ]
     },
     "execution_count": 17,
     "metadata": {},
     "output_type": "execute_result"
    }
   ],
   "source": [
    "l1[12:0:-2]"
   ]
  },
  {
   "cell_type": "code",
   "execution_count": 18,
   "id": "16942091-2bbd-459f-9306-618c3d82bd66",
   "metadata": {},
   "outputs": [
    {
     "data": {
      "text/plain": [
       "[0, 9, 8, 7, 6, 5, 4, 3, 2, 1]"
      ]
     },
     "execution_count": 18,
     "metadata": {},
     "output_type": "execute_result"
    }
   ],
   "source": [
    "l1[::-1]"
   ]
  },
  {
   "cell_type": "code",
   "execution_count": 19,
   "id": "34afae7b-6689-4942-9d73-d3f6aaf98197",
   "metadata": {},
   "outputs": [
    {
     "data": {
      "text/plain": [
       "['red', 'pink', 'white', 'black']"
      ]
     },
     "execution_count": 19,
     "metadata": {},
     "output_type": "execute_result"
    }
   ],
   "source": [
    "l2"
   ]
  },
  {
   "cell_type": "code",
   "execution_count": 20,
   "id": "5cba12d9-fe6d-4939-af1b-0b78f4bfaa03",
   "metadata": {},
   "outputs": [
    {
     "data": {
      "text/plain": [
       "['black', 'white', 'pink', 'red']"
      ]
     },
     "execution_count": 20,
     "metadata": {},
     "output_type": "execute_result"
    }
   ],
   "source": [
    "l2[::-1]"
   ]
  },
  {
   "cell_type": "code",
   "execution_count": 21,
   "id": "a7368f3a-1df0-495a-ada1-68cf1e9aa58a",
   "metadata": {},
   "outputs": [
    {
     "data": {
      "text/plain": [
       "[0, 8, 6, 4, 2]"
      ]
     },
     "execution_count": 21,
     "metadata": {},
     "output_type": "execute_result"
    }
   ],
   "source": [
    "l1[::-2]"
   ]
  },
  {
   "cell_type": "markdown",
   "id": "c5f380c1-b0e9-416e-844b-30c64022f603",
   "metadata": {},
   "source": [
    "#### 3. Concadination"
   ]
  },
  {
   "cell_type": "code",
   "execution_count": 22,
   "id": "35e7b17a-ec17-49b0-acf7-a57803e4b43d",
   "metadata": {},
   "outputs": [
    {
     "data": {
      "text/plain": [
       "[1, 2, 3, 4, 5, 6, 7, 8, 9, 0]"
      ]
     },
     "execution_count": 22,
     "metadata": {},
     "output_type": "execute_result"
    }
   ],
   "source": [
    "l1"
   ]
  },
  {
   "cell_type": "code",
   "execution_count": 23,
   "id": "29cb67ea-bb84-4cd7-8a65-f5873b5003c5",
   "metadata": {},
   "outputs": [
    {
     "data": {
      "text/plain": [
       "['red', 'pink', 'white', 'black']"
      ]
     },
     "execution_count": 23,
     "metadata": {},
     "output_type": "execute_result"
    }
   ],
   "source": [
    "l2"
   ]
  },
  {
   "cell_type": "code",
   "execution_count": 24,
   "id": "f05f7a35-f904-4f91-8220-eec7a1d56143",
   "metadata": {},
   "outputs": [
    {
     "data": {
      "text/plain": [
       "[1, 2, 3, 4, 5, 6, 7, 8, 9, 0, 'red', 'pink', 'white', 'black']"
      ]
     },
     "execution_count": 24,
     "metadata": {},
     "output_type": "execute_result"
    }
   ],
   "source": [
    "l1 + l2"
   ]
  },
  {
   "cell_type": "markdown",
   "id": "dc14e005-98e1-4c76-b7ad-c7a3b3427d17",
   "metadata": {},
   "source": [
    "#### 4. Repeatation"
   ]
  },
  {
   "cell_type": "code",
   "execution_count": 25,
   "id": "cf073ee8-5bc7-4836-89c2-a701bb8725c6",
   "metadata": {},
   "outputs": [
    {
     "data": {
      "text/plain": [
       "['red', 'pink', 'white', 'black']"
      ]
     },
     "execution_count": 25,
     "metadata": {},
     "output_type": "execute_result"
    }
   ],
   "source": [
    "l2"
   ]
  },
  {
   "cell_type": "code",
   "execution_count": 27,
   "id": "bb5f5375-0230-4625-b9ca-4767eaee695f",
   "metadata": {},
   "outputs": [
    {
     "data": {
      "text/plain": [
       "['red', 'pink', 'white', 'black', 'red', 'pink', 'white', 'black']"
      ]
     },
     "execution_count": 27,
     "metadata": {},
     "output_type": "execute_result"
    }
   ],
   "source": [
    "l2*2"
   ]
  },
  {
   "cell_type": "markdown",
   "id": "b65fd37b-03ca-42aa-a7c7-6d366b6cb897",
   "metadata": {},
   "source": [
    "#### 5. Mutation"
   ]
  },
  {
   "cell_type": "code",
   "execution_count": 28,
   "id": "d2dcbd78-b80b-4fc3-9571-3abf895b17f6",
   "metadata": {},
   "outputs": [
    {
     "data": {
      "text/plain": [
       "['red', 'pink', 'white', 'black']"
      ]
     },
     "execution_count": 28,
     "metadata": {},
     "output_type": "execute_result"
    }
   ],
   "source": [
    "l2"
   ]
  },
  {
   "cell_type": "code",
   "execution_count": 29,
   "id": "ba832658-7b9b-47e3-b635-2cddf4cf08cd",
   "metadata": {},
   "outputs": [],
   "source": [
    "l2[1] = \"Green\""
   ]
  },
  {
   "cell_type": "code",
   "execution_count": 30,
   "id": "cfcb4015-88be-41e7-8af5-068f15271cd9",
   "metadata": {},
   "outputs": [
    {
     "data": {
      "text/plain": [
       "['red', 'Green', 'white', 'black']"
      ]
     },
     "execution_count": 30,
     "metadata": {},
     "output_type": "execute_result"
    }
   ],
   "source": [
    "l2"
   ]
  },
  {
   "cell_type": "markdown",
   "id": "55608be4-cc7f-4d63-88dc-78ff1357737c",
   "metadata": {},
   "source": [
    "#### Function of List"
   ]
  },
  {
   "cell_type": "code",
   "execution_count": 31,
   "id": "4ffca067-0d75-4770-9bde-c08bdcadd0fe",
   "metadata": {},
   "outputs": [
    {
     "data": {
      "text/plain": [
       "[1, 2, 3, 4, 5, 6, 7, 8, 9, 0]"
      ]
     },
     "execution_count": 31,
     "metadata": {},
     "output_type": "execute_result"
    }
   ],
   "source": [
    "l1"
   ]
  },
  {
   "cell_type": "code",
   "execution_count": 32,
   "id": "dc278831-e38a-4fdc-98c9-78450f23b0b0",
   "metadata": {},
   "outputs": [],
   "source": [
    "l1.append(121)"
   ]
  },
  {
   "cell_type": "code",
   "execution_count": 33,
   "id": "4eb7df3a-9e15-4e16-9337-db96c7559969",
   "metadata": {},
   "outputs": [
    {
     "data": {
      "text/plain": [
       "[1, 2, 3, 4, 5, 6, 7, 8, 9, 0, 121]"
      ]
     },
     "execution_count": 33,
     "metadata": {},
     "output_type": "execute_result"
    }
   ],
   "source": [
    "l1"
   ]
  },
  {
   "cell_type": "code",
   "execution_count": 34,
   "id": "50660bf6-45a8-4902-9f5c-f297ef8a0707",
   "metadata": {},
   "outputs": [],
   "source": [
    "l1.append(123)"
   ]
  },
  {
   "cell_type": "code",
   "execution_count": 35,
   "id": "9c8df336-e453-4e08-8430-15778c3acb74",
   "metadata": {},
   "outputs": [
    {
     "data": {
      "text/plain": [
       "[1, 2, 3, 4, 5, 6, 7, 8, 9, 0, 121, 123]"
      ]
     },
     "execution_count": 35,
     "metadata": {},
     "output_type": "execute_result"
    }
   ],
   "source": [
    "l1"
   ]
  },
  {
   "cell_type": "code",
   "execution_count": 36,
   "id": "efe7990a-e5a7-4d28-941e-7ba6c1a46260",
   "metadata": {},
   "outputs": [],
   "source": [
    "l1.append([1,2,3])"
   ]
  },
  {
   "cell_type": "code",
   "execution_count": 37,
   "id": "7ca91b45-890d-4a0c-afd6-5e0b413d5010",
   "metadata": {},
   "outputs": [
    {
     "data": {
      "text/plain": [
       "[1, 2, 3, 4, 5, 6, 7, 8, 9, 0, 121, 123, [1, 2, 3]]"
      ]
     },
     "execution_count": 37,
     "metadata": {},
     "output_type": "execute_result"
    }
   ],
   "source": [
    "l1"
   ]
  },
  {
   "cell_type": "code",
   "execution_count": 38,
   "id": "20dee41a-cd17-421b-92d2-4975c2ab4cc1",
   "metadata": {},
   "outputs": [
    {
     "ename": "TypeError",
     "evalue": "'int' object is not iterable",
     "output_type": "error",
     "traceback": [
      "\u001b[1;31m---------------------------------------------------------------------------\u001b[0m",
      "\u001b[1;31mTypeError\u001b[0m                                 Traceback (most recent call last)",
      "Cell \u001b[1;32mIn[38], line 1\u001b[0m\n\u001b[1;32m----> 1\u001b[0m l1\u001b[38;5;241m.\u001b[39mextend(\u001b[38;5;241m222\u001b[39m)\n",
      "\u001b[1;31mTypeError\u001b[0m: 'int' object is not iterable"
     ]
    }
   ],
   "source": [
    "l1.extend(222)"
   ]
  },
  {
   "cell_type": "code",
   "execution_count": 39,
   "id": "53d5e69d-5bde-4c11-8abd-e53d63b2047e",
   "metadata": {},
   "outputs": [],
   "source": [
    "l1.extend([222])"
   ]
  },
  {
   "cell_type": "code",
   "execution_count": 40,
   "id": "a4abb4c2-0b9e-4902-b831-b67151677465",
   "metadata": {},
   "outputs": [
    {
     "data": {
      "text/plain": [
       "[1, 2, 3, 4, 5, 6, 7, 8, 9, 0, 121, 123, [1, 2, 3], 222]"
      ]
     },
     "execution_count": 40,
     "metadata": {},
     "output_type": "execute_result"
    }
   ],
   "source": [
    "l1"
   ]
  },
  {
   "cell_type": "code",
   "execution_count": 41,
   "id": "6c95deb3-3fc8-4bb4-9462-56c48db1154f",
   "metadata": {},
   "outputs": [],
   "source": [
    "l1.extend(l2)"
   ]
  },
  {
   "cell_type": "code",
   "execution_count": 42,
   "id": "adc1709b-1248-4076-9bc7-7d3e85c518f4",
   "metadata": {},
   "outputs": [
    {
     "data": {
      "text/plain": [
       "[1,\n",
       " 2,\n",
       " 3,\n",
       " 4,\n",
       " 5,\n",
       " 6,\n",
       " 7,\n",
       " 8,\n",
       " 9,\n",
       " 0,\n",
       " 121,\n",
       " 123,\n",
       " [1, 2, 3],\n",
       " 222,\n",
       " 'red',\n",
       " 'Green',\n",
       " 'white',\n",
       " 'black']"
      ]
     },
     "execution_count": 42,
     "metadata": {},
     "output_type": "execute_result"
    }
   ],
   "source": [
    "l1"
   ]
  },
  {
   "cell_type": "code",
   "execution_count": 43,
   "id": "04b52549-a30f-4bfa-b2ff-ae4b98d1edfc",
   "metadata": {},
   "outputs": [],
   "source": [
    "l1.extend(\"java\")"
   ]
  },
  {
   "cell_type": "code",
   "execution_count": 44,
   "id": "1b198b4d-d3d1-43e9-ac9d-b47a13fdbec5",
   "metadata": {},
   "outputs": [
    {
     "data": {
      "text/plain": [
       "[1,\n",
       " 2,\n",
       " 3,\n",
       " 4,\n",
       " 5,\n",
       " 6,\n",
       " 7,\n",
       " 8,\n",
       " 9,\n",
       " 0,\n",
       " 121,\n",
       " 123,\n",
       " [1, 2, 3],\n",
       " 222,\n",
       " 'red',\n",
       " 'Green',\n",
       " 'white',\n",
       " 'black',\n",
       " 'j',\n",
       " 'a',\n",
       " 'v',\n",
       " 'a']"
      ]
     },
     "execution_count": 44,
     "metadata": {},
     "output_type": "execute_result"
    }
   ],
   "source": [
    "l1"
   ]
  },
  {
   "cell_type": "code",
   "execution_count": 45,
   "id": "3e6a6e97-c7ec-4df1-ace5-cf473412efdd",
   "metadata": {},
   "outputs": [],
   "source": [
    "l1.insert(2, 333)"
   ]
  },
  {
   "cell_type": "code",
   "execution_count": 46,
   "id": "4c18a68d-0260-4f8f-9719-df990f4e1e78",
   "metadata": {},
   "outputs": [
    {
     "data": {
      "text/plain": [
       "[1,\n",
       " 2,\n",
       " 333,\n",
       " 3,\n",
       " 4,\n",
       " 5,\n",
       " 6,\n",
       " 7,\n",
       " 8,\n",
       " 9,\n",
       " 0,\n",
       " 121,\n",
       " 123,\n",
       " [1, 2, 3],\n",
       " 222,\n",
       " 'red',\n",
       " 'Green',\n",
       " 'white',\n",
       " 'black',\n",
       " 'j',\n",
       " 'a',\n",
       " 'v',\n",
       " 'a']"
      ]
     },
     "execution_count": 46,
     "metadata": {},
     "output_type": "execute_result"
    }
   ],
   "source": [
    "l1"
   ]
  },
  {
   "cell_type": "code",
   "execution_count": 47,
   "id": "c63151c0-dbba-4ab7-bc3c-e1dcd2c988d7",
   "metadata": {},
   "outputs": [],
   "source": [
    "l1.insert(0, \"yellow\")"
   ]
  },
  {
   "cell_type": "code",
   "execution_count": 48,
   "id": "9aaf94a7-f78a-492d-9ffc-37c3afc2cbd6",
   "metadata": {},
   "outputs": [
    {
     "data": {
      "text/plain": [
       "['yellow',\n",
       " 1,\n",
       " 2,\n",
       " 333,\n",
       " 3,\n",
       " 4,\n",
       " 5,\n",
       " 6,\n",
       " 7,\n",
       " 8,\n",
       " 9,\n",
       " 0,\n",
       " 121,\n",
       " 123,\n",
       " [1, 2, 3],\n",
       " 222,\n",
       " 'red',\n",
       " 'Green',\n",
       " 'white',\n",
       " 'black',\n",
       " 'j',\n",
       " 'a',\n",
       " 'v',\n",
       " 'a']"
      ]
     },
     "execution_count": 48,
     "metadata": {},
     "output_type": "execute_result"
    }
   ],
   "source": [
    "l1"
   ]
  },
  {
   "cell_type": "code",
   "execution_count": 53,
   "id": "debc5eb4-2cf5-45a3-a37c-e9bd24897113",
   "metadata": {},
   "outputs": [
    {
     "data": {
      "text/plain": [
       "'a'"
      ]
     },
     "execution_count": 53,
     "metadata": {},
     "output_type": "execute_result"
    }
   ],
   "source": [
    "l1.pop()"
   ]
  },
  {
   "cell_type": "code",
   "execution_count": 54,
   "id": "f66849a7-65be-40b6-980d-2b252d9410f3",
   "metadata": {},
   "outputs": [
    {
     "data": {
      "text/plain": [
       "['yellow',\n",
       " 1,\n",
       " 2,\n",
       " 333,\n",
       " 3,\n",
       " 4,\n",
       " 5,\n",
       " 6,\n",
       " 7,\n",
       " 8,\n",
       " 9,\n",
       " 0,\n",
       " 121,\n",
       " 123,\n",
       " [1, 2, 3],\n",
       " 222,\n",
       " 'red',\n",
       " 'Green',\n",
       " 'white',\n",
       " 'black',\n",
       " 'j']"
      ]
     },
     "execution_count": 54,
     "metadata": {},
     "output_type": "execute_result"
    }
   ],
   "source": [
    "l1"
   ]
  },
  {
   "cell_type": "code",
   "execution_count": 55,
   "id": "075d5f23-ed8a-4633-8fce-116c98eb7b37",
   "metadata": {},
   "outputs": [],
   "source": [
    "l1.remove(\"red\")"
   ]
  },
  {
   "cell_type": "code",
   "execution_count": 56,
   "id": "aef84072-a54d-4864-adb9-787cf38b804a",
   "metadata": {},
   "outputs": [
    {
     "data": {
      "text/plain": [
       "['yellow',\n",
       " 1,\n",
       " 2,\n",
       " 333,\n",
       " 3,\n",
       " 4,\n",
       " 5,\n",
       " 6,\n",
       " 7,\n",
       " 8,\n",
       " 9,\n",
       " 0,\n",
       " 121,\n",
       " 123,\n",
       " [1, 2, 3],\n",
       " 222,\n",
       " 'Green',\n",
       " 'white',\n",
       " 'black',\n",
       " 'j']"
      ]
     },
     "execution_count": 56,
     "metadata": {},
     "output_type": "execute_result"
    }
   ],
   "source": [
    "l1"
   ]
  },
  {
   "cell_type": "code",
   "execution_count": 57,
   "id": "3ba0c37c-e56f-4885-a331-a45c6096d426",
   "metadata": {},
   "outputs": [],
   "source": [
    "l1.remove(3)"
   ]
  },
  {
   "cell_type": "code",
   "execution_count": 58,
   "id": "efde827c-2f8c-4453-9846-a00f4782981b",
   "metadata": {},
   "outputs": [
    {
     "data": {
      "text/plain": [
       "['yellow',\n",
       " 1,\n",
       " 2,\n",
       " 333,\n",
       " 4,\n",
       " 5,\n",
       " 6,\n",
       " 7,\n",
       " 8,\n",
       " 9,\n",
       " 0,\n",
       " 121,\n",
       " 123,\n",
       " [1, 2, 3],\n",
       " 222,\n",
       " 'Green',\n",
       " 'white',\n",
       " 'black',\n",
       " 'j']"
      ]
     },
     "execution_count": 58,
     "metadata": {},
     "output_type": "execute_result"
    }
   ],
   "source": [
    "l1"
   ]
  },
  {
   "cell_type": "code",
   "execution_count": 59,
   "id": "e9396099-3a12-494d-9ed0-c4c401b048e6",
   "metadata": {},
   "outputs": [],
   "source": [
    "l1.remove(121)"
   ]
  },
  {
   "cell_type": "code",
   "execution_count": 60,
   "id": "1be887e6-f26f-4e5d-b140-56df65909752",
   "metadata": {},
   "outputs": [
    {
     "data": {
      "text/plain": [
       "['yellow',\n",
       " 1,\n",
       " 2,\n",
       " 333,\n",
       " 4,\n",
       " 5,\n",
       " 6,\n",
       " 7,\n",
       " 8,\n",
       " 9,\n",
       " 0,\n",
       " 123,\n",
       " [1, 2, 3],\n",
       " 222,\n",
       " 'Green',\n",
       " 'white',\n",
       " 'black',\n",
       " 'j']"
      ]
     },
     "execution_count": 60,
     "metadata": {},
     "output_type": "execute_result"
    }
   ],
   "source": [
    "l1"
   ]
  },
  {
   "cell_type": "code",
   "execution_count": 62,
   "id": "af50dc77-0843-4334-b88c-e86910274f00",
   "metadata": {},
   "outputs": [],
   "source": [
    "l1.append(2)"
   ]
  },
  {
   "cell_type": "code",
   "execution_count": 63,
   "id": "7a82848d-ac2a-4ca9-9b21-9ac7cffd8696",
   "metadata": {},
   "outputs": [
    {
     "data": {
      "text/plain": [
       "['yellow',\n",
       " 1,\n",
       " 2,\n",
       " 333,\n",
       " 4,\n",
       " 5,\n",
       " 6,\n",
       " 7,\n",
       " 8,\n",
       " 9,\n",
       " 0,\n",
       " 123,\n",
       " [1, 2, 3],\n",
       " 222,\n",
       " 'Green',\n",
       " 'white',\n",
       " 'black',\n",
       " 'j',\n",
       " 2,\n",
       " 2]"
      ]
     },
     "execution_count": 63,
     "metadata": {},
     "output_type": "execute_result"
    }
   ],
   "source": [
    "l1"
   ]
  },
  {
   "cell_type": "code",
   "execution_count": 64,
   "id": "816762b0-87b0-43b2-992a-3a0bee850dbe",
   "metadata": {},
   "outputs": [
    {
     "data": {
      "text/plain": [
       "3"
      ]
     },
     "execution_count": 64,
     "metadata": {},
     "output_type": "execute_result"
    }
   ],
   "source": [
    "l1.count(2)"
   ]
  },
  {
   "cell_type": "code",
   "execution_count": 65,
   "id": "e442078c-0946-477f-a88f-268e470f38d5",
   "metadata": {},
   "outputs": [
    {
     "data": {
      "text/plain": [
       "1"
      ]
     },
     "execution_count": 65,
     "metadata": {},
     "output_type": "execute_result"
    }
   ],
   "source": [
    "l1.count(4)"
   ]
  },
  {
   "cell_type": "code",
   "execution_count": 66,
   "id": "a8ec3de6-711b-4e32-befb-9d9760ad53b1",
   "metadata": {},
   "outputs": [],
   "source": [
    "l3 = l1.copy() "
   ]
  },
  {
   "cell_type": "code",
   "execution_count": 67,
   "id": "8c8616f8-2108-46b4-b31b-4b29d2eeeac1",
   "metadata": {},
   "outputs": [
    {
     "data": {
      "text/plain": [
       "['yellow',\n",
       " 1,\n",
       " 2,\n",
       " 333,\n",
       " 4,\n",
       " 5,\n",
       " 6,\n",
       " 7,\n",
       " 8,\n",
       " 9,\n",
       " 0,\n",
       " 123,\n",
       " [1, 2, 3],\n",
       " 222,\n",
       " 'Green',\n",
       " 'white',\n",
       " 'black',\n",
       " 'j',\n",
       " 2,\n",
       " 2]"
      ]
     },
     "execution_count": 67,
     "metadata": {},
     "output_type": "execute_result"
    }
   ],
   "source": [
    "l3"
   ]
  },
  {
   "cell_type": "code",
   "execution_count": 68,
   "id": "85157b40-8a40-45c6-8ec5-862ce58b44ba",
   "metadata": {},
   "outputs": [
    {
     "data": {
      "text/plain": [
       "['yellow',\n",
       " 1,\n",
       " 2,\n",
       " 333,\n",
       " 4,\n",
       " 5,\n",
       " 6,\n",
       " 7,\n",
       " 8,\n",
       " 9,\n",
       " 0,\n",
       " 123,\n",
       " [1, 2, 3],\n",
       " 222,\n",
       " 'Green',\n",
       " 'white',\n",
       " 'black',\n",
       " 'j',\n",
       " 2,\n",
       " 2]"
      ]
     },
     "execution_count": 68,
     "metadata": {},
     "output_type": "execute_result"
    }
   ],
   "source": [
    "l1"
   ]
  },
  {
   "cell_type": "code",
   "execution_count": 69,
   "id": "4d08a8dc-6bbd-4182-af8c-d7f2131f6250",
   "metadata": {},
   "outputs": [],
   "source": [
    "l3.clear()"
   ]
  },
  {
   "cell_type": "code",
   "execution_count": 70,
   "id": "f1468f58-f973-4260-94bd-8b55d30a0ec8",
   "metadata": {},
   "outputs": [
    {
     "data": {
      "text/plain": [
       "[]"
      ]
     },
     "execution_count": 70,
     "metadata": {},
     "output_type": "execute_result"
    }
   ],
   "source": [
    "l3"
   ]
  },
  {
   "cell_type": "code",
   "execution_count": 71,
   "id": "2ec53c73-2600-46d7-9ba7-fd547b940111",
   "metadata": {},
   "outputs": [
    {
     "data": {
      "text/plain": [
       "['yellow',\n",
       " 1,\n",
       " 2,\n",
       " 333,\n",
       " 4,\n",
       " 5,\n",
       " 6,\n",
       " 7,\n",
       " 8,\n",
       " 9,\n",
       " 0,\n",
       " 123,\n",
       " [1, 2, 3],\n",
       " 222,\n",
       " 'Green',\n",
       " 'white',\n",
       " 'black',\n",
       " 'j',\n",
       " 2,\n",
       " 2]"
      ]
     },
     "execution_count": 71,
     "metadata": {},
     "output_type": "execute_result"
    }
   ],
   "source": [
    "l1"
   ]
  },
  {
   "cell_type": "code",
   "execution_count": 72,
   "id": "be870c43-140e-4818-b6d1-e7e0cac85a94",
   "metadata": {},
   "outputs": [
    {
     "data": {
      "text/plain": [
       "2"
      ]
     },
     "execution_count": 72,
     "metadata": {},
     "output_type": "execute_result"
    }
   ],
   "source": [
    "l1.index(2)"
   ]
  },
  {
   "cell_type": "code",
   "execution_count": 73,
   "id": "eccdc113-e0e5-4c2e-9872-8cc69d469f7c",
   "metadata": {},
   "outputs": [
    {
     "data": {
      "text/plain": [
       "14"
      ]
     },
     "execution_count": 73,
     "metadata": {},
     "output_type": "execute_result"
    }
   ],
   "source": [
    "l1.index(\"Green\")"
   ]
  },
  {
   "cell_type": "code",
   "execution_count": 74,
   "id": "e5bb8292-e37a-4028-928a-b9394e45ea9d",
   "metadata": {},
   "outputs": [],
   "source": [
    "l1.reverse()"
   ]
  },
  {
   "cell_type": "code",
   "execution_count": 75,
   "id": "46113d5b-928b-40da-a940-fb4dba7b490d",
   "metadata": {},
   "outputs": [
    {
     "data": {
      "text/plain": [
       "[2,\n",
       " 2,\n",
       " 'j',\n",
       " 'black',\n",
       " 'white',\n",
       " 'Green',\n",
       " 222,\n",
       " [1, 2, 3],\n",
       " 123,\n",
       " 0,\n",
       " 9,\n",
       " 8,\n",
       " 7,\n",
       " 6,\n",
       " 5,\n",
       " 4,\n",
       " 333,\n",
       " 2,\n",
       " 1,\n",
       " 'yellow']"
      ]
     },
     "execution_count": 75,
     "metadata": {},
     "output_type": "execute_result"
    }
   ],
   "source": [
    "l1"
   ]
  },
  {
   "cell_type": "code",
   "execution_count": 76,
   "id": "fbd6fda0-cb7b-4eff-9c4e-b1f80e3538b9",
   "metadata": {},
   "outputs": [
    {
     "data": {
      "text/plain": [
       "['yellow',\n",
       " 1,\n",
       " 2,\n",
       " 333,\n",
       " 4,\n",
       " 5,\n",
       " 6,\n",
       " 7,\n",
       " 8,\n",
       " 9,\n",
       " 0,\n",
       " 123,\n",
       " [1, 2, 3],\n",
       " 222,\n",
       " 'Green',\n",
       " 'white',\n",
       " 'black',\n",
       " 'j',\n",
       " 2,\n",
       " 2]"
      ]
     },
     "execution_count": 76,
     "metadata": {},
     "output_type": "execute_result"
    }
   ],
   "source": [
    "l1[::-1]"
   ]
  },
  {
   "cell_type": "code",
   "execution_count": 77,
   "id": "f35a4ce9-db77-449c-9038-f260a9f524a6",
   "metadata": {},
   "outputs": [
    {
     "ename": "TypeError",
     "evalue": "'<' not supported between instances of 'str' and 'int'",
     "output_type": "error",
     "traceback": [
      "\u001b[1;31m---------------------------------------------------------------------------\u001b[0m",
      "\u001b[1;31mTypeError\u001b[0m                                 Traceback (most recent call last)",
      "Cell \u001b[1;32mIn[77], line 1\u001b[0m\n\u001b[1;32m----> 1\u001b[0m l1\u001b[38;5;241m.\u001b[39msort()\n",
      "\u001b[1;31mTypeError\u001b[0m: '<' not supported between instances of 'str' and 'int'"
     ]
    }
   ],
   "source": [
    "l1.sort()"
   ]
  },
  {
   "cell_type": "code",
   "execution_count": 79,
   "id": "c3a07fc4-924b-4250-b574-422e1c4d9781",
   "metadata": {},
   "outputs": [],
   "source": [
    "l2.sort()"
   ]
  },
  {
   "cell_type": "code",
   "execution_count": 80,
   "id": "2ef9db6a-c045-4f2c-9689-7f7a44c0d826",
   "metadata": {},
   "outputs": [
    {
     "data": {
      "text/plain": [
       "['Green', 'black', 'red', 'white']"
      ]
     },
     "execution_count": 80,
     "metadata": {},
     "output_type": "execute_result"
    }
   ],
   "source": [
    "l2"
   ]
  },
  {
   "cell_type": "code",
   "execution_count": 81,
   "id": "1cf2959c-6c76-4cea-8983-c4cc91d03af7",
   "metadata": {},
   "outputs": [],
   "source": [
    "l2.sort(reverse=True)"
   ]
  },
  {
   "cell_type": "code",
   "execution_count": 82,
   "id": "39a5a7eb-8153-44c6-a1ed-afde9f8dfa89",
   "metadata": {},
   "outputs": [
    {
     "data": {
      "text/plain": [
       "['white', 'red', 'black', 'Green']"
      ]
     },
     "execution_count": 82,
     "metadata": {},
     "output_type": "execute_result"
    }
   ],
   "source": [
    "l2"
   ]
  },
  {
   "cell_type": "code",
   "execution_count": 83,
   "id": "8b8681ab-27dd-473f-ab6e-94e5f7d273a4",
   "metadata": {},
   "outputs": [
    {
     "data": {
      "text/plain": [
       "False"
      ]
     },
     "execution_count": 83,
     "metadata": {},
     "output_type": "execute_result"
    }
   ],
   "source": [
    "\"green\" in l2"
   ]
  },
  {
   "cell_type": "code",
   "execution_count": 84,
   "id": "20bb551e-7359-430e-aeae-fda52e1feba7",
   "metadata": {},
   "outputs": [
    {
     "data": {
      "text/plain": [
       "False"
      ]
     },
     "execution_count": 84,
     "metadata": {},
     "output_type": "execute_result"
    }
   ],
   "source": [
    "3 in l1"
   ]
  },
  {
   "cell_type": "code",
   "execution_count": 85,
   "id": "12baf641-b8e7-4c05-a861-72bd0bdbe96e",
   "metadata": {},
   "outputs": [
    {
     "data": {
      "text/plain": [
       "True"
      ]
     },
     "execution_count": 85,
     "metadata": {},
     "output_type": "execute_result"
    }
   ],
   "source": [
    "[1,2,3] in l1"
   ]
  },
  {
   "cell_type": "code",
   "execution_count": 86,
   "id": "2f454f8b-e313-4e65-9ede-9e1c8ebd5a09",
   "metadata": {},
   "outputs": [
    {
     "data": {
      "text/plain": [
       "False"
      ]
     },
     "execution_count": 86,
     "metadata": {},
     "output_type": "execute_result"
    }
   ],
   "source": [
    "[1,2,3,4] in l1"
   ]
  },
  {
   "cell_type": "code",
   "execution_count": null,
   "id": "897164a1-64a1-484d-827c-f537bdc9fa22",
   "metadata": {},
   "outputs": [],
   "source": []
  }
 ],
 "metadata": {
  "kernelspec": {
   "display_name": "Python 3 (ipykernel)",
   "language": "python",
   "name": "python3"
  },
  "language_info": {
   "codemirror_mode": {
    "name": "ipython",
    "version": 3
   },
   "file_extension": ".py",
   "mimetype": "text/x-python",
   "name": "python",
   "nbconvert_exporter": "python",
   "pygments_lexer": "ipython3",
   "version": "3.11.7"
  }
 },
 "nbformat": 4,
 "nbformat_minor": 5
}
