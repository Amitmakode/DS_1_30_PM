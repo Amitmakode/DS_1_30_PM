{
 "cells": [
  {
   "cell_type": "code",
   "execution_count": null,
   "id": "423d176d-3643-44f0-9c09-78009ab0f604",
   "metadata": {},
   "outputs": [],
   "source": [
    "iterable\n",
    "iteration\n",
    "iterator"
   ]
  },
  {
   "cell_type": "code",
   "execution_count": 1,
   "id": "97405164-95a6-4724-9635-f12bf7450c8f",
   "metadata": {},
   "outputs": [],
   "source": [
    "s1 = \"string1\""
   ]
  },
  {
   "cell_type": "code",
   "execution_count": 2,
   "id": "b7233115-8c89-4089-8454-00e14edc5858",
   "metadata": {},
   "outputs": [
    {
     "name": "stdout",
     "output_type": "stream",
     "text": [
      "s\n",
      "t\n",
      "r\n",
      "i\n",
      "n\n",
      "g\n",
      "1\n"
     ]
    }
   ],
   "source": [
    "for i in s1:\n",
    "    print(i)"
   ]
  },
  {
   "cell_type": "code",
   "execution_count": 3,
   "id": "429ca561-947b-4188-b191-7e9c6c80eec4",
   "metadata": {},
   "outputs": [
    {
     "name": "stdout",
     "output_type": "stream",
     "text": [
      "0\n",
      "1\n",
      "2\n",
      "3\n",
      "4\n"
     ]
    }
   ],
   "source": [
    "for i in range(5):\n",
    "    print(i)"
   ]
  },
  {
   "cell_type": "code",
   "execution_count": 4,
   "id": "0665a9f5-2680-4f22-9b7e-fd1ff765da57",
   "metadata": {},
   "outputs": [
    {
     "name": "stdout",
     "output_type": "stream",
     "text": [
      "s\n",
      "t\n",
      "r\n",
      "i\n",
      "n\n"
     ]
    }
   ],
   "source": [
    "for i in range(5):\n",
    "    print(s1[i])"
   ]
  },
  {
   "cell_type": "code",
   "execution_count": 5,
   "id": "e619b717-3bc2-49fe-ab41-271327e041fb",
   "metadata": {},
   "outputs": [
    {
     "name": "stdout",
     "output_type": "stream",
     "text": [
      "string1\n",
      "string1\n",
      "string1\n",
      "string1\n",
      "string1\n"
     ]
    }
   ],
   "source": [
    "for i in range(5):\n",
    "    print(s1)"
   ]
  },
  {
   "cell_type": "code",
   "execution_count": 6,
   "id": "0b5d74ed-7b3c-4694-aa9d-e471960a8ccb",
   "metadata": {},
   "outputs": [],
   "source": [
    "l1 = [1,23,4,5,6,7,7,8]"
   ]
  },
  {
   "cell_type": "code",
   "execution_count": 7,
   "id": "d9c9c9f0-935f-485d-b300-4b3c2dfc6d87",
   "metadata": {},
   "outputs": [
    {
     "data": {
      "text/plain": [
       "[1, 23, 4, 5, 6, 7, 7, 8]"
      ]
     },
     "execution_count": 7,
     "metadata": {},
     "output_type": "execute_result"
    }
   ],
   "source": [
    "l1"
   ]
  },
  {
   "cell_type": "code",
   "execution_count": 8,
   "id": "7b45daaf-cee0-46a5-bf57-dc37b9064c61",
   "metadata": {},
   "outputs": [
    {
     "name": "stdout",
     "output_type": "stream",
     "text": [
      "1\n",
      "23\n",
      "4\n",
      "5\n",
      "6\n",
      "7\n",
      "7\n",
      "8\n"
     ]
    }
   ],
   "source": [
    "for num in l1:\n",
    "    print(num)"
   ]
  },
  {
   "cell_type": "code",
   "execution_count": 9,
   "id": "fdede937-0318-4489-a955-b31e5a57345c",
   "metadata": {},
   "outputs": [],
   "source": [
    "s = {1,2,3,4,5,5,6,7}"
   ]
  },
  {
   "cell_type": "code",
   "execution_count": 10,
   "id": "add5cde8-365a-4ef7-b8a5-c8a0a518b28d",
   "metadata": {},
   "outputs": [
    {
     "name": "stdout",
     "output_type": "stream",
     "text": [
      "1\n",
      "2\n",
      "3\n",
      "4\n",
      "5\n",
      "6\n",
      "7\n"
     ]
    }
   ],
   "source": [
    "for i in s:\n",
    "    print(i)"
   ]
  },
  {
   "cell_type": "code",
   "execution_count": 11,
   "id": "305e70df-401f-4fa7-a191-5e1401e6e038",
   "metadata": {},
   "outputs": [],
   "source": [
    "tup = (\"a\", 1, \"b\", 3, 5, True)"
   ]
  },
  {
   "cell_type": "code",
   "execution_count": 12,
   "id": "fac8a122-19b2-4c85-85db-82ef0bc2f66d",
   "metadata": {},
   "outputs": [
    {
     "name": "stdout",
     "output_type": "stream",
     "text": [
      "a\n",
      "1\n",
      "b\n",
      "3\n",
      "5\n",
      "True\n"
     ]
    }
   ],
   "source": [
    "for i in tup:\n",
    "    print(i)"
   ]
  },
  {
   "cell_type": "code",
   "execution_count": 13,
   "id": "23dcf9b0-d71b-4b96-b35d-3f0e51f3c451",
   "metadata": {},
   "outputs": [],
   "source": [
    "d = {\"k1\":\"v1\", \"k2\":\"v2\", \"k3\":\"v3\"}"
   ]
  },
  {
   "cell_type": "code",
   "execution_count": 14,
   "id": "14b93272-c546-450b-8975-85c60d18d2d6",
   "metadata": {},
   "outputs": [
    {
     "name": "stdout",
     "output_type": "stream",
     "text": [
      "k1\n",
      "k2\n",
      "k3\n"
     ]
    }
   ],
   "source": [
    "for i in d:\n",
    "    print(i)"
   ]
  },
  {
   "cell_type": "code",
   "execution_count": 15,
   "id": "9a6f567e-74c5-4ec6-bbb5-85748bc56fc5",
   "metadata": {},
   "outputs": [
    {
     "name": "stdout",
     "output_type": "stream",
     "text": [
      "v1\n",
      "v2\n",
      "v3\n"
     ]
    }
   ],
   "source": [
    "for i in d.values():\n",
    "    print(i)"
   ]
  },
  {
   "cell_type": "code",
   "execution_count": 16,
   "id": "57c8a847-0909-4e75-a462-05496bef70fb",
   "metadata": {},
   "outputs": [
    {
     "name": "stdout",
     "output_type": "stream",
     "text": [
      "('k1', 'v1')\n",
      "('k2', 'v2')\n",
      "('k3', 'v3')\n"
     ]
    }
   ],
   "source": [
    "for i in d.items():\n",
    "    print(i)"
   ]
  },
  {
   "cell_type": "code",
   "execution_count": 17,
   "id": "2ab177ed-8dc2-4bb7-bcda-e9676cfb880f",
   "metadata": {},
   "outputs": [
    {
     "name": "stdout",
     "output_type": "stream",
     "text": [
      "k1 v1\n",
      "k2 v2\n",
      "k3 v3\n"
     ]
    }
   ],
   "source": [
    "for i, j in d.items():\n",
    "    print(i, j)"
   ]
  },
  {
   "cell_type": "code",
   "execution_count": 19,
   "id": "cbb019e0-ebed-4dfe-bbe0-882875f0c0f0",
   "metadata": {},
   "outputs": [
    {
     "name": "stdout",
     "output_type": "stream",
     "text": [
      "0\n",
      "1\n",
      "2\n",
      "3\n",
      "4\n"
     ]
    }
   ],
   "source": [
    "\n",
    "a=0\n",
    "\n",
    "while  a < 5:\n",
    "    print(a)\n",
    "    a=a+1"
   ]
  },
  {
   "cell_type": "code",
   "execution_count": 20,
   "id": "d249f3d5-cd62-4de0-a5b0-c35b5b1686fb",
   "metadata": {},
   "outputs": [
    {
     "name": "stdout",
     "output_type": "stream",
     "text": [
      "0\n",
      "1\n",
      "2\n",
      "3\n",
      "4\n"
     ]
    }
   ],
   "source": [
    "a=0\n",
    "\n",
    "while  a < 5:\n",
    "    print(a)\n",
    "    \n",
    "    a += 1"
   ]
  },
  {
   "cell_type": "code",
   "execution_count": 21,
   "id": "bc44a4d8-431f-4a74-8b30-6062e92c8dc0",
   "metadata": {},
   "outputs": [
    {
     "name": "stdout",
     "output_type": "stream",
     "text": [
      "0\n",
      "1\n",
      "2\n",
      "3\n",
      "4\n",
      "5\n",
      "6\n"
     ]
    }
   ],
   "source": [
    "x=0 \n",
    "\n",
    "while x < len(s1):\n",
    "    print(x)\n",
    "    x+=1\n",
    "    "
   ]
  },
  {
   "cell_type": "code",
   "execution_count": 23,
   "id": "b5b01ec5-062a-4677-94da-494fcde329c5",
   "metadata": {},
   "outputs": [
    {
     "name": "stdout",
     "output_type": "stream",
     "text": [
      "[1, 23, 4, 5, 6, 7, 7, 8]\n",
      "[1, 23, 4, 5, 6, 7, 7, 8]\n",
      "[1, 23, 4, 5, 6, 7, 7, 8]\n",
      "[1, 23, 4, 5, 6, 7, 7, 8]\n",
      "[1, 23, 4, 5, 6, 7, 7, 8]\n",
      "[1, 23, 4, 5, 6, 7, 7, 8]\n",
      "[1, 23, 4, 5, 6, 7, 7, 8]\n"
     ]
    }
   ],
   "source": [
    "for i in range(len(s1)):\n",
    "    print(l1)"
   ]
  },
  {
   "cell_type": "code",
   "execution_count": 26,
   "id": "71076205-f7ee-47c1-91e7-cc1c62f03824",
   "metadata": {},
   "outputs": [
    {
     "data": {
      "text/plain": [
       "range(0, 7)"
      ]
     },
     "execution_count": 26,
     "metadata": {},
     "output_type": "execute_result"
    }
   ],
   "source": [
    "range(len(s1))"
   ]
  },
  {
   "cell_type": "code",
   "execution_count": 27,
   "id": "234fb9cd-c587-428e-9154-e2f8bd6c9ec6",
   "metadata": {},
   "outputs": [
    {
     "name": "stdout",
     "output_type": "stream",
     "text": [
      "45653\n"
     ]
    }
   ],
   "source": [
    "a = [45653]\n",
    "\n",
    "for i in a:\n",
    "    print(i)"
   ]
  },
  {
   "cell_type": "code",
   "execution_count": 28,
   "id": "f52493ec-83f1-452c-b3db-2c60fe5dd2b2",
   "metadata": {},
   "outputs": [
    {
     "ename": "TypeError",
     "evalue": "'float' object is not iterable",
     "output_type": "error",
     "traceback": [
      "\u001b[1;31m---------------------------------------------------------------------------\u001b[0m",
      "\u001b[1;31mTypeError\u001b[0m                                 Traceback (most recent call last)",
      "Cell \u001b[1;32mIn[28], line 4\u001b[0m\n\u001b[0;32m      1\u001b[0m b \u001b[38;5;241m=\u001b[39m \u001b[38;5;241m676.99\u001b[39m\n\u001b[1;32m----> 4\u001b[0m \u001b[38;5;28;01mfor\u001b[39;00m i \u001b[38;5;129;01min\u001b[39;00m b:\n\u001b[0;32m      5\u001b[0m     \u001b[38;5;28mprint\u001b[39m(i)\n",
      "\u001b[1;31mTypeError\u001b[0m: 'float' object is not iterable"
     ]
    }
   ],
   "source": [
    "b = 676.99\n",
    "\n",
    "\n",
    "for i in b:\n",
    "    print(i)"
   ]
  },
  {
   "cell_type": "code",
   "execution_count": 29,
   "id": "af42b15b-883c-4dc3-bd63-f63a3854d426",
   "metadata": {},
   "outputs": [
    {
     "name": "stdout",
     "output_type": "stream",
     "text": [
      "0 Python\n",
      "1 Python\n",
      "2 Python\n",
      "3 Python\n",
      "4 Python\n",
      "5 Python\n",
      "6 Python\n",
      "7 Python\n",
      "8 Python\n",
      "9 Python\n"
     ]
    }
   ],
   "source": [
    "for x in range(10):\n",
    "    print(x, \"Python\")"
   ]
  },
  {
   "cell_type": "code",
   "execution_count": 35,
   "id": "2dfb4a01-a103-43ff-ab2e-b67088fafd75",
   "metadata": {},
   "outputs": [
    {
     "name": "stdout",
     "output_type": "stream",
     "text": [
      "0 Python 1 Python 2 Python 3 Python 4 Python 5 Python 6 Python 7 Python 8 Python 9 Python "
     ]
    }
   ],
   "source": [
    "for x in range(10):\n",
    "    print(x, \"Python\", end = \" \")"
   ]
  },
  {
   "cell_type": "code",
   "execution_count": 31,
   "id": "44926a61-87d7-4f8b-af42-a6b6ea079c60",
   "metadata": {},
   "outputs": [
    {
     "name": "stdout",
     "output_type": "stream",
     "text": [
      "12 13\n"
     ]
    }
   ],
   "source": [
    "print(12, end = \" \")\n",
    "print(13)"
   ]
  },
  {
   "cell_type": "code",
   "execution_count": 36,
   "id": "0ef0fc45-2f54-417a-b191-83670491c6db",
   "metadata": {},
   "outputs": [
    {
     "name": "stdout",
     "output_type": "stream",
     "text": [
      "a\n",
      "1\n",
      "b\n",
      "3\n",
      "5\n",
      "True\n"
     ]
    }
   ],
   "source": [
    "for i in tup :\n",
    "    pass\n",
    "    print(i)"
   ]
  },
  {
   "cell_type": "code",
   "execution_count": 38,
   "id": "bfe9a312-c962-4f89-8c06-af3aa1759e99",
   "metadata": {},
   "outputs": [],
   "source": [
    "for i in tup :\n",
    "    break\n",
    "    print(i)"
   ]
  },
  {
   "cell_type": "code",
   "execution_count": 40,
   "id": "9ea3e6c2-a801-44e8-b404-5ff3a26b85fd",
   "metadata": {},
   "outputs": [
    {
     "data": {
      "text/plain": [
       "('a', 1, 'b', 3, 5, True)"
      ]
     },
     "execution_count": 40,
     "metadata": {},
     "output_type": "execute_result"
    }
   ],
   "source": [
    "tup"
   ]
  },
  {
   "cell_type": "code",
   "execution_count": 39,
   "id": "2c9183e2-856d-495b-ba19-4ec6afa1f069",
   "metadata": {},
   "outputs": [
    {
     "name": "stdout",
     "output_type": "stream",
     "text": [
      "1\n",
      "3\n",
      "5\n"
     ]
    }
   ],
   "source": [
    "for i in tup :\n",
    "    if type(i) == int:\n",
    "        print(i)"
   ]
  },
  {
   "cell_type": "code",
   "execution_count": 42,
   "id": "d4e2d479-e2a9-48d3-af30-d7ec0fa9f567",
   "metadata": {},
   "outputs": [
    {
     "name": "stdout",
     "output_type": "stream",
     "text": [
      "a\n",
      "1\n",
      "1\n",
      "b\n",
      "3\n",
      "3\n",
      "5\n",
      "5\n",
      "True\n"
     ]
    }
   ],
   "source": [
    "for i in tup :\n",
    "    if type(i) == int:\n",
    "        pass\n",
    "        print(i)\n",
    "    print(i)    "
   ]
  },
  {
   "cell_type": "code",
   "execution_count": 43,
   "id": "4ca92f3e-9b01-4e4e-88d9-8875b2018e78",
   "metadata": {},
   "outputs": [
    {
     "name": "stdout",
     "output_type": "stream",
     "text": [
      "a\n"
     ]
    }
   ],
   "source": [
    "for i in tup :\n",
    "    if type(i) == int:\n",
    "        break\n",
    "        print(i)\n",
    "    print(i)    "
   ]
  },
  {
   "cell_type": "code",
   "execution_count": 44,
   "id": "73c0b219-14e6-425e-927e-309fb8316d38",
   "metadata": {},
   "outputs": [
    {
     "name": "stdout",
     "output_type": "stream",
     "text": [
      "a\n",
      "b\n",
      "True\n"
     ]
    }
   ],
   "source": [
    "for i in tup :\n",
    "    if type(i) == int:\n",
    "        continue\n",
    "        print(i)\n",
    "    print(i) "
   ]
  },
  {
   "cell_type": "code",
   "execution_count": 45,
   "id": "52926ab8-bcd0-4c44-b71e-d911b748dc04",
   "metadata": {},
   "outputs": [
    {
     "name": "stdout",
     "output_type": "stream",
     "text": [
      "1\n",
      "3\n",
      "5\n",
      "no more int\n"
     ]
    }
   ],
   "source": [
    "for i in tup :\n",
    "    if type(i) == int:\n",
    "        print(i)\n",
    "else:\n",
    "    print(\"no more int\")"
   ]
  },
  {
   "cell_type": "code",
   "execution_count": 46,
   "id": "75c9d6c0-83a3-4ff2-b2ec-bec1781f35da",
   "metadata": {},
   "outputs": [],
   "source": [
    "d = {'key1' :\"sudh\" , 'contact' : \"gmail\" , \"position\" : \"mentor\"}"
   ]
  },
  {
   "cell_type": "code",
   "execution_count": 47,
   "id": "ff11e6bd-a889-4cfe-a17b-7d08401be51b",
   "metadata": {},
   "outputs": [
    {
     "name": "stdout",
     "output_type": "stream",
     "text": [
      "mentor\n"
     ]
    }
   ],
   "source": [
    "for i in d.values():\n",
    "    if i==\"mentor\":\n",
    "        print(i)"
   ]
  },
  {
   "cell_type": "code",
   "execution_count": 49,
   "id": "665dd768-ee05-4630-9738-c21828626b85",
   "metadata": {},
   "outputs": [
    {
     "name": "stdout",
     "output_type": "stream",
     "text": [
      "10\n",
      "9\n",
      "8\n",
      "7\n",
      "6\n",
      "5\n",
      "4\n",
      "3\n"
     ]
    }
   ],
   "source": [
    "for i in range(10,2,-1):\n",
    "    print(i)"
   ]
  },
  {
   "cell_type": "code",
   "execution_count": 51,
   "id": "b40f68a0-02d4-4491-9532-315c9ed1e436",
   "metadata": {},
   "outputs": [
    {
     "name": "stdout",
     "output_type": "stream",
     "text": [
      "0 -- 0\n",
      "1 -- 1\n",
      "2 -- 4\n",
      "3 -- 9\n",
      "4 -- 16\n",
      "5 -- 25\n",
      "6 -- 36\n",
      "7 -- 49\n",
      "8 -- 64\n",
      "9 -- 81\n"
     ]
    }
   ],
   "source": [
    "for i in range(10):\n",
    "    print(i, \"--\", i**2)"
   ]
  },
  {
   "cell_type": "code",
   "execution_count": 52,
   "id": "ebfd28c0-f5df-41e9-9e8e-e695a197afcb",
   "metadata": {},
   "outputs": [
    {
     "data": {
      "text/plain": [
       "[1, 23, 4, 5, 6, 7, 7, 8]"
      ]
     },
     "execution_count": 52,
     "metadata": {},
     "output_type": "execute_result"
    }
   ],
   "source": [
    "l1"
   ]
  },
  {
   "cell_type": "code",
   "execution_count": 53,
   "id": "3ad775cc-2e36-4469-8220-cc942c25d3e5",
   "metadata": {},
   "outputs": [
    {
     "name": "stdout",
     "output_type": "stream",
     "text": [
      "0 1\n",
      "1 23\n",
      "2 4\n",
      "3 5\n",
      "4 6\n",
      "5 7\n",
      "6 7\n",
      "7 8\n",
      "Length of list  8\n"
     ]
    }
   ],
   "source": [
    "i = 0\n",
    "while i < len(l1):\n",
    "    print( i, l1[i])\n",
    "    i = i+1\n",
    "    \n",
    "print(\"Length of list \", len(l1))  "
   ]
  },
  {
   "cell_type": "code",
   "execution_count": 54,
   "id": "f8c00754-774e-476f-8782-a531c1fbdbfc",
   "metadata": {},
   "outputs": [
    {
     "data": {
      "text/plain": [
       "('a', 1, 'b', 3, 5, True)"
      ]
     },
     "execution_count": 54,
     "metadata": {},
     "output_type": "execute_result"
    }
   ],
   "source": [
    "tup"
   ]
  },
  {
   "cell_type": "code",
   "execution_count": 55,
   "id": "3a44f42a-5836-4b32-88f8-652132570cb8",
   "metadata": {},
   "outputs": [
    {
     "name": "stdout",
     "output_type": "stream",
     "text": [
      "0 -- a\n",
      "1 -- 1\n",
      "2 -- b\n",
      "3 -- 3\n",
      "4 -- 5\n",
      "5 -- True\n"
     ]
    }
   ],
   "source": [
    "for i,j in enumerate(tup):\n",
    "    print(i,\"--\",j)"
   ]
  },
  {
   "cell_type": "code",
   "execution_count": 56,
   "id": "ea3b53eb-1bf3-4cd7-9f5a-a0817aa67231",
   "metadata": {},
   "outputs": [
    {
     "name": "stdin",
     "output_type": "stream",
     "text": [
      "Enter the name :  amit\n"
     ]
    },
    {
     "name": "stdout",
     "output_type": "stream",
     "text": [
      "\n",
      "You entered  amit\n"
     ]
    },
    {
     "name": "stdin",
     "output_type": "stream",
     "text": [
      "Enter the name :  amit\n"
     ]
    },
    {
     "name": "stdout",
     "output_type": "stream",
     "text": [
      "\n",
      "You entered  amit\n"
     ]
    },
    {
     "name": "stdin",
     "output_type": "stream",
     "text": [
      "Enter the name :  amit\n"
     ]
    },
    {
     "name": "stdout",
     "output_type": "stream",
     "text": [
      "\n",
      "You entered  amit\n"
     ]
    }
   ],
   "source": [
    "count = 3\n",
    "\n",
    "for i in range(count):\n",
    "    name = input(\"Enter the name : \")\n",
    "    print()\n",
    "    print('You entered ', name)"
   ]
  },
  {
   "cell_type": "code",
   "execution_count": 57,
   "id": "f7f4ce09-de14-4df9-9303-9d5ad1fb52da",
   "metadata": {},
   "outputs": [
    {
     "name": "stdin",
     "output_type": "stream",
     "text": [
      "Enter the name (use 'Quit' to stop : abc\n"
     ]
    },
    {
     "name": "stdout",
     "output_type": "stream",
     "text": [
      "You entered  abc\n"
     ]
    },
    {
     "name": "stdin",
     "output_type": "stream",
     "text": [
      "Enter the name (use 'Quit' to stop : xyz\n"
     ]
    },
    {
     "name": "stdout",
     "output_type": "stream",
     "text": [
      "You entered  xyz\n"
     ]
    },
    {
     "name": "stdin",
     "output_type": "stream",
     "text": [
      "Enter the name (use 'Quit' to stop : 5646\n"
     ]
    },
    {
     "name": "stdout",
     "output_type": "stream",
     "text": [
      "You entered  5646\n"
     ]
    },
    {
     "name": "stdin",
     "output_type": "stream",
     "text": [
      "Enter the name (use 'Quit' to stop : Quit\n"
     ]
    }
   ],
   "source": [
    "name = \"\"\n",
    "\n",
    "while name != \"Quit\":\n",
    "    name = input(\"Enter the name (use 'Quit' to stop :\")\n",
    "    if name != \"Quit\":\n",
    "        print('You entered ', name) "
   ]
  },
  {
   "cell_type": "code",
   "execution_count": 58,
   "id": "f07bfe0d-8624-48ac-869e-048c213988d0",
   "metadata": {},
   "outputs": [
    {
     "name": "stdout",
     "output_type": "stream",
     "text": [
      "1\n",
      "2\n",
      "3\n",
      "4\n",
      "4\n",
      "5\n",
      "5\n",
      "6\n",
      "6\n",
      "7\n"
     ]
    }
   ],
   "source": [
    "# Example\n",
    "i = 0           #iteration variable initialized\n",
    "while i < 7:    # condition is evaluated \n",
    "    if i > 3 :   \n",
    "        print(i)    # block statements are executed until the condition is true and iteration variable is less that 3\n",
    "    i = i + 1\n",
    "    print(i)"
   ]
  },
  {
   "cell_type": "code",
   "execution_count": 59,
   "id": "c20d6754-dd4a-4d7b-819d-800a5484cb3d",
   "metadata": {},
   "outputs": [
    {
     "name": "stdout",
     "output_type": "stream",
     "text": [
      "1\n",
      "2\n",
      "3\n",
      "4\n"
     ]
    },
    {
     "ename": "KeyboardInterrupt",
     "evalue": "",
     "output_type": "error",
     "traceback": [
      "\u001b[1;31m---------------------------------------------------------------------------\u001b[0m",
      "\u001b[1;31mKeyboardInterrupt\u001b[0m                         Traceback (most recent call last)",
      "Cell \u001b[1;32mIn[59], line 5\u001b[0m\n\u001b[0;32m      3\u001b[0m \u001b[38;5;28;01mwhile\u001b[39;00m i \u001b[38;5;241m<\u001b[39m \u001b[38;5;241m7\u001b[39m:    \u001b[38;5;66;03m# condition is evaluated \u001b[39;00m\n\u001b[0;32m      4\u001b[0m     \u001b[38;5;28;01mif\u001b[39;00m i \u001b[38;5;241m>\u001b[39m \u001b[38;5;241m3\u001b[39m :   \n\u001b[1;32m----> 5\u001b[0m         \u001b[38;5;28;01mcontinue\u001b[39;00m   \u001b[38;5;66;03m# no more further execution of the loop, once i is greater than 4 \u001b[39;00m\n\u001b[0;32m      6\u001b[0m         \u001b[38;5;28mprint\u001b[39m(i)    \u001b[38;5;66;03m# block statements are executed until the condition is true and iteration variable is less that 3\u001b[39;00m\n\u001b[0;32m      7\u001b[0m     i \u001b[38;5;241m=\u001b[39m i \u001b[38;5;241m+\u001b[39m \u001b[38;5;241m1\u001b[39m\n",
      "\u001b[1;31mKeyboardInterrupt\u001b[0m: "
     ]
    }
   ],
   "source": [
    "# Example\n",
    "i = 0           #iteration variable initialized\n",
    "while i < 7:    # condition is evaluated \n",
    "    if i > 3 :   \n",
    "        continue   # no more further execution of the loop, once i is greater than 4 \n",
    "        print(i)    # block statements are executed until the condition is true and iteration variable is less that 3\n",
    "    i = i + 1\n",
    "    print(i)"
   ]
  },
  {
   "cell_type": "code",
   "execution_count": null,
   "id": "a584f4a9-eae9-4c44-8465-ac4dc2537912",
   "metadata": {},
   "outputs": [],
   "source": [
    "stmt = \"\"\n",
    "\n",
    "while stmt != 'Quit':\n",
    "    stmt = input(\"Enter the stmt (Use 'Quit' to stop )\")\n",
    "    if stmt.startswith(\"#\") :\n",
    "        continue\n",
    "    if len(stmt) > 0 :\n",
    "        print(stmt)"
   ]
  }
 ],
 "metadata": {
  "kernelspec": {
   "display_name": "Python 3 (ipykernel)",
   "language": "python",
   "name": "python3"
  },
  "language_info": {
   "codemirror_mode": {
    "name": "ipython",
    "version": 3
   },
   "file_extension": ".py",
   "mimetype": "text/x-python",
   "name": "python",
   "nbconvert_exporter": "python",
   "pygments_lexer": "ipython3",
   "version": "3.11.7"
  }
 },
 "nbformat": 4,
 "nbformat_minor": 5
}
