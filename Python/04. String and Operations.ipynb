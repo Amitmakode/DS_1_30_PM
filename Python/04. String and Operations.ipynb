{
 "cells": [
  {
   "cell_type": "markdown",
   "id": "0c2f8c5d-4aa6-428a-bcbb-fab35bc07980",
   "metadata": {},
   "source": [
    "### String"
   ]
  },
  {
   "cell_type": "code",
   "execution_count": 1,
   "id": "965d3a39-bc75-4fb2-9578-dd07604b95f2",
   "metadata": {},
   "outputs": [],
   "source": [
    "var = \"This is my first string variable\""
   ]
  },
  {
   "cell_type": "markdown",
   "id": "2f598227-90a3-420d-8a61-32a79a7fbc2b",
   "metadata": {},
   "source": [
    "#### Indexing"
   ]
  },
  {
   "cell_type": "code",
   "execution_count": 2,
   "id": "d88b3f2a-38de-4b3a-9fa7-368f99ed24fd",
   "metadata": {},
   "outputs": [
    {
     "data": {
      "text/plain": [
       "'This is my first string variable'"
      ]
     },
     "execution_count": 2,
     "metadata": {},
     "output_type": "execute_result"
    }
   ],
   "source": [
    "var"
   ]
  },
  {
   "cell_type": "code",
   "execution_count": 3,
   "id": "a6740547-161a-413a-ad20-49851dacc1d2",
   "metadata": {},
   "outputs": [
    {
     "data": {
      "text/plain": [
       "' '"
      ]
     },
     "execution_count": 3,
     "metadata": {},
     "output_type": "execute_result"
    }
   ],
   "source": [
    "var[4]"
   ]
  },
  {
   "cell_type": "code",
   "execution_count": 9,
   "id": "e436eeb7-a0a0-4122-96cc-5e08a5479a42",
   "metadata": {},
   "outputs": [
    {
     "data": {
      "text/plain": [
       "'n'"
      ]
     },
     "execution_count": 9,
     "metadata": {},
     "output_type": "execute_result"
    }
   ],
   "source": [
    "var[21]"
   ]
  },
  {
   "cell_type": "code",
   "execution_count": 5,
   "id": "82d281b9-8482-4d90-857c-52b127aac04e",
   "metadata": {},
   "outputs": [
    {
     "data": {
      "text/plain": [
       "32"
      ]
     },
     "execution_count": 5,
     "metadata": {},
     "output_type": "execute_result"
    }
   ],
   "source": [
    "len(var)"
   ]
  },
  {
   "cell_type": "code",
   "execution_count": 6,
   "id": "09f76225-989d-4000-8195-1527e57e0b4e",
   "metadata": {},
   "outputs": [
    {
     "data": {
      "text/plain": [
       "'e'"
      ]
     },
     "execution_count": 6,
     "metadata": {},
     "output_type": "execute_result"
    }
   ],
   "source": [
    "var[-1]"
   ]
  },
  {
   "cell_type": "code",
   "execution_count": 7,
   "id": "a468ef9f-bc6b-4970-b990-c342430added",
   "metadata": {},
   "outputs": [
    {
     "data": {
      "text/plain": [
       "'i'"
      ]
     },
     "execution_count": 7,
     "metadata": {},
     "output_type": "execute_result"
    }
   ],
   "source": [
    "var[-5]"
   ]
  },
  {
   "cell_type": "markdown",
   "id": "663a2d00-d33e-4cc5-b7f2-4b67a077ab2b",
   "metadata": {},
   "source": [
    "#### Slicing"
   ]
  },
  {
   "cell_type": "code",
   "execution_count": 10,
   "id": "69e11c18-fc49-44ab-9228-ea5b4aa5a07a",
   "metadata": {},
   "outputs": [
    {
     "data": {
      "text/plain": [
       "'is is my first string variable'"
      ]
     },
     "execution_count": 10,
     "metadata": {},
     "output_type": "execute_result"
    }
   ],
   "source": [
    "var[2:]"
   ]
  },
  {
   "cell_type": "code",
   "execution_count": 11,
   "id": "084d3ca4-5e1f-4270-8f82-88238959b867",
   "metadata": {},
   "outputs": [
    {
     "data": {
      "text/plain": [
       "'is is my first stri'"
      ]
     },
     "execution_count": 11,
     "metadata": {},
     "output_type": "execute_result"
    }
   ],
   "source": [
    "var[2:21]"
   ]
  },
  {
   "cell_type": "code",
   "execution_count": 12,
   "id": "ad4ecbed-3ca2-4721-b8b9-a30f24b2e826",
   "metadata": {},
   "outputs": [
    {
     "data": {
      "text/plain": [
       "'is stgr'"
      ]
     },
     "execution_count": 12,
     "metadata": {},
     "output_type": "execute_result"
    }
   ],
   "source": [
    "var[2:30:4]"
   ]
  },
  {
   "cell_type": "code",
   "execution_count": 13,
   "id": "c8cb1a37-c79a-4da2-a2e0-2494ab90e6c5",
   "metadata": {},
   "outputs": [
    {
     "data": {
      "text/plain": [
       "'elbairav gnirts tsrif ym si sihT'"
      ]
     },
     "execution_count": 13,
     "metadata": {},
     "output_type": "execute_result"
    }
   ],
   "source": [
    "var[::-1]"
   ]
  },
  {
   "cell_type": "code",
   "execution_count": 14,
   "id": "3e9dc6dd-2f1a-4a49-b233-e7aa30af2eef",
   "metadata": {},
   "outputs": [
    {
     "data": {
      "text/plain": [
       "'ebia nrstrfy ish'"
      ]
     },
     "execution_count": 14,
     "metadata": {},
     "output_type": "execute_result"
    }
   ],
   "source": [
    "var[::-2]"
   ]
  },
  {
   "cell_type": "markdown",
   "id": "d23fc4e0-9eb0-41e8-845e-53b210f973ee",
   "metadata": {},
   "source": [
    "#### Concadination"
   ]
  },
  {
   "cell_type": "code",
   "execution_count": 20,
   "id": "f0c9b0b0-155f-4022-ada6-bd9b87587163",
   "metadata": {},
   "outputs": [],
   "source": [
    "var1 = \"string \""
   ]
  },
  {
   "cell_type": "code",
   "execution_count": 21,
   "id": "d375bfc8-07c6-4b85-8b16-3752ca4aa9f3",
   "metadata": {},
   "outputs": [
    {
     "data": {
      "text/plain": [
       "'string This is my first string variable'"
      ]
     },
     "execution_count": 21,
     "metadata": {},
     "output_type": "execute_result"
    }
   ],
   "source": [
    "var1 + var"
   ]
  },
  {
   "cell_type": "markdown",
   "id": "b0cd5c4e-4106-4009-8ea5-3934808cfe1c",
   "metadata": {},
   "source": [
    "#### Repeatation"
   ]
  },
  {
   "cell_type": "code",
   "execution_count": 22,
   "id": "1dfdd461-4cb7-48f1-9699-e188b49841af",
   "metadata": {},
   "outputs": [
    {
     "data": {
      "text/plain": [
       "'string string string string string '"
      ]
     },
     "execution_count": 22,
     "metadata": {},
     "output_type": "execute_result"
    }
   ],
   "source": [
    "var1*5"
   ]
  },
  {
   "cell_type": "markdown",
   "id": "b4ce8960-eec9-429a-adeb-cb81bcb7cbee",
   "metadata": {},
   "source": [
    "#### Mutation"
   ]
  },
  {
   "cell_type": "code",
   "execution_count": 23,
   "id": "47eb1eb0-4b4c-4127-b97e-ebf8f3790a1a",
   "metadata": {},
   "outputs": [
    {
     "data": {
      "text/plain": [
       "'string '"
      ]
     },
     "execution_count": 23,
     "metadata": {},
     "output_type": "execute_result"
    }
   ],
   "source": [
    "var1"
   ]
  },
  {
   "cell_type": "code",
   "execution_count": 25,
   "id": "575ace21-b613-412e-8c52-a6bb8970cc7b",
   "metadata": {},
   "outputs": [
    {
     "ename": "TypeError",
     "evalue": "'str' object does not support item assignment",
     "output_type": "error",
     "traceback": [
      "\u001b[1;31m---------------------------------------------------------------------------\u001b[0m",
      "\u001b[1;31mTypeError\u001b[0m                                 Traceback (most recent call last)",
      "Cell \u001b[1;32mIn[25], line 1\u001b[0m\n\u001b[1;32m----> 1\u001b[0m var1[\u001b[38;5;241m3\u001b[39m] \u001b[38;5;241m=\u001b[39m \u001b[38;5;124m\"\u001b[39m\u001b[38;5;124mI\u001b[39m\u001b[38;5;124m\"\u001b[39m\n",
      "\u001b[1;31mTypeError\u001b[0m: 'str' object does not support item assignment"
     ]
    }
   ],
   "source": [
    "var1[3] = \"I\""
   ]
  },
  {
   "cell_type": "code",
   "execution_count": 26,
   "id": "8d11f7f8-0d1d-4100-b4ea-5650399d1c0b",
   "metadata": {},
   "outputs": [
    {
     "data": {
      "text/plain": [
       "'This is my first string variable'"
      ]
     },
     "execution_count": 26,
     "metadata": {},
     "output_type": "execute_result"
    }
   ],
   "source": [
    "var"
   ]
  },
  {
   "cell_type": "code",
   "execution_count": 28,
   "id": "617d347e-9fdc-4a2e-9037-fa0a7de873dc",
   "metadata": {},
   "outputs": [
    {
     "data": {
      "text/plain": [
       "False"
      ]
     },
     "execution_count": 28,
     "metadata": {},
     "output_type": "execute_result"
    }
   ],
   "source": [
    "\"strIng\" in var"
   ]
  },
  {
   "cell_type": "markdown",
   "id": "8d2d9b9a-e9b4-40b5-9098-0721eb8b2693",
   "metadata": {},
   "source": [
    "#### Functions"
   ]
  },
  {
   "cell_type": "code",
   "execution_count": 29,
   "id": "dd843465-0286-46a0-8b70-577b3172f98c",
   "metadata": {},
   "outputs": [
    {
     "data": {
      "text/plain": [
       "'STRING '"
      ]
     },
     "execution_count": 29,
     "metadata": {},
     "output_type": "execute_result"
    }
   ],
   "source": [
    "var1.upper()"
   ]
  },
  {
   "cell_type": "code",
   "execution_count": 30,
   "id": "e0c0dd89-e212-436a-ab26-636b096a1144",
   "metadata": {},
   "outputs": [
    {
     "data": {
      "text/plain": [
       "'string '"
      ]
     },
     "execution_count": 30,
     "metadata": {},
     "output_type": "execute_result"
    }
   ],
   "source": [
    "var1"
   ]
  },
  {
   "cell_type": "code",
   "execution_count": 31,
   "id": "9539cde3-fca1-45d7-a67e-e5a163f4e487",
   "metadata": {},
   "outputs": [
    {
     "data": {
      "text/plain": [
       "'string '"
      ]
     },
     "execution_count": 31,
     "metadata": {},
     "output_type": "execute_result"
    }
   ],
   "source": [
    "var1.lower()"
   ]
  },
  {
   "cell_type": "code",
   "execution_count": 32,
   "id": "5101581d-7a7c-41cb-846e-171135a12ec5",
   "metadata": {},
   "outputs": [
    {
     "data": {
      "text/plain": [
       "'String '"
      ]
     },
     "execution_count": 32,
     "metadata": {},
     "output_type": "execute_result"
    }
   ],
   "source": [
    "var1.capitalize()"
   ]
  },
  {
   "cell_type": "code",
   "execution_count": 35,
   "id": "a3953495-2147-4dc5-bfa2-d38e2968a377",
   "metadata": {},
   "outputs": [
    {
     "data": {
      "text/plain": [
       "'This is my first string variable'"
      ]
     },
     "execution_count": 35,
     "metadata": {},
     "output_type": "execute_result"
    }
   ],
   "source": [
    "var.capitalize()"
   ]
  },
  {
   "cell_type": "code",
   "execution_count": 36,
   "id": "eccaddb6-aa16-48a4-a88b-fc3c5292c992",
   "metadata": {},
   "outputs": [
    {
     "data": {
      "text/plain": [
       "'This Is My First String Variable'"
      ]
     },
     "execution_count": 36,
     "metadata": {},
     "output_type": "execute_result"
    }
   ],
   "source": [
    "var.title()"
   ]
  },
  {
   "cell_type": "code",
   "execution_count": 37,
   "id": "72b9049b-96d1-40b3-9378-85e230daa8d7",
   "metadata": {},
   "outputs": [
    {
     "data": {
      "text/plain": [
       "'string '"
      ]
     },
     "execution_count": 37,
     "metadata": {},
     "output_type": "execute_result"
    }
   ],
   "source": [
    "var1"
   ]
  },
  {
   "cell_type": "code",
   "execution_count": 38,
   "id": "838df17e-c4a8-4a5c-b6ab-ea8ea0347383",
   "metadata": {},
   "outputs": [
    {
     "data": {
      "text/plain": [
       "False"
      ]
     },
     "execution_count": 38,
     "metadata": {},
     "output_type": "execute_result"
    }
   ],
   "source": [
    "var1.isupper()"
   ]
  },
  {
   "cell_type": "code",
   "execution_count": 39,
   "id": "9b50d39d-fe6a-4d51-9f2f-2482e73fcc40",
   "metadata": {},
   "outputs": [
    {
     "data": {
      "text/plain": [
       "False"
      ]
     },
     "execution_count": 39,
     "metadata": {},
     "output_type": "execute_result"
    }
   ],
   "source": [
    "\"String\".isupper()"
   ]
  },
  {
   "cell_type": "code",
   "execution_count": 40,
   "id": "de8532e3-495e-4703-9de9-8703391f14cc",
   "metadata": {},
   "outputs": [
    {
     "data": {
      "text/plain": [
       "False"
      ]
     },
     "execution_count": 40,
     "metadata": {},
     "output_type": "execute_result"
    }
   ],
   "source": [
    "\"String\".islower()"
   ]
  },
  {
   "cell_type": "code",
   "execution_count": 45,
   "id": "68cfeb04-dcf4-474c-9b13-097fc96828b8",
   "metadata": {},
   "outputs": [
    {
     "data": {
      "text/plain": [
       "True"
      ]
     },
     "execution_count": 45,
     "metadata": {},
     "output_type": "execute_result"
    }
   ],
   "source": [
    "var.startswith(\"This\")"
   ]
  },
  {
   "cell_type": "code",
   "execution_count": 42,
   "id": "4fcabd88-2578-4aa3-a333-1afb35c6341c",
   "metadata": {},
   "outputs": [
    {
     "data": {
      "text/plain": [
       "'This is my first string variable'"
      ]
     },
     "execution_count": 42,
     "metadata": {},
     "output_type": "execute_result"
    }
   ],
   "source": [
    "var"
   ]
  },
  {
   "cell_type": "code",
   "execution_count": 46,
   "id": "f3117d42-784b-4bca-95cd-412f620bd894",
   "metadata": {},
   "outputs": [
    {
     "data": {
      "text/plain": [
       "True"
      ]
     },
     "execution_count": 46,
     "metadata": {},
     "output_type": "execute_result"
    }
   ],
   "source": [
    "var.endswith(\"string variable\")"
   ]
  },
  {
   "cell_type": "code",
   "execution_count": 47,
   "id": "0625cd45-15a1-4651-b476-d3c3227395f7",
   "metadata": {},
   "outputs": [
    {
     "data": {
      "text/plain": [
       "'This is my first string variable'"
      ]
     },
     "execution_count": 47,
     "metadata": {},
     "output_type": "execute_result"
    }
   ],
   "source": [
    "var"
   ]
  },
  {
   "cell_type": "code",
   "execution_count": 50,
   "id": "11b8a577-f7fd-4ce6-ad5e-69794478bd13",
   "metadata": {},
   "outputs": [
    {
     "data": {
      "text/plain": [
       "' is my first string variable'"
      ]
     },
     "execution_count": 50,
     "metadata": {},
     "output_type": "execute_result"
    }
   ],
   "source": [
    "var.removeprefix(\"This\")"
   ]
  },
  {
   "cell_type": "code",
   "execution_count": 51,
   "id": "e7c4e8ea-6b64-49d5-82ee-e64be8c5ffdb",
   "metadata": {},
   "outputs": [
    {
     "data": {
      "text/plain": [
       "'This is my first string variab'"
      ]
     },
     "execution_count": 51,
     "metadata": {},
     "output_type": "execute_result"
    }
   ],
   "source": [
    "var.removesuffix(\"le\")"
   ]
  },
  {
   "cell_type": "code",
   "execution_count": 52,
   "id": "898a5e5b-a980-4d9b-95b2-5575b7f165d9",
   "metadata": {},
   "outputs": [
    {
     "data": {
      "text/plain": [
       "False"
      ]
     },
     "execution_count": 52,
     "metadata": {},
     "output_type": "execute_result"
    }
   ],
   "source": [
    "var.isalnum()"
   ]
  },
  {
   "cell_type": "code",
   "execution_count": 53,
   "id": "dc2ae26a-0e73-4650-b0d1-a591a457c6ff",
   "metadata": {},
   "outputs": [
    {
     "data": {
      "text/plain": [
       "True"
      ]
     },
     "execution_count": 53,
     "metadata": {},
     "output_type": "execute_result"
    }
   ],
   "source": [
    "\"string1\".isalnum()"
   ]
  },
  {
   "cell_type": "code",
   "execution_count": 54,
   "id": "8e149046-bced-49ae-81b7-b0975f4f841e",
   "metadata": {},
   "outputs": [
    {
     "data": {
      "text/plain": [
       "True"
      ]
     },
     "execution_count": 54,
     "metadata": {},
     "output_type": "execute_result"
    }
   ],
   "source": [
    "\"3543451\".isdigit()"
   ]
  },
  {
   "cell_type": "code",
   "execution_count": 56,
   "id": "010c168b-b1e4-4474-a3f3-217632404824",
   "metadata": {},
   "outputs": [
    {
     "data": {
      "text/plain": [
       "False"
      ]
     },
     "execution_count": 56,
     "metadata": {},
     "output_type": "execute_result"
    }
   ],
   "source": [
    "\"   \".isspace()"
   ]
  },
  {
   "cell_type": "code",
   "execution_count": 57,
   "id": "b37a2b04-a503-4a87-8f7b-9aefd23acf5a",
   "metadata": {},
   "outputs": [
    {
     "data": {
      "text/plain": [
       "'This is my first string variable'"
      ]
     },
     "execution_count": 57,
     "metadata": {},
     "output_type": "execute_result"
    }
   ],
   "source": [
    "var"
   ]
  },
  {
   "cell_type": "code",
   "execution_count": 60,
   "id": "4340a2ab-ad72-4ea5-8bdf-2b812e1e43f5",
   "metadata": {},
   "outputs": [
    {
     "data": {
      "text/plain": [
       "('Th', 'i', 's is my first string variable')"
      ]
     },
     "execution_count": 60,
     "metadata": {},
     "output_type": "execute_result"
    }
   ],
   "source": [
    "var.partition(\"i\")"
   ]
  },
  {
   "cell_type": "code",
   "execution_count": 61,
   "id": "cf485a7e-603b-4441-9a15-32ee80e402cf",
   "metadata": {},
   "outputs": [
    {
     "data": {
      "text/plain": [
       "['This', 'is', 'my', 'first', 'string', 'variable']"
      ]
     },
     "execution_count": 61,
     "metadata": {},
     "output_type": "execute_result"
    }
   ],
   "source": [
    "var.split()"
   ]
  },
  {
   "cell_type": "code",
   "execution_count": 63,
   "id": "32601ff0-f177-4d88-bdf8-b90553e03067",
   "metadata": {},
   "outputs": [],
   "source": [
    "lstr= var.split(\"i\")"
   ]
  },
  {
   "cell_type": "code",
   "execution_count": 64,
   "id": "bcf97095-36c2-4ffb-8787-407f1501f309",
   "metadata": {},
   "outputs": [
    {
     "data": {
      "text/plain": [
       "['Th', 's ', 's my f', 'rst str', 'ng var', 'able']"
      ]
     },
     "execution_count": 64,
     "metadata": {},
     "output_type": "execute_result"
    }
   ],
   "source": [
    "lstr"
   ]
  },
  {
   "cell_type": "code",
   "execution_count": 66,
   "id": "920ca33d-2a36-4be9-9b95-742ddbb80731",
   "metadata": {},
   "outputs": [
    {
     "data": {
      "text/plain": [
       "'This is my first string variable'"
      ]
     },
     "execution_count": 66,
     "metadata": {},
     "output_type": "execute_result"
    }
   ],
   "source": [
    "\"i\".join(lstr)"
   ]
  },
  {
   "cell_type": "code",
   "execution_count": 67,
   "id": "6fc53207-65c8-45a3-9dd1-bc30620edf8e",
   "metadata": {},
   "outputs": [
    {
     "data": {
      "text/plain": [
       "'Th-s -s my f-rst str-ng var-able'"
      ]
     },
     "execution_count": 67,
     "metadata": {},
     "output_type": "execute_result"
    }
   ],
   "source": [
    "\"-\".join(lstr)"
   ]
  },
  {
   "cell_type": "code",
   "execution_count": 68,
   "id": "911592bc-fa81-4836-bcbb-acf7e5e2781d",
   "metadata": {},
   "outputs": [
    {
     "data": {
      "text/plain": [
       "'This is my first string variable'"
      ]
     },
     "execution_count": 68,
     "metadata": {},
     "output_type": "execute_result"
    }
   ],
   "source": [
    "var"
   ]
  },
  {
   "cell_type": "code",
   "execution_count": 69,
   "id": "278cd744-b5bf-4c7d-b53b-2c871aecc7d6",
   "metadata": {},
   "outputs": [
    {
     "data": {
      "text/plain": [
       "'    string%%%%@@'"
      ]
     },
     "execution_count": 69,
     "metadata": {},
     "output_type": "execute_result"
    }
   ],
   "source": [
    "\"    string%%%%@@\""
   ]
  },
  {
   "cell_type": "code",
   "execution_count": 70,
   "id": "82412f9f-08af-4bcf-994e-3274f0466837",
   "metadata": {},
   "outputs": [
    {
     "data": {
      "text/plain": [
       "'string%%%%@@'"
      ]
     },
     "execution_count": 70,
     "metadata": {},
     "output_type": "execute_result"
    }
   ],
   "source": [
    "\"    string%%%%@@\".lstrip()"
   ]
  },
  {
   "cell_type": "code",
   "execution_count": 77,
   "id": "91038130-d2d2-41b5-945c-d2969a9e4cf3",
   "metadata": {},
   "outputs": [
    {
     "data": {
      "text/plain": [
       "'    string%%%%@@'"
      ]
     },
     "execution_count": 77,
     "metadata": {},
     "output_type": "execute_result"
    }
   ],
   "source": [
    "\"    string%%%%@@\".rstrip(\"%\")"
   ]
  },
  {
   "cell_type": "code",
   "execution_count": 75,
   "id": "17dd77a5-9f9b-4dde-8bee-3f2bf58bffcb",
   "metadata": {},
   "outputs": [
    {
     "data": {
      "text/plain": [
       "'    string'"
      ]
     },
     "execution_count": 75,
     "metadata": {},
     "output_type": "execute_result"
    }
   ],
   "source": [
    "\"    string%%%%@@\".strip(\"@%\")"
   ]
  },
  {
   "cell_type": "code",
   "execution_count": 76,
   "id": "6849fac4-7a19-4109-9cc7-d247f8a6a476",
   "metadata": {},
   "outputs": [
    {
     "data": {
      "text/plain": [
       "'string'"
      ]
     },
     "execution_count": 76,
     "metadata": {},
     "output_type": "execute_result"
    }
   ],
   "source": [
    "\"    string  \".strip()"
   ]
  },
  {
   "cell_type": "code",
   "execution_count": 78,
   "id": "f5271812-31cb-46b4-8a62-696b9b599f33",
   "metadata": {},
   "outputs": [
    {
     "data": {
      "text/plain": [
       "'string@@'"
      ]
     },
     "execution_count": 78,
     "metadata": {},
     "output_type": "execute_result"
    }
   ],
   "source": [
    "\"string%%%%@@\".replace(\"%\",\"\")"
   ]
  },
  {
   "cell_type": "code",
   "execution_count": 79,
   "id": "d9bd2275-5db3-4de6-88be-0f31849739cd",
   "metadata": {},
   "outputs": [
    {
     "data": {
      "text/plain": [
       "'string&&&&@@'"
      ]
     },
     "execution_count": 79,
     "metadata": {},
     "output_type": "execute_result"
    }
   ],
   "source": [
    "\"string%%%%@@\".replace(\"%\",\"&\")"
   ]
  },
  {
   "cell_type": "code",
   "execution_count": 80,
   "id": "15fe921d-cee7-4f4c-a2df-f60c568ba5e5",
   "metadata": {},
   "outputs": [
    {
     "data": {
      "text/plain": [
       "'This is my first string variable'"
      ]
     },
     "execution_count": 80,
     "metadata": {},
     "output_type": "execute_result"
    }
   ],
   "source": [
    "var"
   ]
  },
  {
   "cell_type": "code",
   "execution_count": 83,
   "id": "a413a3d1-41df-4711-81bb-cefc337c90a3",
   "metadata": {},
   "outputs": [
    {
     "data": {
      "text/plain": [
       "'                             This is my first string variable                             '"
      ]
     },
     "execution_count": 83,
     "metadata": {},
     "output_type": "execute_result"
    }
   ],
   "source": [
    "var.center(90)"
   ]
  },
  {
   "cell_type": "code",
   "execution_count": 85,
   "id": "e3e8d716-acc1-46dc-a7d6-00e98c1d1dbd",
   "metadata": {},
   "outputs": [
    {
     "data": {
      "text/plain": [
       "'                        This Is My First String Variable                        '"
      ]
     },
     "execution_count": 85,
     "metadata": {},
     "output_type": "execute_result"
    }
   ],
   "source": [
    "var.title().center(80)"
   ]
  },
  {
   "cell_type": "code",
   "execution_count": 87,
   "id": "da2fd2c0-0863-4117-a957-ab72c1d0abaa",
   "metadata": {},
   "outputs": [],
   "source": [
    "var2 = \"StirnG\""
   ]
  },
  {
   "cell_type": "code",
   "execution_count": null,
   "id": "020aec7b-cd33-4ba6-9d6c-77d343ac7a2c",
   "metadata": {},
   "outputs": [],
   "source": [
    "vR"
   ]
  },
  {
   "cell_type": "code",
   "execution_count": null,
   "id": "c2aaaa33-3b2b-413d-b822-66fc58bf9761",
   "metadata": {},
   "outputs": [],
   "source": []
  }
 ],
 "metadata": {
  "kernelspec": {
   "display_name": "Python 3 (ipykernel)",
   "language": "python",
   "name": "python3"
  },
  "language_info": {
   "codemirror_mode": {
    "name": "ipython",
    "version": 3
   },
   "file_extension": ".py",
   "mimetype": "text/x-python",
   "name": "python",
   "nbconvert_exporter": "python",
   "pygments_lexer": "ipython3",
   "version": "3.11.7"
  }
 },
 "nbformat": 4,
 "nbformat_minor": 5
}
