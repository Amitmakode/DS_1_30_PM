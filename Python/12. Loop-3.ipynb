{
 "cells": [
  {
   "cell_type": "code",
   "execution_count": 2,
   "id": "2f31ff59-0fc5-47bf-b3da-77719caf98f2",
   "metadata": {},
   "outputs": [
    {
     "name": "stdout",
     "output_type": "stream",
     "text": [
      "* \n",
      "* * \n",
      "* * * \n",
      "* * * * \n",
      "* * * * * \n",
      "* * * * * * \n",
      "* * * * * * * \n",
      "* * * * * * * * \n",
      "* * * * * * * * * \n"
     ]
    }
   ],
   "source": [
    "# number of rows\n",
    "rows = 9\n",
    "for i in range(0, rows):\n",
    "    # nested loop for each column\n",
    "    for j in range(0, i + 1):\n",
    "        # print star\n",
    "        print(\"*\", end=' ')\n",
    "    # new line after each row\n",
    "    print(\"\\r\")"
   ]
  },
  {
   "cell_type": "code",
   "execution_count": 11,
   "id": "e7c98413-bd61-4f90-91e9-91bbe28e9cac",
   "metadata": {},
   "outputs": [
    {
     "name": "stdout",
     "output_type": "stream",
     "text": [
      "          * \n",
      "        * * \n",
      "      * * * \n",
      "    * * * * \n",
      "  * * * * * \n",
      "* * * * * * \n"
     ]
    }
   ],
   "source": [
    "# number of rows\n",
    "rows = 6\n",
    "k = 2*rows - 2\n",
    "\n",
    "for i in range(0, rows):\n",
    "    # process each column\n",
    "    for j in range(0, k):\n",
    "        # print space in pyramid\n",
    "        print(end=\" \")\n",
    "    k = k - 2\n",
    "    for j in range(0, i + 1):\n",
    "        # display star\n",
    "        print(\"* \", end=\"\")\n",
    "    print(\"\")"
   ]
  },
  {
   "cell_type": "code",
   "execution_count": 13,
   "id": "d296b63b-ae3e-479e-b1bc-2fb034cff095",
   "metadata": {},
   "outputs": [
    {
     "name": "stdout",
     "output_type": "stream",
     "text": [
      "* * * * * * * * *  \n",
      "* * * * * * * *  \n",
      "* * * * * * *  \n",
      "* * * * * *  \n",
      "* * * * *  \n",
      "* * * *  \n",
      "* * *  \n",
      "* *  \n",
      "*  \n",
      " \n"
     ]
    }
   ],
   "source": [
    "rows = 9\n",
    "for i in range(rows + 1, 0, -1):\n",
    "    # nested reverse loop\n",
    "    for j in range(0, i - 1):\n",
    "        # display star\n",
    "        print(\"*\", end=' ')    \n",
    "    print(\" \")"
   ]
  },
  {
   "cell_type": "code",
   "execution_count": 23,
   "id": "7876bbaa-2056-469a-b7b5-44727b5663a1",
   "metadata": {},
   "outputs": [
    {
     "name": "stdout",
     "output_type": "stream",
     "text": [
      "* * * * * \n",
      "  * * * * \n",
      "    * * * \n",
      "      * * \n",
      "        * \n",
      "          \n"
     ]
    }
   ],
   "source": [
    "rows = 5\n",
    "n = 0\n",
    "\n",
    "for i in range(rows + 1, 0, -1):  #6,5,4,3,2,1\n",
    "    # nested reverse loop\n",
    "    for k in range(n):            #0\n",
    "        print(\" \", end=\" \")\n",
    "    n = n+1                       #1,2\n",
    "    for j in range(0, i - 1):     #0,1,2\n",
    "        # display star\n",
    "        print(\"*\", end=' ')   #* * * * * \n",
    "    print(\"\")                #_ * * * *\n",
    "                              #_ _ * * *"
   ]
  },
  {
   "cell_type": "code",
   "execution_count": 35,
   "id": "edc88fa9-c410-45e3-8793-440a26321e64",
   "metadata": {},
   "outputs": [
    {
     "name": "stdout",
     "output_type": "stream",
     "text": [
      "* * * * * * \n",
      " * * * * * \n",
      "  * * * * \n",
      "   * * * \n",
      "    * * \n",
      "     * \n"
     ]
    }
   ],
   "source": [
    "rows = 5\n",
    "#k = 2 * rows - 8\n",
    "k = 0\n",
    "\n",
    "for i in range(rows, -1, -1):   #(5,4,3,2,1,0)\n",
    "    for j in range(k, 0, -1):   #(8,7,6,5,4,3,2,1)\n",
    "        print(end=\" \")\n",
    "    k = k + 1\n",
    "    for j in range(0, i + 1):\n",
    "        print(\"*\", end=\" \")\n",
    "    print(\"\")"
   ]
  },
  {
   "cell_type": "code",
   "execution_count": 26,
   "id": "103b2e83-e669-4ea5-9bb9-9bc66ece2709",
   "metadata": {},
   "outputs": [
    {
     "name": "stdout",
     "output_type": "stream",
     "text": [
      "_____"
     ]
    }
   ],
   "source": [
    "for i in range(5):\n",
    "    print(end=\"_\")"
   ]
  },
  {
   "cell_type": "code",
   "execution_count": 36,
   "id": "78326244-fcf0-4c6f-9a88-2449ba203964",
   "metadata": {},
   "outputs": [
    {
     "name": "stdout",
     "output_type": "stream",
     "text": [
      "* * * * * \n",
      "  * * * * \n",
      "    * * * \n",
      "      * * \n",
      "        * \n"
     ]
    }
   ],
   "source": [
    "rows = 5\n",
    "i = rows\n",
    "while i >= 1:\n",
    "    j = rows\n",
    "    while j > i:\n",
    "        # display space\n",
    "        print(' ', end=' ')\n",
    "        j =j- 1\n",
    "    k = 1\n",
    "    while k <= i:\n",
    "        print('*', end=' ')\n",
    "        k += 1\n",
    "    print()\n",
    "    i = i- 1"
   ]
  },
  {
   "cell_type": "code",
   "execution_count": 38,
   "id": "bb132068-1996-4e06-abb9-87e4357311b1",
   "metadata": {},
   "outputs": [
    {
     "data": {
      "text/plain": [
       "'A'"
      ]
     },
     "execution_count": 38,
     "metadata": {},
     "output_type": "execute_result"
    }
   ],
   "source": [
    "chr(65)"
   ]
  },
  {
   "cell_type": "code",
   "execution_count": 40,
   "id": "3458732c-c163-41d7-b29d-04f78073d94f",
   "metadata": {},
   "outputs": [
    {
     "name": "stdout",
     "output_type": "stream",
     "text": [
      "A - - 65\n",
      "B - - 66\n",
      "C - - 67\n",
      "D - - 68\n",
      "E - - 69\n",
      "F - - 70\n",
      "G - - 71\n",
      "H - - 72\n",
      "I - - 73\n",
      "J - - 74\n",
      "K - - 75\n",
      "L - - 76\n",
      "M - - 77\n",
      "N - - 78\n",
      "O - - 79\n",
      "P - - 80\n",
      "Q - - 81\n",
      "R - - 82\n",
      "S - - 83\n",
      "T - - 84\n",
      "U - - 85\n",
      "V - - 86\n",
      "W - - 87\n",
      "X - - 88\n",
      "Y - - 89\n",
      "Z - - 90\n"
     ]
    }
   ],
   "source": [
    "for i in range(ord(\"A\"),ord(\"Z\")+1):\n",
    "    print(chr(i), \"- -\", ord(chr(i)))"
   ]
  },
  {
   "cell_type": "code",
   "execution_count": 48,
   "id": "96af41dc-db42-4bcc-8c8b-f64069e6a3d0",
   "metadata": {},
   "outputs": [
    {
     "name": "stdout",
     "output_type": "stream",
     "text": [
      "A \n",
      "B C \n",
      "D E F \n",
      "G H I J \n",
      "K L M N O \n",
      "P Q R S T U \n",
      "V W X Y Z \n"
     ]
    }
   ],
   "source": [
    "rows = 7\n",
    "n= ord(\"A\")\n",
    "\n",
    "for i in range(0, rows):\n",
    "    # nested loop for each column\n",
    "    for j in range(0, i + 1):\n",
    "        # print star\n",
    "        print(chr(n), end=' ')\n",
    "        n = n+1\n",
    "        if n == 91:\n",
    "            break\n",
    "    # new line after each row\n",
    "    print(\"\\r\")"
   ]
  },
  {
   "cell_type": "code",
   "execution_count": null,
   "id": "8e2db3a8-5ed4-4a19-9750-686fc4f99b6a",
   "metadata": {},
   "outputs": [],
   "source": []
  }
 ],
 "metadata": {
  "kernelspec": {
   "display_name": "Python 3 (ipykernel)",
   "language": "python",
   "name": "python3"
  },
  "language_info": {
   "codemirror_mode": {
    "name": "ipython",
    "version": 3
   },
   "file_extension": ".py",
   "mimetype": "text/x-python",
   "name": "python",
   "nbconvert_exporter": "python",
   "pygments_lexer": "ipython3",
   "version": "3.11.7"
  }
 },
 "nbformat": 4,
 "nbformat_minor": 5
}
