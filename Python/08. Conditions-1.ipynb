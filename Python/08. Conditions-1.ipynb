{
 "cells": [
  {
   "cell_type": "code",
   "execution_count": 1,
   "id": "8cc7733e-5c92-43bc-9dd0-d0c1a374f824",
   "metadata": {},
   "outputs": [],
   "source": [
    "a, b, c = 10,20, 30"
   ]
  },
  {
   "cell_type": "code",
   "execution_count": 5,
   "id": "b392db77-0446-4380-8965-015c8022a320",
   "metadata": {},
   "outputs": [
    {
     "name": "stdout",
     "output_type": "stream",
     "text": [
      "i don't know\n"
     ]
    }
   ],
   "source": [
    "if a > b:\n",
    "    print(\"a is greater than b\")\n",
    "elif c == b:\n",
    "    print(\"c is equal to b\")\n",
    "else:\n",
    "    print(\"i don't know\")"
   ]
  },
  {
   "cell_type": "code",
   "execution_count": 7,
   "id": "ae3420b1-242d-4785-9520-f5ee62a5ba94",
   "metadata": {},
   "outputs": [
    {
     "name": "stdout",
     "output_type": "stream",
     "text": [
      "abc\n"
     ]
    }
   ],
   "source": [
    "if 10 < b:\n",
    "    print(\"abc\")"
   ]
  },
  {
   "cell_type": "code",
   "execution_count": 8,
   "id": "a2411d2e-21eb-437f-85bc-e0cf4e1c54e2",
   "metadata": {},
   "outputs": [
    {
     "ename": "SyntaxError",
     "evalue": "invalid syntax (3841735869.py, line 1)",
     "output_type": "error",
     "traceback": [
      "\u001b[1;36m  Cell \u001b[1;32mIn[8], line 1\u001b[1;36m\u001b[0m\n\u001b[1;33m    elif c > b:\u001b[0m\n\u001b[1;37m    ^\u001b[0m\n\u001b[1;31mSyntaxError\u001b[0m\u001b[1;31m:\u001b[0m invalid syntax\n"
     ]
    }
   ],
   "source": [
    "elif c > b:\n",
    "    print(\"c is equal to b\")"
   ]
  },
  {
   "cell_type": "code",
   "execution_count": 9,
   "id": "b1e24c5e-e1f8-4169-b5ff-d17a8e6b63cc",
   "metadata": {},
   "outputs": [
    {
     "ename": "SyntaxError",
     "evalue": "invalid syntax (842664327.py, line 1)",
     "output_type": "error",
     "traceback": [
      "\u001b[1;36m  Cell \u001b[1;32mIn[9], line 1\u001b[1;36m\u001b[0m\n\u001b[1;33m    else:\u001b[0m\n\u001b[1;37m    ^\u001b[0m\n\u001b[1;31mSyntaxError\u001b[0m\u001b[1;31m:\u001b[0m invalid syntax\n"
     ]
    }
   ],
   "source": [
    "else:\n",
    "    print(\"i don't know\")"
   ]
  },
  {
   "cell_type": "code",
   "execution_count": 14,
   "id": "d3aa1480-e36d-4a5c-bb56-5d7ce7cbed32",
   "metadata": {},
   "outputs": [],
   "source": [
    "l1 = [1,2,3,\"xyz\", True]"
   ]
  },
  {
   "cell_type": "code",
   "execution_count": 15,
   "id": "b04b2816-e3ee-4859-9d68-ed891b7bac34",
   "metadata": {},
   "outputs": [
    {
     "data": {
      "text/plain": [
       "bool"
      ]
     },
     "execution_count": 15,
     "metadata": {},
     "output_type": "execute_result"
    }
   ],
   "source": [
    "bool"
   ]
  },
  {
   "cell_type": "code",
   "execution_count": 16,
   "id": "7f395145-6012-4492-9b1b-c20a2d84f02d",
   "metadata": {},
   "outputs": [],
   "source": [
    "if bool in l1:\n",
    "    print(\"asd\")"
   ]
  },
  {
   "cell_type": "code",
   "execution_count": 17,
   "id": "7a40aea9-a6a3-40ba-a7c7-fb96e6396fd7",
   "metadata": {},
   "outputs": [
    {
     "data": {
      "text/plain": [
       "int"
      ]
     },
     "execution_count": 17,
     "metadata": {},
     "output_type": "execute_result"
    }
   ],
   "source": [
    "int"
   ]
  },
  {
   "cell_type": "code",
   "execution_count": 18,
   "id": "38933491-1e49-4bae-a3cb-ce2f91d396aa",
   "metadata": {},
   "outputs": [
    {
     "data": {
      "text/plain": [
       "int"
      ]
     },
     "execution_count": 18,
     "metadata": {},
     "output_type": "execute_result"
    }
   ],
   "source": [
    "type(1)"
   ]
  },
  {
   "cell_type": "code",
   "execution_count": 19,
   "id": "cfcbf9ff-d676-425c-b0a9-50d85b084637",
   "metadata": {},
   "outputs": [
    {
     "name": "stdout",
     "output_type": "stream",
     "text": [
      "yes it is int\n"
     ]
    }
   ],
   "source": [
    "if type(1) == int:\n",
    "    print(\"yes it is int\")"
   ]
  },
  {
   "cell_type": "code",
   "execution_count": 21,
   "id": "e94912df-5fc3-4600-a79b-7282458748ea",
   "metadata": {},
   "outputs": [
    {
     "data": {
      "text/plain": [
       "3"
      ]
     },
     "execution_count": 21,
     "metadata": {},
     "output_type": "execute_result"
    }
   ],
   "source": [
    "len([1,2,3])"
   ]
  },
  {
   "cell_type": "code",
   "execution_count": 22,
   "id": "226da6f6-3c03-4f6e-9007-392b7353fbbe",
   "metadata": {},
   "outputs": [
    {
     "data": {
      "text/plain": [
       "3"
      ]
     },
     "execution_count": 22,
     "metadata": {},
     "output_type": "execute_result"
    }
   ],
   "source": [
    "len({1,2,3})"
   ]
  },
  {
   "cell_type": "code",
   "execution_count": 20,
   "id": "3ed7ad36-c7ff-44c7-8c05-df5fe2840231",
   "metadata": {},
   "outputs": [
    {
     "name": "stdout",
     "output_type": "stream",
     "text": [
      "yes it is\n"
     ]
    }
   ],
   "source": [
    "if len([1,2,3]) == len({1,2,3}):\n",
    "    print(\"yes it is\")"
   ]
  },
  {
   "cell_type": "code",
   "execution_count": 25,
   "id": "5020da4a-7198-41ed-ba4d-0623b0429c1a",
   "metadata": {},
   "outputs": [
    {
     "name": "stdin",
     "output_type": "stream",
     "text": [
      " 10\n"
     ]
    },
    {
     "name": "stdout",
     "output_type": "stream",
     "text": [
      "i don't know\n"
     ]
    }
   ],
   "source": [
    "num = int(input())\n",
    "\n",
    "if num > 10:\n",
    "    print(\"greater than 10\")\n",
    "elif num < 10:\n",
    "    print(\"is less than 10\")\n",
    "else: \n",
    "    print(\"i don't know\")"
   ]
  },
  {
   "cell_type": "code",
   "execution_count": 26,
   "id": "e08b79df-df37-4517-bcca-4ef5571131fc",
   "metadata": {},
   "outputs": [
    {
     "ename": "SyntaxError",
     "evalue": "invalid syntax (3821098832.py, line 10)",
     "output_type": "error",
     "traceback": [
      "\u001b[1;36m  Cell \u001b[1;32mIn[26], line 10\u001b[1;36m\u001b[0m\n\u001b[1;33m    elif :\u001b[0m\n\u001b[1;37m         ^\u001b[0m\n\u001b[1;31mSyntaxError\u001b[0m\u001b[1;31m:\u001b[0m invalid syntax\n"
     ]
    }
   ],
   "source": [
    "number = 10\n",
    "A = 10\n",
    "B = 20\n",
    "C = 30\n",
    "\n",
    "if number == A:\n",
    "    print(\"python-1\")\n",
    "elif number > B :\n",
    "    print(\"python-2\")\n",
    "elif :\n",
    "    print(\"python-3\")\n",
    "else:\n",
    "    print(\"i don't know\")"
   ]
  },
  {
   "cell_type": "code",
   "execution_count": 28,
   "id": "23bffb62-67e8-4e04-8803-88d56ed2c38b",
   "metadata": {},
   "outputs": [
    {
     "name": "stdout",
     "output_type": "stream",
     "text": [
      "number is equal\n",
      "number is less than 11\n"
     ]
    }
   ],
   "source": [
    "number  = 11\n",
    "if number == 11:\n",
    "    print(\"number is equal\")\n",
    "elif number > 11:\n",
    "    print(\"number is greater than 11\")\n",
    "if number == 11:\n",
    "    print(\"number is less than 11\")"
   ]
  },
  {
   "cell_type": "code",
   "execution_count": 29,
   "id": "ddb0a352-d1cf-4789-b203-f98e7735e497",
   "metadata": {},
   "outputs": [
    {
     "name": "stdout",
     "output_type": "stream",
     "text": [
      "number is equal\n",
      "number is less than 11\n",
      "   ---\n"
     ]
    }
   ],
   "source": [
    "number  = 11\n",
    "\n",
    "if number == 11:\n",
    "    print(\"number is equal\")\n",
    "elif number > 11:\n",
    "    print(\"number is greater than 11\")\n",
    "    \n",
    "if number == 11:\n",
    "    print(\"number is less than 11\")\n",
    "\n",
    "if number == 11:\n",
    "    print(\"   ---\")"
   ]
  },
  {
   "cell_type": "markdown",
   "id": "66e9522e-ded2-4b68-8d28-c52629dce465",
   "metadata": {},
   "source": [
    "### Ternary Operator in Python"
   ]
  },
  {
   "cell_type": "raw",
   "id": "074c8165-8a0a-43b8-ba1f-97b225a5ddef",
   "metadata": {},
   "source": [
    "value_if_true if condition else value_if_false"
   ]
  },
  {
   "cell_type": "code",
   "execution_count": 32,
   "id": "76b8b817-c6cb-4eeb-8bd5-dc6a269a0503",
   "metadata": {},
   "outputs": [
    {
     "name": "stdin",
     "output_type": "stream",
     "text": [
      " 11\n"
     ]
    },
    {
     "data": {
      "text/plain": [
       "'this is if statement'"
      ]
     },
     "execution_count": 32,
     "metadata": {},
     "output_type": "execute_result"
    }
   ],
   "source": [
    "numbers = int(input())\n",
    "\n",
    "\"this is if statement\" if 10 < numbers else \"this is else statement\""
   ]
  },
  {
   "cell_type": "code",
   "execution_count": 33,
   "id": "bcf5444e-ac03-440c-ba79-6bde3aefb426",
   "metadata": {},
   "outputs": [
    {
     "name": "stdout",
     "output_type": "stream",
     "text": [
      "nested else\n"
     ]
    }
   ],
   "source": [
    "if a > b :\n",
    "    print(\"if block\")\n",
    "else:\n",
    "    if a == b:\n",
    "        print(\"nested if\")\n",
    "    else:\n",
    "        print(\"nested else\")"
   ]
  },
  {
   "cell_type": "code",
   "execution_count": 34,
   "id": "4635fbe1-3460-40ef-aefe-85ddf7f55841",
   "metadata": {},
   "outputs": [
    {
     "data": {
      "text/plain": [
       "'nested else'"
      ]
     },
     "execution_count": 34,
     "metadata": {},
     "output_type": "execute_result"
    }
   ],
   "source": [
    "\"if block\" if a > b else \"nested if\"  if a == b else\"nested else\""
   ]
  },
  {
   "cell_type": "code",
   "execution_count": 35,
   "id": "22d5af53-85b3-4d37-a61c-d9a5fdedef5c",
   "metadata": {},
   "outputs": [
    {
     "name": "stdout",
     "output_type": "stream",
     "text": [
      "B\n"
     ]
    }
   ],
   "source": [
    "score = 75\n",
    "grade = \"A\" if score >= 90 else \"B\" if score >= 75 else \"C\"\n",
    "print(grade) "
   ]
  },
  {
   "cell_type": "code",
   "execution_count": 36,
   "id": "7a7b1048-0f2c-42ea-acd0-b34b37ec126e",
   "metadata": {},
   "outputs": [],
   "source": [
    "score = 75"
   ]
  },
  {
   "cell_type": "code",
   "execution_count": 37,
   "id": "cacac506-65a0-4c08-856b-85a26f444ec7",
   "metadata": {},
   "outputs": [
    {
     "data": {
      "text/plain": [
       "'B'"
      ]
     },
     "execution_count": 37,
     "metadata": {},
     "output_type": "execute_result"
    }
   ],
   "source": [
    "\"A\" if score >= 90 else \"B\" if score >= 75 else \"C\""
   ]
  },
  {
   "cell_type": "code",
   "execution_count": 38,
   "id": "63ae484b-3f69-4bcc-993f-d8d383131bc8",
   "metadata": {},
   "outputs": [
    {
     "name": "stdout",
     "output_type": "stream",
     "text": [
      "B\n"
     ]
    }
   ],
   "source": [
    "print(grade)"
   ]
  },
  {
   "cell_type": "code",
   "execution_count": null,
   "id": "50768f7f-bc19-4638-a390-4fc3def74ff4",
   "metadata": {},
   "outputs": [],
   "source": [
    "from datetime import datetime\n",
    "\n",
    "# Get the current hour in IST\n",
    "current_hour = datetime.now().hour\n",
    "\n",
    "# Define greetings based on the hour\n",
    "greetings = (\n",
    "    \"good morning\" if current_hour < 12 else\n",
    "    \"good afternoon\" if current_hour < 18 else\n",
    "    \"good evening\" if current_hour < 21 else\n",
    "    \"good night\"\n",
    ")\n",
    "\n",
    "print(greetings)"
   ]
  },
  {
   "cell_type": "code",
   "execution_count": 39,
   "id": "7ae7e9da-28ea-4913-aece-5767a1ef45a9",
   "metadata": {},
   "outputs": [],
   "source": [
    "from datetime import datetime"
   ]
  },
  {
   "cell_type": "code",
   "execution_count": 40,
   "id": "0919d0d7-9d7a-424d-9fec-b0285d44d94d",
   "metadata": {},
   "outputs": [
    {
     "data": {
      "text/plain": [
       "14"
      ]
     },
     "execution_count": 40,
     "metadata": {},
     "output_type": "execute_result"
    }
   ],
   "source": [
    "# Get the current hour in IST\n",
    "current_hour = datetime.now().hour\n",
    "current_hour"
   ]
  },
  {
   "cell_type": "code",
   "execution_count": 41,
   "id": "6235b7e3-3630-49aa-bd3b-23da874e2e2f",
   "metadata": {},
   "outputs": [],
   "source": [
    "greetings = (\n",
    "    \"good morning\" if current_hour < 12 else\n",
    "    \"good afternoon\" if current_hour < 18 else\n",
    "    \"good evening\" if current_hour < 21 else\n",
    "    \"good night\"\n",
    ")"
   ]
  },
  {
   "cell_type": "code",
   "execution_count": 42,
   "id": "60a8a17b-c9de-4c21-aaed-98a44ca2c300",
   "metadata": {},
   "outputs": [
    {
     "data": {
      "text/plain": [
       "'good afternoon'"
      ]
     },
     "execution_count": 42,
     "metadata": {},
     "output_type": "execute_result"
    }
   ],
   "source": [
    "greetings"
   ]
  },
  {
   "cell_type": "code",
   "execution_count": null,
   "id": "d9e23443-23e2-4ed6-b969-a706f3fd7720",
   "metadata": {},
   "outputs": [],
   "source": [
    "if current_hour < 12:\n",
    "    print(\"good morning\")\n",
    "else:\n",
    "    if current_hour < 18:\n",
    "        print(\"good afternoon\")\n",
    "    else:\n",
    "        if current_hour < 21:\n",
    "            print(\"good evening\")\n",
    "        else:\n",
    "            print(\"good night\")\n",
    "    "
   ]
  },
  {
   "cell_type": "code",
   "execution_count": 43,
   "id": "d1c726e6-2cfd-4302-ad30-89609711874c",
   "metadata": {},
   "outputs": [
    {
     "data": {
      "text/plain": [
       "10"
      ]
     },
     "execution_count": 43,
     "metadata": {},
     "output_type": "execute_result"
    }
   ],
   "source": [
    "a"
   ]
  },
  {
   "cell_type": "code",
   "execution_count": 44,
   "id": "1b894321-4755-45f0-8ed9-42a25bfe5518",
   "metadata": {},
   "outputs": [
    {
     "data": {
      "text/plain": [
       "20"
      ]
     },
     "execution_count": 44,
     "metadata": {},
     "output_type": "execute_result"
    }
   ],
   "source": [
    "b"
   ]
  },
  {
   "cell_type": "code",
   "execution_count": 45,
   "id": "e186b2a6-4347-4d15-acf4-4c3bb851ebdc",
   "metadata": {},
   "outputs": [
    {
     "data": {
      "text/plain": [
       "30"
      ]
     },
     "execution_count": 45,
     "metadata": {},
     "output_type": "execute_result"
    }
   ],
   "source": [
    "c"
   ]
  },
  {
   "cell_type": "code",
   "execution_count": 46,
   "id": "5e5b33a4-7b9e-4a54-8b7b-acb0044a5b27",
   "metadata": {},
   "outputs": [],
   "source": [
    "if a < b and b < c or a ==b:\n",
    "    print(\"dsfhsfh\")"
   ]
  },
  {
   "cell_type": "code",
   "execution_count": null,
   "id": "a937db20-4f37-406f-9497-c0ea9c061856",
   "metadata": {},
   "outputs": [],
   "source": []
  }
 ],
 "metadata": {
  "kernelspec": {
   "display_name": "Python 3 (ipykernel)",
   "language": "python",
   "name": "python3"
  },
  "language_info": {
   "codemirror_mode": {
    "name": "ipython",
    "version": 3
   },
   "file_extension": ".py",
   "mimetype": "text/x-python",
   "name": "python",
   "nbconvert_exporter": "python",
   "pygments_lexer": "ipython3",
   "version": "3.11.7"
  }
 },
 "nbformat": 4,
 "nbformat_minor": 5
}
