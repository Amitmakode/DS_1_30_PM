{
 "cells": [
  {
   "cell_type": "code",
   "execution_count": 1,
   "id": "697097af-c89e-4bae-9e68-f6fd6d023ee9",
   "metadata": {},
   "outputs": [],
   "source": [
    "def list_items(*args):\n",
    "    \"\"\"Print all items passed as arguments.\"\"\"\n",
    "    for item in args:\n",
    "        print(item)"
   ]
  },
  {
   "cell_type": "code",
   "execution_count": 2,
   "id": "69b26775-fbc3-4c27-abf1-17393494c5ee",
   "metadata": {},
   "outputs": [
    {
     "name": "stdout",
     "output_type": "stream",
     "text": [
      "65465\n"
     ]
    }
   ],
   "source": [
    "list_items(65465)"
   ]
  },
  {
   "cell_type": "code",
   "execution_count": 3,
   "id": "331cab91-02d0-4b45-a364-32fe851c5218",
   "metadata": {},
   "outputs": [
    {
     "name": "stdout",
     "output_type": "stream",
     "text": [
      "python\n"
     ]
    }
   ],
   "source": [
    "list_items(\"python\")"
   ]
  },
  {
   "cell_type": "code",
   "execution_count": 4,
   "id": "b4ab2b38-613a-485e-9f6f-9ad1b288812b",
   "metadata": {},
   "outputs": [
    {
     "name": "stdout",
     "output_type": "stream",
     "text": [
      "apple\n",
      "banana\n",
      "cherry\n"
     ]
    }
   ],
   "source": [
    "list_items('apple', 'banana', 'cherry')"
   ]
  },
  {
   "cell_type": "code",
   "execution_count": 5,
   "id": "a231c0a8-3be9-471b-a40c-50bc4e7e4283",
   "metadata": {},
   "outputs": [],
   "source": [
    "def print_info(**kwargs):\n",
    "    \"\"\"Print key-value pairs passed as keyword arguments.\"\"\"\n",
    "    for key, value in kwargs.items():\n",
    "        print(f\"{key}: {value}\")"
   ]
  },
  {
   "cell_type": "code",
   "execution_count": 6,
   "id": "9c4c3e20-3672-4016-ad81-75e9d6413475",
   "metadata": {},
   "outputs": [
    {
     "name": "stdout",
     "output_type": "stream",
     "text": [
      "name: ashish\n"
     ]
    }
   ],
   "source": [
    "print_info(name = \"ashish\")"
   ]
  },
  {
   "cell_type": "code",
   "execution_count": 8,
   "id": "28b89b95-f3d3-474d-a94e-b761bbf6474c",
   "metadata": {},
   "outputs": [
    {
     "name": "stdout",
     "output_type": "stream",
     "text": [
      "len: python\n",
      "flan: HTML\n"
     ]
    }
   ],
   "source": [
    "print_info(len = \"python\", flan = \"HTML\")"
   ]
  },
  {
   "cell_type": "code",
   "execution_count": 13,
   "id": "8d994f8d-e038-487d-b548-fc30075a3885",
   "metadata": {},
   "outputs": [],
   "source": [
    "def factorial(n):\n",
    "    \"\"\"\n",
    "    Calculate the factorial of a non-negative integer n.\n",
    "\n",
    "    Parameters:\n",
    "    n (int): The number to calculate the factorial for.\n",
    "\n",
    "    Returns:\n",
    "    int: The factorial of n.\n",
    "    \"\"\"\n",
    "    if n < 0:\n",
    "        raise ValueError(\"Factorial is not defined for negative numbers\")\n",
    "    if n == 0 or n == 1:\n",
    "        return 1\n",
    "    return n * factorial(n - 1)"
   ]
  },
  {
   "cell_type": "code",
   "execution_count": 15,
   "id": "21e93f2b-4c0c-4935-aaee-99bfdd40ba31",
   "metadata": {},
   "outputs": [
    {
     "data": {
      "text/plain": [
       "5040"
      ]
     },
     "execution_count": 15,
     "metadata": {},
     "output_type": "execute_result"
    }
   ],
   "source": [
    "factorial(7)"
   ]
  },
  {
   "cell_type": "code",
   "execution_count": null,
   "id": "508ff79f-5f73-440b-af93-39c2d3da5e37",
   "metadata": {},
   "outputs": [],
   "source": [
    "5!"
   ]
  },
  {
   "cell_type": "code",
   "execution_count": 16,
   "id": "c476f08b-31e8-4466-94a3-7fb70539b843",
   "metadata": {},
   "outputs": [
    {
     "ename": "ValueError",
     "evalue": "Factorial is not defined for negative numbers",
     "output_type": "error",
     "traceback": [
      "\u001b[1;31m---------------------------------------------------------------------------\u001b[0m",
      "\u001b[1;31mValueError\u001b[0m                                Traceback (most recent call last)",
      "Cell \u001b[1;32mIn[16], line 1\u001b[0m\n\u001b[1;32m----> 1\u001b[0m factorial(\u001b[38;5;241m-\u001b[39m\u001b[38;5;241m1\u001b[39m)\n",
      "Cell \u001b[1;32mIn[13], line 12\u001b[0m, in \u001b[0;36mfactorial\u001b[1;34m(n)\u001b[0m\n\u001b[0;32m      2\u001b[0m \u001b[38;5;250m\u001b[39m\u001b[38;5;124;03m\"\"\"\u001b[39;00m\n\u001b[0;32m      3\u001b[0m \u001b[38;5;124;03mCalculate the factorial of a non-negative integer n.\u001b[39;00m\n\u001b[0;32m      4\u001b[0m \n\u001b[1;32m   (...)\u001b[0m\n\u001b[0;32m      9\u001b[0m \u001b[38;5;124;03mint: The factorial of n.\u001b[39;00m\n\u001b[0;32m     10\u001b[0m \u001b[38;5;124;03m\"\"\"\u001b[39;00m\n\u001b[0;32m     11\u001b[0m \u001b[38;5;28;01mif\u001b[39;00m n \u001b[38;5;241m<\u001b[39m \u001b[38;5;241m0\u001b[39m:\n\u001b[1;32m---> 12\u001b[0m     \u001b[38;5;28;01mraise\u001b[39;00m \u001b[38;5;167;01mValueError\u001b[39;00m(\u001b[38;5;124m\"\u001b[39m\u001b[38;5;124mFactorial is not defined for negative numbers\u001b[39m\u001b[38;5;124m\"\u001b[39m)\n\u001b[0;32m     13\u001b[0m \u001b[38;5;28;01mif\u001b[39;00m n \u001b[38;5;241m==\u001b[39m \u001b[38;5;241m0\u001b[39m \u001b[38;5;129;01mor\u001b[39;00m n \u001b[38;5;241m==\u001b[39m \u001b[38;5;241m1\u001b[39m:\n\u001b[0;32m     14\u001b[0m     \u001b[38;5;28;01mreturn\u001b[39;00m \u001b[38;5;241m1\u001b[39m\n",
      "\u001b[1;31mValueError\u001b[0m: Factorial is not defined for negative numbers"
     ]
    }
   ],
   "source": [
    "factorial(-1)"
   ]
  },
  {
   "cell_type": "code",
   "execution_count": 17,
   "id": "7947153f-d2b8-4b95-ad0a-069d58719aea",
   "metadata": {},
   "outputs": [],
   "source": [
    "def is_prime(n):\n",
    "    \"\"\"\n",
    "    Check if a number is a prime number.\n",
    "\n",
    "    Parameters:\n",
    "    n (int): The number to check.\n",
    "\n",
    "    Returns:\n",
    "    bool: True if n is a prime number, False otherwise.\n",
    "    \"\"\"\n",
    "    if n <= 1:\n",
    "        return False\n",
    "    for i in range(2, int(n**0.5) + 1):\n",
    "        if n % i == 0:\n",
    "            return False\n",
    "    return True"
   ]
  },
  {
   "cell_type": "code",
   "execution_count": 19,
   "id": "abf5f3f7-bfd2-4cf5-b997-c0e9a87d67c9",
   "metadata": {},
   "outputs": [
    {
     "data": {
      "text/plain": [
       "True"
      ]
     },
     "execution_count": 19,
     "metadata": {},
     "output_type": "execute_result"
    }
   ],
   "source": [
    "is_prime(37)"
   ]
  },
  {
   "cell_type": "code",
   "execution_count": 20,
   "id": "b878fbd6-fd87-4c2e-927d-449d4e2414e5",
   "metadata": {},
   "outputs": [],
   "source": [
    "def find_max(lst):\n",
    "    \"\"\"\n",
    "    Find the maximum value in a list of numbers.\n",
    "\n",
    "    Parameters:\n",
    "    lst (list of int/float): The list to search.\n",
    "\n",
    "    Returns:\n",
    "    int/float: The maximum value in the list.\n",
    "    \"\"\"\n",
    "    if not lst:\n",
    "        raise ValueError(\"List is empty\")\n",
    "    max_value = lst[0]\n",
    "    for item in lst[1:]:\n",
    "        if item > max_value:\n",
    "            max_value = item\n",
    "    return max_value"
   ]
  },
  {
   "cell_type": "code",
   "execution_count": 21,
   "id": "533a16cf-be23-4796-bd59-6bb93ebde4dc",
   "metadata": {},
   "outputs": [
    {
     "data": {
      "text/plain": [
       "88"
      ]
     },
     "execution_count": 21,
     "metadata": {},
     "output_type": "execute_result"
    }
   ],
   "source": [
    "find_max([2,3,11,4,5,3,56,7,8,88])"
   ]
  },
  {
   "cell_type": "code",
   "execution_count": 22,
   "id": "5902a41f-29cd-402b-bba2-aba43b345760",
   "metadata": {},
   "outputs": [],
   "source": [
    "def reverse_string(s):\n",
    "    \"\"\"\n",
    "    Reverse the input string.\n",
    "\n",
    "    Parameters:\n",
    "    s (str): The string to reverse.\n",
    "\n",
    "    Returns:\n",
    "    str: The reversed string.\n",
    "    \"\"\"\n",
    "    return s[::-1]"
   ]
  },
  {
   "cell_type": "code",
   "execution_count": 23,
   "id": "7e4e7d1e-7cf7-4b2e-97f4-1876514e4d25",
   "metadata": {},
   "outputs": [
    {
     "data": {
      "text/plain": [
       "'avaj'"
      ]
     },
     "execution_count": 23,
     "metadata": {},
     "output_type": "execute_result"
    }
   ],
   "source": [
    "reverse_string(\"java\")"
   ]
  },
  {
   "cell_type": "code",
   "execution_count": 24,
   "id": "6ecdd165-eee5-4ab4-b2ed-5fc550b25fb7",
   "metadata": {},
   "outputs": [],
   "source": [
    "def celsius_to_fahrenheit(celsius):\n",
    "    \"\"\"\n",
    "    Convert Celsius to Fahrenheit.\n",
    "\n",
    "    Parameters:\n",
    "    celsius (float): The temperature in Celsius.\n",
    "\n",
    "    Returns:\n",
    "    float: The temperature in Fahrenheit.\n",
    "    \"\"\"\n",
    "    return (celsius * 9/5) + 32"
   ]
  },
  {
   "cell_type": "code",
   "execution_count": 25,
   "id": "576cb611-727c-4141-a9aa-aef5d0d9be7e",
   "metadata": {},
   "outputs": [
    {
     "data": {
      "text/plain": [
       "96.8"
      ]
     },
     "execution_count": 25,
     "metadata": {},
     "output_type": "execute_result"
    }
   ],
   "source": [
    "celsius_to_fahrenheit(36)"
   ]
  },
  {
   "cell_type": "code",
   "execution_count": 26,
   "id": "98674eba-4a76-469c-b8e7-850d355d94d4",
   "metadata": {},
   "outputs": [],
   "source": [
    "def string_length(s):\n",
    "    \"\"\"\n",
    "    Find the length of a string.\n",
    "\n",
    "    Parameters:\n",
    "    s (str): The string to measure.\n",
    "\n",
    "    Returns:\n",
    "    int: The length of the string.\n",
    "    \"\"\"\n",
    "    length = 0\n",
    "    for _ in s:\n",
    "        length += 1\n",
    "    return length"
   ]
  },
  {
   "cell_type": "code",
   "execution_count": 27,
   "id": "a5ae4058-5406-4074-8daf-a898626fa485",
   "metadata": {},
   "outputs": [
    {
     "data": {
      "text/plain": [
       "28"
      ]
     },
     "execution_count": 27,
     "metadata": {},
     "output_type": "execute_result"
    }
   ],
   "source": [
    "s = \"Find the length of a string.\"\n",
    "string_length(s)"
   ]
  },
  {
   "cell_type": "code",
   "execution_count": 28,
   "id": "2f6a16c4-4c08-4235-87dd-3500cf72c9d9",
   "metadata": {},
   "outputs": [],
   "source": [
    "def count_occurrences(lst, item):\n",
    "    \"\"\"\n",
    "    Count the occurrences of an item in a list.\n",
    "\n",
    "    Parameters:\n",
    "    lst (list): The list to search.\n",
    "    item: The item to count.\n",
    "\n",
    "    Returns:\n",
    "    int: The number of times the item appears in the list.\n",
    "    \"\"\"\n",
    "    count = 0\n",
    "    for element in lst:\n",
    "        if element == item:\n",
    "            count += 1\n",
    "    return count"
   ]
  },
  {
   "cell_type": "code",
   "execution_count": 30,
   "id": "8cd2ce29-67be-477b-9430-0890f85e6102",
   "metadata": {},
   "outputs": [],
   "source": [
    "l1 = [2,3,4,5,1,2,3,2,2,4,4,35,2,5,5,6,7,4,5,]"
   ]
  },
  {
   "cell_type": "code",
   "execution_count": 32,
   "id": "c60a30d4-ab46-49c4-8248-9d9906811932",
   "metadata": {},
   "outputs": [
    {
     "data": {
      "text/plain": [
       "5"
      ]
     },
     "execution_count": 32,
     "metadata": {},
     "output_type": "execute_result"
    }
   ],
   "source": [
    "count_occurrences(l1, 2)"
   ]
  },
  {
   "cell_type": "code",
   "execution_count": 41,
   "id": "59aa86f5-5193-4a79-8cd3-523b645a8bb7",
   "metadata": {},
   "outputs": [],
   "source": [
    "import logging\n",
    "\n",
    "# Set up logging configuration\n",
    "logging.basicConfig(filename=\"logfile2.txt\", level=logging.INFO, format='%(asctime)s - %(levelname)s - %(message)s')"
   ]
  },
  {
   "cell_type": "code",
   "execution_count": 38,
   "id": "301dd7a2-9a3a-4e6a-a84c-c5e148a3753b",
   "metadata": {},
   "outputs": [],
   "source": [
    "def divide_numbers(a, b):\n",
    "    try:\n",
    "        result = a / b\n",
    "        logging.info(f\"Division successful: {a} / {b} = {result}\")\n",
    "        return result\n",
    "    except Exception as e:\n",
    "        print(e)\n",
    "        logging.exception(\"Exception occurred\")\n",
    "    return None    "
   ]
  },
  {
   "cell_type": "code",
   "execution_count": 39,
   "id": "a9e9a42b-ce18-46e0-b411-49f9cd28294b",
   "metadata": {},
   "outputs": [
    {
     "name": "stderr",
     "output_type": "stream",
     "text": [
      "2025-08-29 13:54:13,282 - INFO - Division successful: 3 / 2 = 1.5\n"
     ]
    },
    {
     "data": {
      "text/plain": [
       "1.5"
      ]
     },
     "execution_count": 39,
     "metadata": {},
     "output_type": "execute_result"
    }
   ],
   "source": [
    "divide_numbers(3, 2)"
   ]
  },
  {
   "cell_type": "markdown",
   "id": "5eee0476-be0c-4877-a9b4-07a1c1702273",
   "metadata": {},
   "source": [
    "### list comprehension "
   ]
  },
  {
   "cell_type": "code",
   "execution_count": 63,
   "id": "7270b473-10d4-4e85-8997-c81657fca85f",
   "metadata": {},
   "outputs": [
    {
     "name": "stdout",
     "output_type": "stream",
     "text": [
      "0 0 1 1 2 4 3 9 4 16 5 25 6 36 7 49 8 64 9 81 "
     ]
    }
   ],
   "source": [
    "for i in range(10):\n",
    "    print(i, i**2, end = \" \")"
   ]
  },
  {
   "cell_type": "code",
   "execution_count": 48,
   "id": "427e91e7-75bf-47e3-8249-822e3b4c1a64",
   "metadata": {},
   "outputs": [],
   "source": [
    "l = []\n",
    "for i in range(10):\n",
    "    l.append(i)"
   ]
  },
  {
   "cell_type": "code",
   "execution_count": 49,
   "id": "e26e7776-3357-4863-a3d6-92483f4807ab",
   "metadata": {},
   "outputs": [
    {
     "data": {
      "text/plain": [
       "[0, 1, 2, 3, 4, 5, 6, 7, 8, 9]"
      ]
     },
     "execution_count": 49,
     "metadata": {},
     "output_type": "execute_result"
    }
   ],
   "source": [
    "l"
   ]
  },
  {
   "cell_type": "code",
   "execution_count": 50,
   "id": "a33954a7-21ab-404b-9aba-e8d9ae2f61e0",
   "metadata": {},
   "outputs": [
    {
     "data": {
      "text/plain": [
       "[0, 1, 2, 3, 4, 5, 6, 7, 8, 9]"
      ]
     },
     "execution_count": 50,
     "metadata": {},
     "output_type": "execute_result"
    }
   ],
   "source": [
    "[i for i in range(10)]"
   ]
  },
  {
   "cell_type": "code",
   "execution_count": 51,
   "id": "9b8a591d-4f60-4e75-9b2e-1cfe8d9f0a8a",
   "metadata": {},
   "outputs": [
    {
     "data": {
      "text/plain": [
       "[0, 1, 4, 9, 16, 25, 36, 49, 64, 81]"
      ]
     },
     "execution_count": 51,
     "metadata": {},
     "output_type": "execute_result"
    }
   ],
   "source": [
    "[i**2 for i in range(10)]"
   ]
  },
  {
   "cell_type": "code",
   "execution_count": 53,
   "id": "9b03c21f-3403-4f83-833a-3ec10117c2ea",
   "metadata": {},
   "outputs": [
    {
     "data": {
      "text/plain": [
       "[0, 1, 4, 9, 16, 25, 36, 49, 64, 81]"
      ]
     },
     "execution_count": 53,
     "metadata": {},
     "output_type": "execute_result"
    }
   ],
   "source": [
    "list((i**2 for i in range(10)))"
   ]
  },
  {
   "cell_type": "code",
   "execution_count": 54,
   "id": "e652a682-c19b-44f9-a1fb-40bec5e2851e",
   "metadata": {},
   "outputs": [
    {
     "data": {
      "text/plain": [
       "{0, 1, 4, 9, 16, 25, 36, 49, 64, 81}"
      ]
     },
     "execution_count": 54,
     "metadata": {},
     "output_type": "execute_result"
    }
   ],
   "source": [
    "{i**2 for i in range(10)}"
   ]
  },
  {
   "cell_type": "code",
   "execution_count": 55,
   "id": "5e078e4d-a83a-4016-a2b7-e6c27673833f",
   "metadata": {},
   "outputs": [
    {
     "data": {
      "text/plain": [
       "[2, 3, 4, 5, 1, 2, 3, 2, 2, 4, 4, 35, 2, 5, 5, 6, 7, 4, 5]"
      ]
     },
     "execution_count": 55,
     "metadata": {},
     "output_type": "execute_result"
    }
   ],
   "source": [
    "[i for i in l1]"
   ]
  },
  {
   "cell_type": "code",
   "execution_count": 56,
   "id": "985f65b8-34f3-4435-a5b1-de01b3957e7c",
   "metadata": {},
   "outputs": [],
   "source": [
    "strvar = \"data science\""
   ]
  },
  {
   "cell_type": "code",
   "execution_count": 58,
   "id": "f75358e9-d926-4a49-8865-5f0a4751f8d9",
   "metadata": {},
   "outputs": [
    {
     "name": "stdout",
     "output_type": "stream",
     "text": [
      "d a t a   s c i e n c e "
     ]
    }
   ],
   "source": [
    "for i in strvar:\n",
    "    print(i,end= \" \")"
   ]
  },
  {
   "cell_type": "code",
   "execution_count": 59,
   "id": "f2e810d6-35de-49db-89ee-c2a98f0b9326",
   "metadata": {},
   "outputs": [
    {
     "data": {
      "text/plain": [
       "['d', 'a', 't', 'a', ' ', 's', 'c', 'i', 'e', 'n', 'c', 'e']"
      ]
     },
     "execution_count": 59,
     "metadata": {},
     "output_type": "execute_result"
    }
   ],
   "source": [
    "[i for i in strvar]"
   ]
  },
  {
   "cell_type": "code",
   "execution_count": 60,
   "id": "7c86c844-e859-4a37-9800-5637e1eca3e8",
   "metadata": {},
   "outputs": [
    {
     "data": {
      "text/plain": [
       "{' ', 'a', 'c', 'd', 'e', 'i', 'n', 's', 't'}"
      ]
     },
     "execution_count": 60,
     "metadata": {},
     "output_type": "execute_result"
    }
   ],
   "source": [
    "{i for i in strvar}"
   ]
  },
  {
   "cell_type": "code",
   "execution_count": 62,
   "id": "19313567-128f-4a12-a157-a3c4813cbf0b",
   "metadata": {},
   "outputs": [
    {
     "data": {
      "text/plain": [
       "[(int, 0),\n",
       " (int, 1),\n",
       " (int, 2),\n",
       " (int, 3),\n",
       " (int, 4),\n",
       " (int, 5),\n",
       " (int, 6),\n",
       " (int, 7),\n",
       " (int, 8),\n",
       " (int, 9)]"
      ]
     },
     "execution_count": 62,
     "metadata": {},
     "output_type": "execute_result"
    }
   ],
   "source": [
    "[(type(i), i) for i in l]"
   ]
  },
  {
   "cell_type": "code",
   "execution_count": 64,
   "id": "76e25e9f-7c90-4ded-bef0-8c6066d236d4",
   "metadata": {},
   "outputs": [
    {
     "ename": "SyntaxError",
     "evalue": "invalid syntax. Perhaps you forgot a comma? (1290233809.py, line 1)",
     "output_type": "error",
     "traceback": [
      "\u001b[1;36m  Cell \u001b[1;32mIn[64], line 1\u001b[1;36m\u001b[0m\n\u001b[1;33m    [type(i) i for i in l]\u001b[0m\n\u001b[1;37m     ^\u001b[0m\n\u001b[1;31mSyntaxError\u001b[0m\u001b[1;31m:\u001b[0m invalid syntax. Perhaps you forgot a comma?\n"
     ]
    }
   ],
   "source": [
    "[type(i) i for i in l]"
   ]
  },
  {
   "cell_type": "code",
   "execution_count": 67,
   "id": "fdc52246-2771-4f06-a2f9-deccd774ad94",
   "metadata": {},
   "outputs": [],
   "source": [
    "d= [{type(i), i } for i in l]"
   ]
  },
  {
   "cell_type": "code",
   "execution_count": 68,
   "id": "ad3b218b-f5f9-43db-9a2d-c9ecd28b5979",
   "metadata": {},
   "outputs": [
    {
     "data": {
      "text/plain": [
       "{0: int, int: 9, 8: int}"
      ]
     },
     "execution_count": 68,
     "metadata": {},
     "output_type": "execute_result"
    }
   ],
   "source": [
    "dict(d)"
   ]
  },
  {
   "cell_type": "code",
   "execution_count": 69,
   "id": "d0269f71-3d5f-418c-a5f7-bbe80dd2407b",
   "metadata": {},
   "outputs": [
    {
     "name": "stdout",
     "output_type": "stream",
     "text": [
      "0 d\n",
      "1 a\n",
      "2 t\n",
      "3 a\n",
      "4  \n",
      "5 s\n",
      "6 c\n",
      "7 i\n",
      "8 e\n",
      "9 n\n",
      "10 c\n",
      "11 e\n"
     ]
    }
   ],
   "source": [
    "for i,j in enumerate(strvar):\n",
    "    print(i,j)"
   ]
  },
  {
   "cell_type": "code",
   "execution_count": 71,
   "id": "3f1b2379-949d-4776-935e-b254f6fc8abe",
   "metadata": {},
   "outputs": [],
   "source": [
    "d= [{i, j} for i,j in enumerate(strvar)]"
   ]
  },
  {
   "cell_type": "code",
   "execution_count": 72,
   "id": "12b49354-5771-4505-b24d-397b2ed70b1a",
   "metadata": {},
   "outputs": [
    {
     "data": {
      "text/plain": [
       "[{0, 'd'},\n",
       " {1, 'a'},\n",
       " {2, 't'},\n",
       " {3, 'a'},\n",
       " {' ', 4},\n",
       " {5, 's'},\n",
       " {6, 'c'},\n",
       " {7, 'i'},\n",
       " {8, 'e'},\n",
       " {9, 'n'},\n",
       " {10, 'c'},\n",
       " {11, 'e'}]"
      ]
     },
     "execution_count": 72,
     "metadata": {},
     "output_type": "execute_result"
    }
   ],
   "source": [
    "d"
   ]
  },
  {
   "cell_type": "code",
   "execution_count": 73,
   "id": "31800566-d607-4929-88e2-b905d71735b6",
   "metadata": {},
   "outputs": [
    {
     "data": {
      "text/plain": [
       "{0: 'd',\n",
       " 1: 'a',\n",
       " 2: 't',\n",
       " 3: 'a',\n",
       " ' ': 4,\n",
       " 's': 5,\n",
       " 6: 'c',\n",
       " 'i': 7,\n",
       " 8: 'e',\n",
       " 'n': 9,\n",
       " 10: 'c',\n",
       " 'e': 11}"
      ]
     },
     "execution_count": 73,
     "metadata": {},
     "output_type": "execute_result"
    }
   ],
   "source": [
    "dict(d)"
   ]
  },
  {
   "cell_type": "code",
   "execution_count": 74,
   "id": "18742624-a8f8-4255-b333-b66e17786e53",
   "metadata": {},
   "outputs": [
    {
     "name": "stdout",
     "output_type": "stream",
     "text": [
      "[0, 2, 4, 6, 8, 10]\n"
     ]
    }
   ],
   "source": [
    "list = [i for i in range(11) if i % 2 == 0]\n",
    "print(list)"
   ]
  },
  {
   "cell_type": "code",
   "execution_count": 75,
   "id": "e9774e68-0e3c-4de3-bf9f-5973dccae4ef",
   "metadata": {},
   "outputs": [
    {
     "name": "stdout",
     "output_type": "stream",
     "text": [
      "[[0, 1, 2, 3], [0, 1, 2, 3], [0, 1, 2, 3], [0, 1, 2, 3]]\n"
     ]
    }
   ],
   "source": [
    "matrix = [[j for j in range(4)] for i in range(4)]\n",
    "\n",
    "print(matrix)"
   ]
  },
  {
   "cell_type": "code",
   "execution_count": 77,
   "id": "23750ca7-0f9a-4264-8b47-e66a53d11c91",
   "metadata": {},
   "outputs": [
    {
     "name": "stdout",
     "output_type": "stream",
     "text": [
      "['Even number', 'Odd number', 'Even number', 'Odd number', 'Even number', 'Odd number', 'Even number']\n"
     ]
    }
   ],
   "source": [
    "lis = [\"Even number\" if i % 2 == 0 else \"Odd number\" for i in range(7)]\n",
    "print(lis)"
   ]
  },
  {
   "cell_type": "code",
   "execution_count": 78,
   "id": "83fae1ba-b363-45ac-bbfb-33ae10b2d943",
   "metadata": {},
   "outputs": [
    {
     "name": "stdout",
     "output_type": "stream",
     "text": [
      "[0, 15, 30, 45, 60, 75, 90]\n"
     ]
    }
   ],
   "source": [
    "lis = [i for i in range(100)  if i % 5 == 0 if i % 3 == 0]\n",
    "print(lis)"
   ]
  },
  {
   "cell_type": "markdown",
   "id": "1f48b271-56ff-43a4-b2c3-aac666eb4a30",
   "metadata": {},
   "source": [
    "## Lambda function"
   ]
  },
  {
   "cell_type": "code",
   "execution_count": 81,
   "id": "2e14636b-4552-41bd-9790-7d23803b47ba",
   "metadata": {},
   "outputs": [],
   "source": [
    "a = lambda var : var*2"
   ]
  },
  {
   "cell_type": "code",
   "execution_count": 82,
   "id": "b7bd649e-d457-4002-9501-d3eea2952b14",
   "metadata": {},
   "outputs": [
    {
     "data": {
      "text/plain": [
       "12"
      ]
     },
     "execution_count": 82,
     "metadata": {},
     "output_type": "execute_result"
    }
   ],
   "source": [
    "a(6)"
   ]
  },
  {
   "cell_type": "code",
   "execution_count": 83,
   "id": "57be1f6a-239c-43b7-bc06-c56fb61596e2",
   "metadata": {},
   "outputs": [],
   "source": [
    "b = lambda var : var*2"
   ]
  },
  {
   "cell_type": "code",
   "execution_count": 84,
   "id": "9a504b50-99b8-4102-953a-463f9bc750b7",
   "metadata": {},
   "outputs": [
    {
     "data": {
      "text/plain": [
       "14"
      ]
     },
     "execution_count": 84,
     "metadata": {},
     "output_type": "execute_result"
    }
   ],
   "source": [
    "b(7)"
   ]
  },
  {
   "cell_type": "code",
   "execution_count": 85,
   "id": "002a43d4-9ed8-4621-ae9a-39e64599cfee",
   "metadata": {},
   "outputs": [],
   "source": [
    "str1 = 'python is a data science language'\n",
    "\n",
    "upper = lambda string_var: string_var.upper()"
   ]
  },
  {
   "cell_type": "code",
   "execution_count": 86,
   "id": "db818e31-ecf3-41e4-b746-f38bb3deaffa",
   "metadata": {},
   "outputs": [
    {
     "data": {
      "text/plain": [
       "'PYTHON'"
      ]
     },
     "execution_count": 86,
     "metadata": {},
     "output_type": "execute_result"
    }
   ],
   "source": [
    "upper(\"python\")"
   ]
  },
  {
   "cell_type": "code",
   "execution_count": 87,
   "id": "ee306d0c-4346-47cf-a7c0-b64536d8c7f6",
   "metadata": {},
   "outputs": [],
   "source": [
    "is_even_list = [lambda arg=x: arg * 10 for x in range(1, 5)]"
   ]
  },
  {
   "cell_type": "code",
   "execution_count": 88,
   "id": "a9c80907-3e3b-429a-9060-2fe506c6895b",
   "metadata": {},
   "outputs": [
    {
     "data": {
      "text/plain": [
       "[<function __main__.<listcomp>.<lambda>(arg=1)>,\n",
       " <function __main__.<listcomp>.<lambda>(arg=2)>,\n",
       " <function __main__.<listcomp>.<lambda>(arg=3)>,\n",
       " <function __main__.<listcomp>.<lambda>(arg=4)>]"
      ]
     },
     "execution_count": 88,
     "metadata": {},
     "output_type": "execute_result"
    }
   ],
   "source": [
    "is_even_list"
   ]
  },
  {
   "cell_type": "code",
   "execution_count": 90,
   "id": "d9c443fe-8218-4f3f-8f71-cd35b9fee5a2",
   "metadata": {},
   "outputs": [
    {
     "name": "stdout",
     "output_type": "stream",
     "text": [
      "10\n",
      "20\n",
      "30\n",
      "40\n"
     ]
    }
   ],
   "source": [
    "for item in is_even_list:\n",
    "    print(item())"
   ]
  },
  {
   "cell_type": "code",
   "execution_count": 91,
   "id": "34ab6dab-4c44-4a6c-ab51-57c2f8e2cb81",
   "metadata": {},
   "outputs": [],
   "source": [
    "Max = lambda a, b : a if(a > b) else b"
   ]
  },
  {
   "cell_type": "code",
   "execution_count": 92,
   "id": "e5f02a6c-a536-4ac2-908e-f2dd0bbb8caf",
   "metadata": {},
   "outputs": [
    {
     "data": {
      "text/plain": [
       "6"
      ]
     },
     "execution_count": 92,
     "metadata": {},
     "output_type": "execute_result"
    }
   ],
   "source": [
    "Max(5, 6)"
   ]
  },
  {
   "cell_type": "code",
   "execution_count": 93,
   "id": "c11f6882-b87d-4be7-b163-42bc1c8a9443",
   "metadata": {},
   "outputs": [],
   "source": [
    "List = [[2,13,4],[1, 84, 16, 64],[30, 66, 9, 12]]\n",
    "\n",
    "sortList = lambda x: (sorted(i) for i in x)"
   ]
  },
  {
   "cell_type": "code",
   "execution_count": 97,
   "id": "8463bf79-4d0d-4897-82b0-9e7c840a3dbd",
   "metadata": {},
   "outputs": [],
   "source": [
    "l_var = (sortList(List))"
   ]
  },
  {
   "cell_type": "code",
   "execution_count": 98,
   "id": "662fb51f-ae9d-4b37-866f-179f7d61d143",
   "metadata": {},
   "outputs": [
    {
     "name": "stdout",
     "output_type": "stream",
     "text": [
      "[2, 4, 13]\n",
      "[1, 16, 64, 84]\n",
      "[9, 12, 30, 66]\n"
     ]
    }
   ],
   "source": [
    "for i in l_var:\n",
    "    print(i)"
   ]
  },
  {
   "cell_type": "code",
   "execution_count": 99,
   "id": "e3c56fa0-d5e0-452e-a879-ca9b58ab7294",
   "metadata": {},
   "outputs": [
    {
     "data": {
      "text/plain": [
       "[[2, 4, 13], [1, 16, 64, 84], [9, 12, 30, 66]]"
      ]
     },
     "execution_count": 99,
     "metadata": {},
     "output_type": "execute_result"
    }
   ],
   "source": [
    "[sorted(i) for i in List]"
   ]
  },
  {
   "cell_type": "code",
   "execution_count": 100,
   "id": "aac9870b-a37a-4254-8d9a-5cad862c59dc",
   "metadata": {},
   "outputs": [
    {
     "data": {
      "text/plain": [
       "[[13, 4, 2], [84, 64, 16, 1], [66, 30, 12, 9]]"
      ]
     },
     "execution_count": 100,
     "metadata": {},
     "output_type": "execute_result"
    }
   ],
   "source": [
    "[sorted(i,reverse=True) for i in List]"
   ]
  },
  {
   "cell_type": "code",
   "execution_count": null,
   "id": "af45e5ea-8438-4248-8bd8-a97bf41c097d",
   "metadata": {},
   "outputs": [],
   "source": []
  }
 ],
 "metadata": {
  "kernelspec": {
   "display_name": "Python 3 (ipykernel)",
   "language": "python",
   "name": "python3"
  },
  "language_info": {
   "codemirror_mode": {
    "name": "ipython",
    "version": 3
   },
   "file_extension": ".py",
   "mimetype": "text/x-python",
   "name": "python",
   "nbconvert_exporter": "python",
   "pygments_lexer": "ipython3",
   "version": "3.11.7"
  }
 },
 "nbformat": 4,
 "nbformat_minor": 5
}
