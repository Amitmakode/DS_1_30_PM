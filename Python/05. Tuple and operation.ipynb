{
 "cells": [
  {
   "cell_type": "markdown",
   "id": "18287666-9588-4d2e-a29e-b7330b030eba",
   "metadata": {},
   "source": [
    "### Tuple"
   ]
  },
  {
   "cell_type": "code",
   "execution_count": 1,
   "id": "450a7a5f-d791-4a22-9e6b-7d79c884d435",
   "metadata": {},
   "outputs": [],
   "source": [
    "tup = (1,2,3,4,4,5)"
   ]
  },
  {
   "cell_type": "code",
   "execution_count": 2,
   "id": "3e81ea6c-68a1-4abf-a7d1-29f2c7b5f6d3",
   "metadata": {},
   "outputs": [
    {
     "data": {
      "text/plain": [
       "3"
      ]
     },
     "execution_count": 2,
     "metadata": {},
     "output_type": "execute_result"
    }
   ],
   "source": [
    "tup[2]"
   ]
  },
  {
   "cell_type": "code",
   "execution_count": 3,
   "id": "9c11722d-a794-4618-bc28-8c893fd77a57",
   "metadata": {},
   "outputs": [
    {
     "data": {
      "text/plain": [
       "4"
      ]
     },
     "execution_count": 3,
     "metadata": {},
     "output_type": "execute_result"
    }
   ],
   "source": [
    "tup[-3]"
   ]
  },
  {
   "cell_type": "code",
   "execution_count": 5,
   "id": "535cd453-9005-464e-b98c-faafd2e5e140",
   "metadata": {},
   "outputs": [
    {
     "data": {
      "text/plain": [
       "(4, 4, 5)"
      ]
     },
     "execution_count": 5,
     "metadata": {},
     "output_type": "execute_result"
    }
   ],
   "source": [
    "tup[3:]"
   ]
  },
  {
   "cell_type": "code",
   "execution_count": 6,
   "id": "d9628411-52bd-4efc-8c36-1576dfe22de9",
   "metadata": {},
   "outputs": [
    {
     "data": {
      "text/plain": [
       "(2, 3, 4)"
      ]
     },
     "execution_count": 6,
     "metadata": {},
     "output_type": "execute_result"
    }
   ],
   "source": [
    "tup[1:4]"
   ]
  },
  {
   "cell_type": "code",
   "execution_count": 7,
   "id": "e71963e7-8c03-470b-a585-bc19fb20c639",
   "metadata": {},
   "outputs": [
    {
     "data": {
      "text/plain": [
       "(5, 4, 4, 3, 2, 1)"
      ]
     },
     "execution_count": 7,
     "metadata": {},
     "output_type": "execute_result"
    }
   ],
   "source": [
    "tup[::-1]"
   ]
  },
  {
   "cell_type": "code",
   "execution_count": 8,
   "id": "321dcfb5-dd49-4d2b-a736-96b2d19d743e",
   "metadata": {},
   "outputs": [
    {
     "data": {
      "text/plain": [
       "(1, 2, 3, 4, 4, 5, 1, 2, 3, 4, 4, 5)"
      ]
     },
     "execution_count": 8,
     "metadata": {},
     "output_type": "execute_result"
    }
   ],
   "source": [
    "tup + tup"
   ]
  },
  {
   "cell_type": "code",
   "execution_count": 9,
   "id": "24de9b79-1adb-4b91-a0c4-03d0a22893df",
   "metadata": {},
   "outputs": [
    {
     "data": {
      "text/plain": [
       "(1, 2, 3, 4, 4, 5, 1, 2, 3, 4, 4, 5, 1, 2, 3, 4, 4, 5)"
      ]
     },
     "execution_count": 9,
     "metadata": {},
     "output_type": "execute_result"
    }
   ],
   "source": [
    "tup * 3"
   ]
  },
  {
   "cell_type": "code",
   "execution_count": 11,
   "id": "bc080d57-a8f2-44ee-96b5-f4b83930c651",
   "metadata": {},
   "outputs": [
    {
     "ename": "TypeError",
     "evalue": "'tuple' object does not support item assignment",
     "output_type": "error",
     "traceback": [
      "\u001b[1;31m---------------------------------------------------------------------------\u001b[0m",
      "\u001b[1;31mTypeError\u001b[0m                                 Traceback (most recent call last)",
      "Cell \u001b[1;32mIn[11], line 1\u001b[0m\n\u001b[1;32m----> 1\u001b[0m tup[\u001b[38;5;241m2\u001b[39m] \u001b[38;5;241m=\u001b[39m \u001b[38;5;241m33\u001b[39m\n",
      "\u001b[1;31mTypeError\u001b[0m: 'tuple' object does not support item assignment"
     ]
    }
   ],
   "source": [
    "tup[2] = 33"
   ]
  },
  {
   "cell_type": "code",
   "execution_count": 12,
   "id": "e1bc742d-e800-4cc7-b374-5a459ee1c8a0",
   "metadata": {},
   "outputs": [
    {
     "data": {
      "text/plain": [
       "2"
      ]
     },
     "execution_count": 12,
     "metadata": {},
     "output_type": "execute_result"
    }
   ],
   "source": [
    "tup.count(4)"
   ]
  },
  {
   "cell_type": "code",
   "execution_count": 13,
   "id": "3ee5a5b1-bb10-4530-86ac-63a0ceadfaf9",
   "metadata": {},
   "outputs": [
    {
     "data": {
      "text/plain": [
       "1"
      ]
     },
     "execution_count": 13,
     "metadata": {},
     "output_type": "execute_result"
    }
   ],
   "source": [
    "tup.count(1)"
   ]
  },
  {
   "cell_type": "code",
   "execution_count": 14,
   "id": "30fa2199-6e28-41fb-a0da-39a57aebd72f",
   "metadata": {},
   "outputs": [
    {
     "data": {
      "text/plain": [
       "2"
      ]
     },
     "execution_count": 14,
     "metadata": {},
     "output_type": "execute_result"
    }
   ],
   "source": [
    "tup.index(3)"
   ]
  },
  {
   "cell_type": "code",
   "execution_count": 15,
   "id": "21c0559f-b1df-4ef0-bb2a-8ec4f938d8b6",
   "metadata": {},
   "outputs": [
    {
     "data": {
      "text/plain": [
       "5"
      ]
     },
     "execution_count": 15,
     "metadata": {},
     "output_type": "execute_result"
    }
   ],
   "source": [
    "tup.index(5)"
   ]
  },
  {
   "cell_type": "code",
   "execution_count": null,
   "id": "4a82d4cd-d620-421d-973e-680c3688adc7",
   "metadata": {},
   "outputs": [],
   "source": []
  }
 ],
 "metadata": {
  "kernelspec": {
   "display_name": "Python 3 (ipykernel)",
   "language": "python",
   "name": "python3"
  },
  "language_info": {
   "codemirror_mode": {
    "name": "ipython",
    "version": 3
   },
   "file_extension": ".py",
   "mimetype": "text/x-python",
   "name": "python",
   "nbconvert_exporter": "python",
   "pygments_lexer": "ipython3",
   "version": "3.11.7"
  }
 },
 "nbformat": 4,
 "nbformat_minor": 5
}
