{
 "cells": [
  {
   "cell_type": "code",
   "execution_count": 1,
   "id": "9a112131-44b6-47cf-a453-6009d3237c77",
   "metadata": {},
   "outputs": [],
   "source": [
    "def add_number(a):\n",
    "    return a+5"
   ]
  },
  {
   "cell_type": "code",
   "execution_count": 2,
   "id": "79da8383-2f85-408a-8616-4d55816624e2",
   "metadata": {},
   "outputs": [
    {
     "data": {
      "text/plain": [
       "15"
      ]
     },
     "execution_count": 2,
     "metadata": {},
     "output_type": "execute_result"
    }
   ],
   "source": [
    "add_number(10)"
   ]
  },
  {
   "cell_type": "code",
   "execution_count": 5,
   "id": "de6b616b-6fce-4e07-8b78-39256afd8f28",
   "metadata": {},
   "outputs": [
    {
     "ename": "TypeError",
     "evalue": "add_number() missing 1 required positional argument: 'a'",
     "output_type": "error",
     "traceback": [
      "\u001b[1;31m---------------------------------------------------------------------------\u001b[0m",
      "\u001b[1;31mTypeError\u001b[0m                                 Traceback (most recent call last)",
      "Cell \u001b[1;32mIn[5], line 1\u001b[0m\n\u001b[1;32m----> 1\u001b[0m add_number()\n",
      "\u001b[1;31mTypeError\u001b[0m: add_number() missing 1 required positional argument: 'a'"
     ]
    }
   ],
   "source": [
    "add_number()"
   ]
  },
  {
   "cell_type": "code",
   "execution_count": 3,
   "id": "46781cc6-4fb8-48e3-92b4-ebb94fad18b3",
   "metadata": {},
   "outputs": [
    {
     "ename": "SyntaxError",
     "evalue": "incomplete input (28985287.py, line 2)",
     "output_type": "error",
     "traceback": [
      "\u001b[1;36m  Cell \u001b[1;32mIn[3], line 2\u001b[1;36m\u001b[0m\n\u001b[1;33m    \u001b[0m\n\u001b[1;37m    ^\u001b[0m\n\u001b[1;31mSyntaxError\u001b[0m\u001b[1;31m:\u001b[0m incomplete input\n"
     ]
    }
   ],
   "source": [
    "def text(var):\n",
    "    "
   ]
  },
  {
   "cell_type": "code",
   "execution_count": 4,
   "id": "6e8b35b0-f504-4914-8e2d-afbfb6dc86a8",
   "metadata": {},
   "outputs": [],
   "source": [
    "def text(var):\n",
    "    pass"
   ]
  },
  {
   "cell_type": "markdown",
   "id": "27152f0c-7e9f-4956-bb2a-9787d56a2961",
   "metadata": {},
   "source": [
    "### Arguments"
   ]
  },
  {
   "cell_type": "code",
   "execution_count": null,
   "id": "9c8d2c5a-b08d-43d2-b50a-31dd5f164ae9",
   "metadata": {},
   "outputs": [],
   "source": [
    "*args      - non keyword arguments\n",
    "**kwargs   -  key word arguments\n",
    "positional -  positional argument"
   ]
  },
  {
   "cell_type": "code",
   "execution_count": 12,
   "id": "6d9775de-e665-4d52-ba9a-152d5f05e60e",
   "metadata": {},
   "outputs": [
    {
     "name": "stdout",
     "output_type": "stream",
     "text": [
      "\n"
     ]
    }
   ],
   "source": [
    "print()"
   ]
  },
  {
   "cell_type": "code",
   "execution_count": 13,
   "id": "2b6716cb-db3c-4f9f-9148-7018e204d479",
   "metadata": {},
   "outputs": [
    {
     "ename": "TypeError",
     "evalue": "len() takes exactly one argument (2 given)",
     "output_type": "error",
     "traceback": [
      "\u001b[1;31m---------------------------------------------------------------------------\u001b[0m",
      "\u001b[1;31mTypeError\u001b[0m                                 Traceback (most recent call last)",
      "Cell \u001b[1;32mIn[13], line 1\u001b[0m\n\u001b[1;32m----> 1\u001b[0m \u001b[38;5;28mlen\u001b[39m(\u001b[38;5;124m\"\u001b[39m\u001b[38;5;124mamit\u001b[39m\u001b[38;5;124m\"\u001b[39m, \u001b[38;5;124m\"\u001b[39m\u001b[38;5;124mds\u001b[39m\u001b[38;5;124m\"\u001b[39m)\n",
      "\u001b[1;31mTypeError\u001b[0m: len() takes exactly one argument (2 given)"
     ]
    }
   ],
   "source": [
    "len(\"amit\", \"ds\")"
   ]
  },
  {
   "cell_type": "code",
   "execution_count": 14,
   "id": "286029ca-efaf-4d39-85d6-63341c71067f",
   "metadata": {},
   "outputs": [],
   "source": [
    "def fun1(a,b):\n",
    "    c = a*b\n",
    "    return c"
   ]
  },
  {
   "cell_type": "code",
   "execution_count": 16,
   "id": "0b4c87e7-d532-4f57-8a96-8442419a81f7",
   "metadata": {},
   "outputs": [
    {
     "ename": "TypeError",
     "evalue": "fun1() missing 1 required positional argument: 'b'",
     "output_type": "error",
     "traceback": [
      "\u001b[1;31m---------------------------------------------------------------------------\u001b[0m",
      "\u001b[1;31mTypeError\u001b[0m                                 Traceback (most recent call last)",
      "Cell \u001b[1;32mIn[16], line 1\u001b[0m\n\u001b[1;32m----> 1\u001b[0m fun1(\u001b[38;5;241m10\u001b[39m)\n",
      "\u001b[1;31mTypeError\u001b[0m: fun1() missing 1 required positional argument: 'b'"
     ]
    }
   ],
   "source": [
    "fun1(10)"
   ]
  },
  {
   "cell_type": "code",
   "execution_count": 17,
   "id": "255e50a2-86c4-4f84-84c4-bb813e3d6737",
   "metadata": {},
   "outputs": [],
   "source": [
    "def fun1():\n",
    "    c = 10*2\n",
    "    return c"
   ]
  },
  {
   "cell_type": "code",
   "execution_count": 18,
   "id": "53042a39-f2e6-4285-8069-c7a36047033e",
   "metadata": {},
   "outputs": [
    {
     "data": {
      "text/plain": [
       "20"
      ]
     },
     "execution_count": 18,
     "metadata": {},
     "output_type": "execute_result"
    }
   ],
   "source": [
    "fun1()"
   ]
  },
  {
   "cell_type": "code",
   "execution_count": 19,
   "id": "5cda6375-c939-47fe-81ed-27e98bf51728",
   "metadata": {},
   "outputs": [],
   "source": [
    "def fun2(*args):\n",
    "    return args"
   ]
  },
  {
   "cell_type": "code",
   "execution_count": 20,
   "id": "270bb36e-7d48-4613-a490-79f7d12996f5",
   "metadata": {},
   "outputs": [
    {
     "data": {
      "text/plain": [
       "(10,)"
      ]
     },
     "execution_count": 20,
     "metadata": {},
     "output_type": "execute_result"
    }
   ],
   "source": [
    "fun2(10)"
   ]
  },
  {
   "cell_type": "code",
   "execution_count": 21,
   "id": "6b492d3c-79af-4498-9807-aced3dd0d651",
   "metadata": {},
   "outputs": [
    {
     "data": {
      "text/plain": [
       "()"
      ]
     },
     "execution_count": 21,
     "metadata": {},
     "output_type": "execute_result"
    }
   ],
   "source": [
    "fun2()"
   ]
  },
  {
   "cell_type": "code",
   "execution_count": 22,
   "id": "ba33c16b-9cc3-4327-b636-5b6d4108e505",
   "metadata": {},
   "outputs": [
    {
     "data": {
      "text/plain": [
       "(10, 'amit', 'py')"
      ]
     },
     "execution_count": 22,
     "metadata": {},
     "output_type": "execute_result"
    }
   ],
   "source": [
    "fun2(10, \"amit\", \"py\")"
   ]
  },
  {
   "cell_type": "code",
   "execution_count": 26,
   "id": "e4c1acf8-0f35-42a1-ae37-779c515e78f3",
   "metadata": {},
   "outputs": [],
   "source": [
    "def fun3(**kwargs):\n",
    "    return kwargs"
   ]
  },
  {
   "cell_type": "code",
   "execution_count": 27,
   "id": "42b5bc46-8c8b-416b-aec9-e8f1203f8a5f",
   "metadata": {},
   "outputs": [
    {
     "ename": "TypeError",
     "evalue": "fun3() takes 0 positional arguments but 1 was given",
     "output_type": "error",
     "traceback": [
      "\u001b[1;31m---------------------------------------------------------------------------\u001b[0m",
      "\u001b[1;31mTypeError\u001b[0m                                 Traceback (most recent call last)",
      "Cell \u001b[1;32mIn[27], line 1\u001b[0m\n\u001b[1;32m----> 1\u001b[0m fun3(\u001b[38;5;241m10\u001b[39m)\n",
      "\u001b[1;31mTypeError\u001b[0m: fun3() takes 0 positional arguments but 1 was given"
     ]
    }
   ],
   "source": [
    "fun3(10)"
   ]
  },
  {
   "cell_type": "code",
   "execution_count": 28,
   "id": "1a7ff7d2-c761-4e54-95eb-08df0f5fdf48",
   "metadata": {},
   "outputs": [
    {
     "data": {
      "text/plain": [
       "{'a': 10, 'b': 20}"
      ]
     },
     "execution_count": 28,
     "metadata": {},
     "output_type": "execute_result"
    }
   ],
   "source": [
    "fun3(a = 10, b = 20)"
   ]
  },
  {
   "cell_type": "code",
   "execution_count": 29,
   "id": "d6054a61-f032-4d27-b0e7-06741c930a1b",
   "metadata": {},
   "outputs": [
    {
     "data": {
      "text/plain": [
       "{}"
      ]
     },
     "execution_count": 29,
     "metadata": {},
     "output_type": "execute_result"
    }
   ],
   "source": [
    "fun3()"
   ]
  },
  {
   "cell_type": "code",
   "execution_count": 30,
   "id": "2bd3bb91-eb6e-439f-9365-e47e8da73519",
   "metadata": {},
   "outputs": [],
   "source": [
    "def fun4(a, b):\n",
    "    print(a**2, b)"
   ]
  },
  {
   "cell_type": "code",
   "execution_count": 32,
   "id": "c3883d7f-58ab-412d-a2f5-b085714a1a12",
   "metadata": {},
   "outputs": [
    {
     "name": "stdout",
     "output_type": "stream",
     "text": [
      "100 20\n"
     ]
    }
   ],
   "source": [
    "fun4(10, 20)"
   ]
  },
  {
   "cell_type": "code",
   "execution_count": 33,
   "id": "cc7fece0-8e90-4d0c-a44f-7eabc6fadc72",
   "metadata": {},
   "outputs": [
    {
     "ename": "SyntaxError",
     "evalue": "arguments cannot follow var-keyword argument (747734572.py, line 1)",
     "output_type": "error",
     "traceback": [
      "\u001b[1;36m  Cell \u001b[1;32mIn[33], line 1\u001b[1;36m\u001b[0m\n\u001b[1;33m    def fun5(*a, **b, c):\u001b[0m\n\u001b[1;37m                      ^\u001b[0m\n\u001b[1;31mSyntaxError\u001b[0m\u001b[1;31m:\u001b[0m arguments cannot follow var-keyword argument\n"
     ]
    }
   ],
   "source": [
    "def fun5(*a, **b, c):\n",
    "    return a, b, c"
   ]
  },
  {
   "cell_type": "code",
   "execution_count": 34,
   "id": "ccaead7e-9fe7-44bd-b3f7-63b912332588",
   "metadata": {},
   "outputs": [],
   "source": [
    "def fun5(*a, c, **b):\n",
    "    return a, b, c"
   ]
  },
  {
   "cell_type": "code",
   "execution_count": 35,
   "id": "e1f9f7ac-7154-413e-b395-91175af52068",
   "metadata": {},
   "outputs": [
    {
     "data": {
      "text/plain": [
       "((10, 20), {}, 30)"
      ]
     },
     "execution_count": 35,
     "metadata": {},
     "output_type": "execute_result"
    }
   ],
   "source": [
    "fun5(10, 20, c = 30)"
   ]
  },
  {
   "cell_type": "code",
   "execution_count": 36,
   "id": "fb04681e-96f6-48c7-90b5-c4cf1aee743c",
   "metadata": {},
   "outputs": [
    {
     "ename": "TypeError",
     "evalue": "fun5() missing 1 required keyword-only argument: 'c'",
     "output_type": "error",
     "traceback": [
      "\u001b[1;31m---------------------------------------------------------------------------\u001b[0m",
      "\u001b[1;31mTypeError\u001b[0m                                 Traceback (most recent call last)",
      "Cell \u001b[1;32mIn[36], line 1\u001b[0m\n\u001b[1;32m----> 1\u001b[0m fun5(\u001b[38;5;241m10\u001b[39m, \u001b[38;5;241m20\u001b[39m, b \u001b[38;5;241m=\u001b[39m \u001b[38;5;241m30\u001b[39m)\n",
      "\u001b[1;31mTypeError\u001b[0m: fun5() missing 1 required keyword-only argument: 'c'"
     ]
    }
   ],
   "source": [
    "fun5(10, 20, b = 30)"
   ]
  },
  {
   "cell_type": "code",
   "execution_count": 37,
   "id": "4a8957a7-9f74-489d-8143-3b8f1cdef2f1",
   "metadata": {},
   "outputs": [],
   "source": [
    "def fun6(a, *b, **c):\n",
    "    return a, b, c"
   ]
  },
  {
   "cell_type": "code",
   "execution_count": 40,
   "id": "dd8bb2e6-873f-4e6c-b3cd-4b24e259954e",
   "metadata": {},
   "outputs": [
    {
     "data": {
      "text/plain": [
       "(10, (20,), {'f': 30})"
      ]
     },
     "execution_count": 40,
     "metadata": {},
     "output_type": "execute_result"
    }
   ],
   "source": [
    "fun6(10, 20, f = 30)"
   ]
  },
  {
   "cell_type": "code",
   "execution_count": 47,
   "id": "65739866-0759-470c-a62f-106c4ed78a84",
   "metadata": {},
   "outputs": [],
   "source": [
    "def fun7(radius):\n",
    "    \"\"\"this is my first function\n",
    "    it will calcualte area of circle\n",
    "    need to pass radius in cm only\n",
    "    \"\"\"\n",
    "    import math\n",
    "    area = math.pi*radius**2\n",
    "    return f\"area of the circle in the cmsquare {area} cmsqr\"\n",
    "    "
   ]
  },
  {
   "cell_type": "code",
   "execution_count": 48,
   "id": "cec84e5a-6260-4302-a9a4-1a488fb0efdc",
   "metadata": {},
   "outputs": [
    {
     "data": {
      "text/plain": [
       "'area of the circle in the cmsquare 1256.6370614359173 cmsqr'"
      ]
     },
     "execution_count": 48,
     "metadata": {},
     "output_type": "execute_result"
    }
   ],
   "source": [
    "fun7(20)"
   ]
  },
  {
   "cell_type": "code",
   "execution_count": null,
   "id": "48098b33-c1ed-4d52-a5a7-02798134cbdb",
   "metadata": {},
   "outputs": [],
   "source": [
    "fun7"
   ]
  },
  {
   "cell_type": "code",
   "execution_count": 49,
   "id": "d43e47f7-b513-4350-a46d-1b8f129eea14",
   "metadata": {},
   "outputs": [],
   "source": [
    "def cicle(radius):\n",
    "    \"\"\"this is my first function\n",
    "    it will calcualte parameter of circle\n",
    "    need to pass radius in cm only\n",
    "    \"\"\"\n",
    "    area =  2*3.14*radius\n",
    "    return f\"parameter of the circle in the cmsquare {area} cmsqr\""
   ]
  },
  {
   "cell_type": "code",
   "execution_count": 50,
   "id": "17345f8b-36a8-46a2-aa03-0df96ec17e77",
   "metadata": {},
   "outputs": [
    {
     "data": {
      "text/plain": [
       "'parameter of the circle in the cmsquare 188.4 cmsqr'"
      ]
     },
     "execution_count": 50,
     "metadata": {},
     "output_type": "execute_result"
    }
   ],
   "source": [
    "cicle(30)"
   ]
  },
  {
   "cell_type": "code",
   "execution_count": 51,
   "id": "c2ca8a7c-30b8-4824-9d77-24ecb64bbc55",
   "metadata": {},
   "outputs": [],
   "source": [
    "def grade(mark):\n",
    "    if mark < 0 or mark > 100: \n",
    "        print(\"Invalid marks are entered!\")\n",
    "    elif mark >= 0 and mark < 35 :\n",
    "        print(\"Sorry you failed!\")\n",
    "    elif mark >= 36 and mark <= 60:\n",
    "        print(\"You passed in second class\")\n",
    "    elif mark >= 61 and mark <= 80 :\n",
    "        print(\"You passed in first class\")\n",
    "    elif mark >= 90 and mark <= 100:\n",
    "        print(\"you are in the merit list\")\n",
    "    else :\n",
    "        print(\"You got distinction!\")"
   ]
  },
  {
   "cell_type": "code",
   "execution_count": 52,
   "id": "4a3b9156-6c44-48bc-b7d2-3e8262dadc89",
   "metadata": {},
   "outputs": [
    {
     "name": "stdout",
     "output_type": "stream",
     "text": [
      "You passed in second class\n"
     ]
    }
   ],
   "source": [
    "grade(59)"
   ]
  },
  {
   "cell_type": "code",
   "execution_count": 53,
   "id": "bcd79b4c-829a-4e48-828f-0ed95e7888e9",
   "metadata": {},
   "outputs": [],
   "source": [
    "def grade1(mark):\n",
    "    try:\n",
    "        if mark < 0 or mark > 100: \n",
    "            print(\"Invalid marks are entered!\")\n",
    "        elif mark >= 0 and mark < 35 :\n",
    "            print(\"Sorry you failed!\")\n",
    "        elif mark >= 36 and mark <= 60:\n",
    "            print(\"You passed in second class\")\n",
    "        elif mark >= 61 and mark <= 80 :\n",
    "            print(\"You passed in first class\")\n",
    "        elif mark >= 90 and mark <= 100:\n",
    "            print(\"you are in the merit list\")\n",
    "        else :\n",
    "            print(\"You got distinction!\")\n",
    "    except Exception as e:\n",
    "        print(e)"
   ]
  },
  {
   "cell_type": "code",
   "execution_count": 54,
   "id": "af6d484a-48dd-4b48-8711-809410a963c2",
   "metadata": {},
   "outputs": [
    {
     "name": "stdout",
     "output_type": "stream",
     "text": [
      "You got distinction!\n"
     ]
    }
   ],
   "source": [
    "grade1(89)"
   ]
  },
  {
   "cell_type": "code",
   "execution_count": 55,
   "id": "da433aae-84f2-4aee-ba41-7172de8d1785",
   "metadata": {},
   "outputs": [
    {
     "name": "stdout",
     "output_type": "stream",
     "text": [
      "You got distinction!\n"
     ]
    }
   ],
   "source": [
    "grade1(89.7)"
   ]
  },
  {
   "cell_type": "code",
   "execution_count": 56,
   "id": "e40161b3-7457-49bd-853c-99de1ce5719f",
   "metadata": {},
   "outputs": [
    {
     "name": "stdout",
     "output_type": "stream",
     "text": [
      "'<' not supported between instances of 'str' and 'int'\n"
     ]
    }
   ],
   "source": [
    "grade1(\"89\")"
   ]
  },
  {
   "cell_type": "code",
   "execution_count": 57,
   "id": "ff520a2b-226e-479f-8f00-4a6242f89c46",
   "metadata": {},
   "outputs": [],
   "source": [
    "def palindrom(text):\n",
    "    text = text.lower()\n",
    "    text1 = text[::-1]\n",
    "    if text == text1:\n",
    "        print(\"yes\")\n",
    "    else:\n",
    "        print(\"No\")\n",
    "    "
   ]
  },
  {
   "cell_type": "code",
   "execution_count": 58,
   "id": "d4e168ea-3018-49a4-8d70-db5fc361c174",
   "metadata": {},
   "outputs": [
    {
     "name": "stdout",
     "output_type": "stream",
     "text": [
      "No\n"
     ]
    }
   ],
   "source": [
    "palindrom(\"python\")"
   ]
  },
  {
   "cell_type": "code",
   "execution_count": 59,
   "id": "be63684c-67a7-4466-ac32-2b028874826b",
   "metadata": {},
   "outputs": [
    {
     "name": "stdout",
     "output_type": "stream",
     "text": [
      "yes\n"
     ]
    }
   ],
   "source": [
    "palindrom(\"123321\")"
   ]
  },
  {
   "cell_type": "code",
   "execution_count": 60,
   "id": "da6e7ab1-c7c5-433b-90d9-7b41aa822e73",
   "metadata": {},
   "outputs": [
    {
     "name": "stdout",
     "output_type": "stream",
     "text": [
      "yes\n"
     ]
    }
   ],
   "source": [
    "palindrom(\"madam\")"
   ]
  },
  {
   "cell_type": "code",
   "execution_count": 61,
   "id": "2a64620e-304b-4cda-987c-ac161f23302a",
   "metadata": {},
   "outputs": [
    {
     "data": {
      "text/plain": [
       "750.0"
      ]
     },
     "execution_count": 61,
     "metadata": {},
     "output_type": "execute_result"
    }
   ],
   "source": [
    "60000/80"
   ]
  },
  {
   "cell_type": "code",
   "execution_count": 63,
   "id": "a9566c15-e0f0-40ca-ade0-fe370addc72b",
   "metadata": {},
   "outputs": [],
   "source": [
    "def currency_conversion(rupees):\n",
    "    doll = rupees/80\n",
    "    print(f\"rupees {rupees} is equal to {doll} dollar\")"
   ]
  },
  {
   "cell_type": "code",
   "execution_count": 64,
   "id": "c64d43b8-a46c-464e-9840-7a799b772279",
   "metadata": {},
   "outputs": [
    {
     "name": "stdout",
     "output_type": "stream",
     "text": [
      "rupees 60000 is equal to 750.0 dollar\n"
     ]
    }
   ],
   "source": [
    "currency_conversion(60000)"
   ]
  },
  {
   "cell_type": "code",
   "execution_count": 65,
   "id": "0c3dd44d-3282-457f-9253-56c08acc6e2c",
   "metadata": {},
   "outputs": [],
   "source": [
    "def currency_conversion(rupees, doll):\n",
    "    doll = rupees/doll\n",
    "    print(f\"rupees {rupees} is equal to {doll} dollar\")"
   ]
  },
  {
   "cell_type": "code",
   "execution_count": 66,
   "id": "a6c7d38d-64a9-457c-bae0-8ed0b222f0d4",
   "metadata": {},
   "outputs": [
    {
     "name": "stdout",
     "output_type": "stream",
     "text": [
      "rupees 80000 is equal to 909.0909090909091 dollar\n"
     ]
    }
   ],
   "source": [
    "currency_conversion(80000, 88)"
   ]
  },
  {
   "cell_type": "code",
   "execution_count": null,
   "id": "ea6e224d-36a4-4042-88b0-8c21ba9ff186",
   "metadata": {},
   "outputs": [],
   "source": []
  }
 ],
 "metadata": {
  "kernelspec": {
   "display_name": "Python 3 (ipykernel)",
   "language": "python",
   "name": "python3"
  },
  "language_info": {
   "codemirror_mode": {
    "name": "ipython",
    "version": 3
   },
   "file_extension": ".py",
   "mimetype": "text/x-python",
   "name": "python",
   "nbconvert_exporter": "python",
   "pygments_lexer": "ipython3",
   "version": "3.11.7"
  }
 },
 "nbformat": 4,
 "nbformat_minor": 5
}
